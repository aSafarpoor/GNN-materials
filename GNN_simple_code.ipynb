{
  "nbformat": 4,
  "nbformat_minor": 0,
  "metadata": {
    "colab": {
      "name": "GNN simple code.ipynb",
      "provenance": [],
      "collapsed_sections": [],
      "authorship_tag": "ABX9TyPMWLFHqffSryHlHpz/7uXD",
      "include_colab_link": true
    },
    "kernelspec": {
      "name": "python3",
      "display_name": "Python 3"
    },
    "language_info": {
      "name": "python"
    },
    "accelerator": "GPU",
    "gpuClass": "standard"
  },
  "cells": [
    {
      "cell_type": "markdown",
      "metadata": {
        "id": "view-in-github",
        "colab_type": "text"
      },
      "source": [
        "<a href=\"https://colab.research.google.com/github/aSafarpoor/GNN-online-course/blob/main/GNN_simple_code.ipynb\" target=\"_parent\"><img src=\"https://colab.research.google.com/assets/colab-badge.svg\" alt=\"Open In Colab\"/></a>"
      ]
    },
    {
      "cell_type": "markdown",
      "source": [
        "Based on: https://towardsdatascience.com/program-a-simple-graph-net-in-pytorch-e00b500a642d\n",
        "\n",
        "Source: https://github.com/praxidike97/GraphNeuralNet/blob/72c330bb6e64dd7dd6784b6e69a821149dc5d028/main.py#L114"
      ],
      "metadata": {
        "id": "EK9jTVUpQz7W"
      }
    },
    {
      "cell_type": "code",
      "source": [
        "# solved import problem with help of https://gist.github.com/ameya98/b193856171d11d37ada46458f60e73e7 \n",
        "\n",
        "\n",
        "# Add this in a Google Colab cell to install the correct version of Pytorch Geometric.\n",
        "import torch\n",
        "\n",
        "def format_pytorch_version(version):\n",
        "  return version.split('+')[0]\n",
        "\n",
        "TORCH_version = torch.__version__\n",
        "TORCH = format_pytorch_version(TORCH_version)\n",
        "\n",
        "def format_cuda_version(version):\n",
        "  return 'cu' + version.replace('.', '')\n",
        "\n",
        "CUDA_version = torch.version.cuda\n",
        "CUDA = format_cuda_version(CUDA_version)\n",
        "\n",
        "!pip install torch-scatter     -f https://pytorch-geometric.com/whl/torch-{TORCH}+{CUDA}.html\n",
        "!pip install torch-sparse      -f https://pytorch-geometric.com/whl/torch-{TORCH}+{CUDA}.html\n",
        "!pip install torch-cluster     -f https://pytorch-geometric.com/whl/torch-{TORCH}+{CUDA}.html\n",
        "!pip install torch-spline-conv -f https://pytorch-geometric.com/whl/torch-{TORCH}+{CUDA}.html\n",
        "!pip install torch-geometric "
      ],
      "metadata": {
        "colab": {
          "base_uri": "https://localhost:8080/"
        },
        "id": "reGnJdezSfWV",
        "outputId": "b63ea565-81f2-4847-c42a-bfcdd83eceed"
      },
      "execution_count": 4,
      "outputs": [
        {
          "output_type": "stream",
          "name": "stdout",
          "text": [
            "Looking in indexes: https://pypi.org/simple, https://us-python.pkg.dev/colab-wheels/public/simple/\n",
            "Looking in links: https://pytorch-geometric.com/whl/torch-1.12.1+cu113.html\n",
            "Collecting torch-scatter\n",
            "  Downloading https://data.pyg.org/whl/torch-1.12.0%2Bcu113/torch_scatter-2.0.9-cp37-cp37m-linux_x86_64.whl (7.9 MB)\n",
            "\u001b[K     |████████████████████████████████| 7.9 MB 5.3 MB/s \n",
            "\u001b[?25hInstalling collected packages: torch-scatter\n",
            "Successfully installed torch-scatter-2.0.9\n",
            "Looking in indexes: https://pypi.org/simple, https://us-python.pkg.dev/colab-wheels/public/simple/\n",
            "Looking in links: https://pytorch-geometric.com/whl/torch-1.12.1+cu113.html\n",
            "Collecting torch-sparse\n",
            "  Downloading https://data.pyg.org/whl/torch-1.12.0%2Bcu113/torch_sparse-0.6.15-cp37-cp37m-linux_x86_64.whl (3.5 MB)\n",
            "\u001b[K     |████████████████████████████████| 3.5 MB 5.3 MB/s \n",
            "\u001b[?25hRequirement already satisfied: scipy in /usr/local/lib/python3.7/dist-packages (from torch-sparse) (1.7.3)\n",
            "Requirement already satisfied: numpy<1.23.0,>=1.16.5 in /usr/local/lib/python3.7/dist-packages (from scipy->torch-sparse) (1.21.6)\n",
            "Installing collected packages: torch-sparse\n",
            "Successfully installed torch-sparse-0.6.15\n",
            "Looking in indexes: https://pypi.org/simple, https://us-python.pkg.dev/colab-wheels/public/simple/\n",
            "Looking in links: https://pytorch-geometric.com/whl/torch-1.12.1+cu113.html\n",
            "Collecting torch-cluster\n",
            "  Downloading https://data.pyg.org/whl/torch-1.12.0%2Bcu113/torch_cluster-1.6.0-cp37-cp37m-linux_x86_64.whl (2.4 MB)\n",
            "\u001b[K     |████████████████████████████████| 2.4 MB 5.2 MB/s \n",
            "\u001b[?25hInstalling collected packages: torch-cluster\n",
            "Successfully installed torch-cluster-1.6.0\n",
            "Looking in indexes: https://pypi.org/simple, https://us-python.pkg.dev/colab-wheels/public/simple/\n",
            "Looking in links: https://pytorch-geometric.com/whl/torch-1.12.1+cu113.html\n",
            "Collecting torch-spline-conv\n",
            "  Downloading https://data.pyg.org/whl/torch-1.12.0%2Bcu113/torch_spline_conv-1.2.1-cp37-cp37m-linux_x86_64.whl (709 kB)\n",
            "\u001b[K     |████████████████████████████████| 709 kB 5.1 MB/s \n",
            "\u001b[?25hInstalling collected packages: torch-spline-conv\n",
            "Successfully installed torch-spline-conv-1.2.1\n",
            "Looking in indexes: https://pypi.org/simple, https://us-python.pkg.dev/colab-wheels/public/simple/\n",
            "Requirement already satisfied: torch-geometric in /usr/local/lib/python3.7/dist-packages (2.1.0)\n",
            "Requirement already satisfied: scipy in /usr/local/lib/python3.7/dist-packages (from torch-geometric) (1.7.3)\n",
            "Requirement already satisfied: scikit-learn in /usr/local/lib/python3.7/dist-packages (from torch-geometric) (1.0.2)\n",
            "Requirement already satisfied: requests in /usr/local/lib/python3.7/dist-packages (from torch-geometric) (2.23.0)\n",
            "Requirement already satisfied: jinja2 in /usr/local/lib/python3.7/dist-packages (from torch-geometric) (2.11.3)\n",
            "Requirement already satisfied: numpy in /usr/local/lib/python3.7/dist-packages (from torch-geometric) (1.21.6)\n",
            "Requirement already satisfied: pyparsing in /usr/local/lib/python3.7/dist-packages (from torch-geometric) (3.0.9)\n",
            "Requirement already satisfied: tqdm in /usr/local/lib/python3.7/dist-packages (from torch-geometric) (4.64.0)\n",
            "Requirement already satisfied: MarkupSafe>=0.23 in /usr/local/lib/python3.7/dist-packages (from jinja2->torch-geometric) (2.0.1)\n",
            "Requirement already satisfied: idna<3,>=2.5 in /usr/local/lib/python3.7/dist-packages (from requests->torch-geometric) (2.10)\n",
            "Requirement already satisfied: certifi>=2017.4.17 in /usr/local/lib/python3.7/dist-packages (from requests->torch-geometric) (2022.6.15)\n",
            "Requirement already satisfied: chardet<4,>=3.0.2 in /usr/local/lib/python3.7/dist-packages (from requests->torch-geometric) (3.0.4)\n",
            "Requirement already satisfied: urllib3!=1.25.0,!=1.25.1,<1.26,>=1.21.1 in /usr/local/lib/python3.7/dist-packages (from requests->torch-geometric) (1.24.3)\n",
            "Requirement already satisfied: threadpoolctl>=2.0.0 in /usr/local/lib/python3.7/dist-packages (from scikit-learn->torch-geometric) (3.1.0)\n",
            "Requirement already satisfied: joblib>=0.11 in /usr/local/lib/python3.7/dist-packages (from scikit-learn->torch-geometric) (1.1.0)\n"
          ]
        }
      ]
    },
    {
      "cell_type": "code",
      "source": [
        "from torch_geometric.datasets import Planetoid\n",
        "import torch\n",
        "import torch.nn.functional as F\n",
        "from torch_geometric.nn import MessagePassing\n",
        "from torch_geometric.utils import add_self_loops, degree\n",
        "import networkx as nx\n",
        "import numpy as np\n",
        "import matplotlib.pyplot as plt"
      ],
      "metadata": {
        "id": "PJqdawcjQ7mO"
      },
      "execution_count": 6,
      "outputs": []
    },
    {
      "cell_type": "code",
      "source": [
        "class GCNConv(MessagePassing):\n",
        "    def __init__(self, in_channels, out_channels):\n",
        "        super(GCNConv, self).__init__(aggr='add')  # \"Add\" aggregation\n",
        "        self.lin = torch.nn.Linear(in_channels, out_channels)\n",
        "\n",
        "    def forward(self, x, edge_index):\n",
        "        # Step 1: Add self-loops\n",
        "        edge_index, _ = add_self_loops(edge_index, num_nodes=x.size(0))\n",
        "\n",
        "        # Step 2: Multiply with weights\n",
        "        x = self.lin(x)\n",
        "\n",
        "        # Step 3: Calculate the normalization\n",
        "        row, col = edge_index\n",
        "        deg = degree(row, x.size(0), dtype=x.dtype)\n",
        "        deg_inv_sqrt = deg.pow(-0.5)\n",
        "        norm = deg_inv_sqrt[row] * deg_inv_sqrt[col]\n",
        "\n",
        "        # Step 4: Propagate the embeddings to the next layer\n",
        "        return self.propagate(edge_index, size=(x.size(0), x.size(0)), x=x,\n",
        "                              norm=norm)\n",
        "\n",
        "    def message(self, x_j, norm):\n",
        "        # Normalize node features.\n",
        "        return norm.view(-1, 1) * x_j"
      ],
      "metadata": {
        "id": "YJuvAnssQ9-5"
      },
      "execution_count": 7,
      "outputs": []
    },
    {
      "cell_type": "code",
      "source": [
        "class Net(torch.nn.Module):\n",
        "    def __init__(self, dataset):\n",
        "        super(Net, self).__init__()\n",
        "        self.conv1 = GCNConv(dataset.num_node_features, 16)\n",
        "        self.conv2 = GCNConv(16, dataset.num_classes)\n",
        "\n",
        "    def forward(self, data):\n",
        "        x, edge_index = data.x, data.edge_index\n",
        "\n",
        "        x = self.conv1(x, edge_index)\n",
        "        x = F.relu(x)\n",
        "        x = F.dropout(x, training=self.training)\n",
        "        x = self.conv2(x, edge_index)\n",
        "\n",
        "        return F.log_softmax(x, dim=1)"
      ],
      "metadata": {
        "id": "UoAZzg3OTVMq"
      },
      "execution_count": 8,
      "outputs": []
    },
    {
      "cell_type": "code",
      "source": [
        "def plot_dataset(dataset):\n",
        "    edges_raw = dataset.data.edge_index.numpy()\n",
        "    edges = [(x, y) for x, y in zip(edges_raw[0, :], edges_raw[1, :])]\n",
        "    labels = dataset.data.y.numpy()\n",
        "\n",
        "    G = nx.Graph()\n",
        "    G.add_nodes_from(list(range(np.max(edges_raw))))\n",
        "    G.add_edges_from(edges)\n",
        "    plt.subplot(111)\n",
        "    options = {\n",
        "                'node_size': 30,\n",
        "                'width': 0.2,\n",
        "    }\n",
        "    nx.draw(G, with_labels=False, node_color=labels.tolist(), cmap=plt.cm.tab10, font_weight='bold', **options)\n",
        "    plt.show()"
      ],
      "metadata": {
        "id": "2hUZxQ1sTX4K"
      },
      "execution_count": 9,
      "outputs": []
    },
    {
      "cell_type": "code",
      "source": [
        "def test(data, train=True):\n",
        "    model.eval()\n",
        "\n",
        "    correct = 0\n",
        "    pred = model(data).max(dim=1)[1]\n",
        "\n",
        "    if train:\n",
        "        correct += pred[data.train_mask].eq(data.y[data.train_mask]).sum().item()\n",
        "        return correct / (len(data.y[data.train_mask]))\n",
        "    else:\n",
        "        correct += pred[data.test_mask].eq(data.y[data.test_mask]).sum().item()\n",
        "        return correct / (len(data.y[data.test_mask]))\n"
      ],
      "metadata": {
        "id": "pOjFfhimTaKV"
      },
      "execution_count": 10,
      "outputs": []
    },
    {
      "cell_type": "code",
      "source": [
        "def train(data, plot=False):\n",
        "    train_accuracies, test_accuracies = list(), list()\n",
        "    for epoch in range(100):\n",
        "            model.train()\n",
        "            optimizer.zero_grad()\n",
        "            out = model(data)\n",
        "            loss = F.nll_loss(out[data.train_mask], data.y[data.train_mask])\n",
        "            loss.backward()\n",
        "            optimizer.step()\n",
        "\n",
        "            train_acc = test(data)\n",
        "            test_acc = test(data, train=False)\n",
        "\n",
        "            train_accuracies.append(train_acc)\n",
        "            test_accuracies.append(test_acc)\n",
        "            print('Epoch: {:03d}, Loss: {:.5f}, Train Acc: {:.5f}, Test Acc: {:.5f}'.\n",
        "                  format(epoch, loss, train_acc, test_acc))\n",
        "\n",
        "    if plot:\n",
        "        plt.plot(train_accuracies, label=\"Train accuracy\")\n",
        "        plt.plot(test_accuracies, label=\"Validation accuracy\")\n",
        "        plt.xlabel(\"# Epoch\")\n",
        "        plt.ylabel(\"Accuracy\")\n",
        "        plt.legend(loc='upper right')\n",
        "        plt.show()"
      ],
      "metadata": {
        "id": "5PmYsS47TaOB"
      },
      "execution_count": 11,
      "outputs": []
    },
    {
      "cell_type": "code",
      "execution_count": 12,
      "metadata": {
        "colab": {
          "base_uri": "https://localhost:8080/",
          "height": 1000
        },
        "id": "vhY46FllQulP",
        "outputId": "df4c8b4c-6c8e-4ca4-87de-1851f6c8cd2a"
      },
      "outputs": [
        {
          "metadata": {
            "tags": null
          },
          "name": "stderr",
          "output_type": "stream",
          "text": [
            "Downloading https://github.com/kimiyoung/planetoid/raw/master/data/ind.cora.x\n",
            "Downloading https://github.com/kimiyoung/planetoid/raw/master/data/ind.cora.tx\n",
            "Downloading https://github.com/kimiyoung/planetoid/raw/master/data/ind.cora.allx\n",
            "Downloading https://github.com/kimiyoung/planetoid/raw/master/data/ind.cora.y\n",
            "Downloading https://github.com/kimiyoung/planetoid/raw/master/data/ind.cora.ty\n",
            "Downloading https://github.com/kimiyoung/planetoid/raw/master/data/ind.cora.ally\n",
            "Downloading https://github.com/kimiyoung/planetoid/raw/master/data/ind.cora.graph\n",
            "Downloading https://github.com/kimiyoung/planetoid/raw/master/data/ind.cora.test.index\n",
            "Processing...\n",
            "Done!\n"
          ]
        },
        {
          "data": {
            "image/png": "[encoded data removed]",
            "text/plain": [
              "<Figure size 432x288 with 1 Axes>"
            ]
          },
          "metadata": {},
          "output_type": "display_data"
        },
        {
          "metadata": {
            "tags": null
          },
          "name": "stdout",
          "output_type": "stream",
          "text": [
            "Epoch: 000, Loss: 1.95124, Train Acc: 0.35000, Test Acc: 0.26800\n",
            "Epoch: 001, Loss: 1.90227, Train Acc: 0.46429, Test Acc: 0.32400\n",
            "Epoch: 002, Loss: 1.83151, Train Acc: 0.59286, Test Acc: 0.35200\n",
            "Epoch: 003, Loss: 1.75122, Train Acc: 0.67143, Test Acc: 0.39100\n",
            "Epoch: 004, Loss: 1.66074, Train Acc: 0.71429, Test Acc: 0.43600\n",
            "Epoch: 005, Loss: 1.57273, Train Acc: 0.78571, Test Acc: 0.46800\n",
            "Epoch: 006, Loss: 1.48082, Train Acc: 0.84286, Test Acc: 0.49900\n",
            "Epoch: 007, Loss: 1.36652, Train Acc: 0.88571, Test Acc: 0.52400\n",
            "Epoch: 008, Loss: 1.27551, Train Acc: 0.90000, Test Acc: 0.55600\n",
            "Epoch: 009, Loss: 1.18431, Train Acc: 0.92857, Test Acc: 0.60300\n",
            "Epoch: 010, Loss: 1.05862, Train Acc: 0.95000, Test Acc: 0.63700\n",
            "Epoch: 011, Loss: 0.99533, Train Acc: 0.97143, Test Acc: 0.67200\n",
            "Epoch: 012, Loss: 0.89667, Train Acc: 0.97143, Test Acc: 0.69400\n",
            "Epoch: 013, Loss: 0.79450, Train Acc: 0.97143, Test Acc: 0.71600\n",
            "Epoch: 014, Loss: 0.74518, Train Acc: 0.98571, Test Acc: 0.73000\n",
            "Epoch: 015, Loss: 0.69796, Train Acc: 0.98571, Test Acc: 0.74100\n",
            "Epoch: 016, Loss: 0.60859, Train Acc: 0.98571, Test Acc: 0.75500\n",
            "Epoch: 017, Loss: 0.55435, Train Acc: 0.98571, Test Acc: 0.76000\n",
            "Epoch: 018, Loss: 0.51445, Train Acc: 0.98571, Test Acc: 0.76700\n",
            "Epoch: 019, Loss: 0.39371, Train Acc: 0.98571, Test Acc: 0.76700\n",
            "Epoch: 020, Loss: 0.39568, Train Acc: 0.98571, Test Acc: 0.76900\n",
            "Epoch: 021, Loss: 0.35046, Train Acc: 0.98571, Test Acc: 0.76800\n",
            "Epoch: 022, Loss: 0.33762, Train Acc: 0.98571, Test Acc: 0.77100\n",
            "Epoch: 023, Loss: 0.27185, Train Acc: 0.98571, Test Acc: 0.77200\n",
            "Epoch: 024, Loss: 0.23929, Train Acc: 0.99286, Test Acc: 0.77100\n",
            "Epoch: 025, Loss: 0.22144, Train Acc: 0.99286, Test Acc: 0.76900\n",
            "Epoch: 026, Loss: 0.18865, Train Acc: 0.99286, Test Acc: 0.76600\n",
            "Epoch: 027, Loss: 0.19363, Train Acc: 0.99286, Test Acc: 0.76600\n",
            "Epoch: 028, Loss: 0.16839, Train Acc: 0.99286, Test Acc: 0.76300\n",
            "Epoch: 029, Loss: 0.16069, Train Acc: 1.00000, Test Acc: 0.76400\n",
            "Epoch: 030, Loss: 0.12616, Train Acc: 1.00000, Test Acc: 0.76700\n",
            "Epoch: 031, Loss: 0.12261, Train Acc: 1.00000, Test Acc: 0.76900\n",
            "Epoch: 032, Loss: 0.11049, Train Acc: 1.00000, Test Acc: 0.76900\n",
            "Epoch: 033, Loss: 0.10771, Train Acc: 1.00000, Test Acc: 0.77600\n",
            "Epoch: 034, Loss: 0.12052, Train Acc: 1.00000, Test Acc: 0.77700\n",
            "Epoch: 035, Loss: 0.08968, Train Acc: 1.00000, Test Acc: 0.78000\n",
            "Epoch: 036, Loss: 0.10497, Train Acc: 1.00000, Test Acc: 0.78100\n",
            "Epoch: 037, Loss: 0.09141, Train Acc: 1.00000, Test Acc: 0.78300\n",
            "Epoch: 038, Loss: 0.10070, Train Acc: 1.00000, Test Acc: 0.78600\n",
            "Epoch: 039, Loss: 0.08210, Train Acc: 1.00000, Test Acc: 0.78200\n",
            "Epoch: 040, Loss: 0.09172, Train Acc: 1.00000, Test Acc: 0.78300\n",
            "Epoch: 041, Loss: 0.07613, Train Acc: 1.00000, Test Acc: 0.78400\n",
            "Epoch: 042, Loss: 0.08255, Train Acc: 1.00000, Test Acc: 0.78700\n",
            "Epoch: 043, Loss: 0.07820, Train Acc: 1.00000, Test Acc: 0.78500\n",
            "Epoch: 044, Loss: 0.04433, Train Acc: 1.00000, Test Acc: 0.78400\n",
            "Epoch: 045, Loss: 0.07770, Train Acc: 1.00000, Test Acc: 0.78300\n",
            "Epoch: 046, Loss: 0.04646, Train Acc: 1.00000, Test Acc: 0.78200\n",
            "Epoch: 047, Loss: 0.05666, Train Acc: 1.00000, Test Acc: 0.78100\n",
            "Epoch: 048, Loss: 0.05847, Train Acc: 1.00000, Test Acc: 0.77800\n",
            "Epoch: 049, Loss: 0.06615, Train Acc: 1.00000, Test Acc: 0.77600\n",
            "Epoch: 050, Loss: 0.05839, Train Acc: 1.00000, Test Acc: 0.77700\n",
            "Epoch: 051, Loss: 0.05952, Train Acc: 1.00000, Test Acc: 0.77600\n",
            "Epoch: 052, Loss: 0.05450, Train Acc: 1.00000, Test Acc: 0.77500\n",
            "Epoch: 053, Loss: 0.06915, Train Acc: 1.00000, Test Acc: 0.77400\n",
            "Epoch: 054, Loss: 0.04881, Train Acc: 1.00000, Test Acc: 0.77600\n",
            "Epoch: 055, Loss: 0.03583, Train Acc: 1.00000, Test Acc: 0.77600\n",
            "Epoch: 056, Loss: 0.04735, Train Acc: 1.00000, Test Acc: 0.77800\n",
            "Epoch: 057, Loss: 0.05397, Train Acc: 1.00000, Test Acc: 0.77700\n",
            "Epoch: 058, Loss: 0.05163, Train Acc: 1.00000, Test Acc: 0.77800\n",
            "Epoch: 059, Loss: 0.04588, Train Acc: 1.00000, Test Acc: 0.78100\n",
            "Epoch: 060, Loss: 0.06613, Train Acc: 1.00000, Test Acc: 0.78000\n",
            "Epoch: 061, Loss: 0.04145, Train Acc: 1.00000, Test Acc: 0.78300\n",
            "Epoch: 062, Loss: 0.06157, Train Acc: 1.00000, Test Acc: 0.78400\n",
            "Epoch: 063, Loss: 0.04315, Train Acc: 1.00000, Test Acc: 0.78600\n",
            "Epoch: 064, Loss: 0.03366, Train Acc: 1.00000, Test Acc: 0.78500\n",
            "Epoch: 065, Loss: 0.06017, Train Acc: 1.00000, Test Acc: 0.78600\n",
            "Epoch: 066, Loss: 0.04923, Train Acc: 1.00000, Test Acc: 0.78800\n",
            "Epoch: 067, Loss: 0.04948, Train Acc: 1.00000, Test Acc: 0.78700\n",
            "Epoch: 068, Loss: 0.04358, Train Acc: 1.00000, Test Acc: 0.79200\n",
            "Epoch: 069, Loss: 0.06374, Train Acc: 1.00000, Test Acc: 0.79200\n",
            "Epoch: 070, Loss: 0.06031, Train Acc: 1.00000, Test Acc: 0.79300\n",
            "Epoch: 071, Loss: 0.06483, Train Acc: 1.00000, Test Acc: 0.79200\n",
            "Epoch: 072, Loss: 0.05635, Train Acc: 1.00000, Test Acc: 0.79200\n",
            "Epoch: 073, Loss: 0.05219, Train Acc: 1.00000, Test Acc: 0.79000\n",
            "Epoch: 074, Loss: 0.05656, Train Acc: 1.00000, Test Acc: 0.79200\n",
            "Epoch: 075, Loss: 0.04209, Train Acc: 1.00000, Test Acc: 0.79000\n",
            "Epoch: 076, Loss: 0.04519, Train Acc: 1.00000, Test Acc: 0.79000\n",
            "Epoch: 077, Loss: 0.06373, Train Acc: 1.00000, Test Acc: 0.78800\n",
            "Epoch: 078, Loss: 0.05326, Train Acc: 1.00000, Test Acc: 0.78800\n",
            "Epoch: 079, Loss: 0.04086, Train Acc: 1.00000, Test Acc: 0.78200\n",
            "Epoch: 080, Loss: 0.05902, Train Acc: 1.00000, Test Acc: 0.78100\n",
            "Epoch: 081, Loss: 0.04886, Train Acc: 1.00000, Test Acc: 0.78100\n",
            "Epoch: 082, Loss: 0.06903, Train Acc: 1.00000, Test Acc: 0.78300\n",
            "Epoch: 083, Loss: 0.05910, Train Acc: 1.00000, Test Acc: 0.77800\n",
            "Epoch: 084, Loss: 0.05377, Train Acc: 1.00000, Test Acc: 0.78100\n",
            "Epoch: 085, Loss: 0.07481, Train Acc: 1.00000, Test Acc: 0.77900\n",
            "Epoch: 086, Loss: 0.05281, Train Acc: 1.00000, Test Acc: 0.77900\n",
            "Epoch: 087, Loss: 0.04301, Train Acc: 1.00000, Test Acc: 0.78100\n",
            "Epoch: 088, Loss: 0.06064, Train Acc: 1.00000, Test Acc: 0.78200\n",
            "Epoch: 089, Loss: 0.03391, Train Acc: 1.00000, Test Acc: 0.78200\n",
            "Epoch: 090, Loss: 0.05166, Train Acc: 1.00000, Test Acc: 0.78800\n",
            "Epoch: 091, Loss: 0.05556, Train Acc: 1.00000, Test Acc: 0.78800\n",
            "Epoch: 092, Loss: 0.06462, Train Acc: 1.00000, Test Acc: 0.79100\n",
            "Epoch: 093, Loss: 0.06073, Train Acc: 1.00000, Test Acc: 0.79000\n",
            "Epoch: 094, Loss: 0.04955, Train Acc: 1.00000, Test Acc: 0.79100\n",
            "Epoch: 095, Loss: 0.05755, Train Acc: 1.00000, Test Acc: 0.79000\n",
            "Epoch: 096, Loss: 0.03526, Train Acc: 1.00000, Test Acc: 0.79100\n",
            "Epoch: 097, Loss: 0.03919, Train Acc: 1.00000, Test Acc: 0.79000\n",
            "Epoch: 098, Loss: 0.04759, Train Acc: 1.00000, Test Acc: 0.78700\n",
            "Epoch: 099, Loss: 0.05848, Train Acc: 1.00000, Test Acc: 0.78600\n"
          ]
        },
        {
          "data": {
            "image/png": "[encoded data removed]",
            "text/plain": [
              "<Figure size 432x288 with 1 Axes>"
            ]
          },
          "metadata": {},
          "output_type": "display_data"
        }
      ],
      "source": [
        "__name__ = \"__main__\"\n",
        "\n",
        "if __name__ == \"__main__\":\n",
        "    dataset = Planetoid(root='/tmp/Cora', name='Cora')\n",
        "    \n",
        "    plot_dataset(dataset)\n",
        "\n",
        "    device = torch.device('cuda' if torch.cuda.is_available() else 'cpu')\n",
        "    model = Net(dataset).to(device)\n",
        "    data = dataset[0].to(device)\n",
        "    optimizer = torch.optim.Adam(model.parameters(), lr=0.01, weight_decay=5e-4)\n",
        "\n",
        "    train(data, plot=True)"
      ]
    },
    {
      "cell_type": "code",
      "source": [
        ""
      ],
      "metadata": {
        "id": "_Yx4x4lZTm-n"
      },
      "execution_count": null,
      "outputs": []
    }
  ]
}