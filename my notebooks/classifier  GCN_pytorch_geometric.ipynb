{
  "nbformat": 4,
  "nbformat_minor": 0,
  "metadata": {
    "colab": {
      "provenance": [],
      "collapsed_sections": []
    },
    "kernelspec": {
      "name": "python3",
      "display_name": "Python 3"
    },
    "language_info": {
      "name": "python"
    }
  },
  "cells": [
    {
      "cell_type": "markdown",
      "source": [
        "source: https://github.com/pyg-team/pytorch_geometric/blob/master/examples/gcn.py"
      ],
      "metadata": {
        "id": "v0u2rBwA_Y9m"
      }
    },
    {
      "cell_type": "code",
      "source": [
        "# solved import problem with help of https://gist.github.com/ameya98/b193856171d11d37ada46458f60e73e7 \n",
        "\n",
        "\n",
        "# Add this in a Google Colab cell to install the correct version of Pytorch Geometric.\n",
        "import torch\n",
        "\n",
        "def format_pytorch_version(version):\n",
        "  return version.split('+')[0]\n",
        "\n",
        "TORCH_version = torch.__version__\n",
        "TORCH = format_pytorch_version(TORCH_version)\n",
        "\n",
        "def format_cuda_version(version):\n",
        "  return 'cu' + version.replace('.', '')\n",
        "\n",
        "CUDA_version = torch.version.cuda\n",
        "CUDA = format_cuda_version(CUDA_version)\n",
        "\n",
        "!pip install torch-scatter     -f https://pytorch-geometric.com/whl/torch-{TORCH}+{CUDA}.html\n",
        "!pip install torch-sparse      -f https://pytorch-geometric.com/whl/torch-{TORCH}+{CUDA}.html\n",
        "!pip install torch-cluster     -f https://pytorch-geometric.com/whl/torch-{TORCH}+{CUDA}.html\n",
        "!pip install torch-spline-conv -f https://pytorch-geometric.com/whl/torch-{TORCH}+{CUDA}.html\n",
        "!pip install torch-geometric"
      ],
      "metadata": {
        "colab": {
          "base_uri": "https://localhost:8080/"
        },
        "id": "_N59Wlf4CrWq",
        "outputId": "783b77f1-5d04-4973-9675-7a4e40e37ecb"
      },
      "execution_count": 2,
      "outputs": [
        {
          "output_type": "stream",
          "name": "stdout",
          "text": [
            "Looking in indexes: https://pypi.org/simple, https://us-python.pkg.dev/colab-wheels/public/simple/\n",
            "Looking in links: https://pytorch-geometric.com/whl/torch-1.12.1+cu113.html\n",
            "Collecting torch-scatter\n",
            "  Downloading https://data.pyg.org/whl/torch-1.12.0%2Bcu113/torch_scatter-2.0.9-cp37-cp37m-linux_x86_64.whl (7.9 MB)\n",
            "\u001b[K     |████████████████████████████████| 7.9 MB 5.0 MB/s \n",
            "\u001b[?25hInstalling collected packages: torch-scatter\n",
            "Successfully installed torch-scatter-2.0.9\n",
            "Looking in indexes: https://pypi.org/simple, https://us-python.pkg.dev/colab-wheels/public/simple/\n",
            "Looking in links: https://pytorch-geometric.com/whl/torch-1.12.1+cu113.html\n",
            "Collecting torch-sparse\n",
            "  Downloading https://data.pyg.org/whl/torch-1.12.0%2Bcu113/torch_sparse-0.6.15-cp37-cp37m-linux_x86_64.whl (3.5 MB)\n",
            "\u001b[K     |████████████████████████████████| 3.5 MB 5.2 MB/s \n",
            "\u001b[?25hRequirement already satisfied: scipy in /usr/local/lib/python3.7/dist-packages (from torch-sparse) (1.7.3)\n",
            "Requirement already satisfied: numpy<1.23.0,>=1.16.5 in /usr/local/lib/python3.7/dist-packages (from scipy->torch-sparse) (1.21.6)\n",
            "Installing collected packages: torch-sparse\n",
            "Successfully installed torch-sparse-0.6.15\n",
            "Looking in indexes: https://pypi.org/simple, https://us-python.pkg.dev/colab-wheels/public/simple/\n",
            "Looking in links: https://pytorch-geometric.com/whl/torch-1.12.1+cu113.html\n",
            "Collecting torch-cluster\n",
            "  Downloading https://data.pyg.org/whl/torch-1.12.0%2Bcu113/torch_cluster-1.6.0-cp37-cp37m-linux_x86_64.whl (2.4 MB)\n",
            "\u001b[K     |████████████████████████████████| 2.4 MB 5.2 MB/s \n",
            "\u001b[?25hInstalling collected packages: torch-cluster\n",
            "Successfully installed torch-cluster-1.6.0\n",
            "Looking in indexes: https://pypi.org/simple, https://us-python.pkg.dev/colab-wheels/public/simple/\n",
            "Looking in links: https://pytorch-geometric.com/whl/torch-1.12.1+cu113.html\n",
            "Collecting torch-spline-conv\n",
            "  Downloading https://data.pyg.org/whl/torch-1.12.0%2Bcu113/torch_spline_conv-1.2.1-cp37-cp37m-linux_x86_64.whl (709 kB)\n",
            "\u001b[K     |████████████████████████████████| 709 kB 5.5 MB/s \n",
            "\u001b[?25hInstalling collected packages: torch-spline-conv\n",
            "Successfully installed torch-spline-conv-1.2.1\n",
            "Looking in indexes: https://pypi.org/simple, https://us-python.pkg.dev/colab-wheels/public/simple/\n",
            "Collecting torch-geometric\n",
            "  Downloading torch_geometric-2.1.0.post1.tar.gz (467 kB)\n",
            "\u001b[K     |████████████████████████████████| 467 kB 5.3 MB/s \n",
            "\u001b[?25hRequirement already satisfied: tqdm in /usr/local/lib/python3.7/dist-packages (from torch-geometric) (4.64.0)\n",
            "Requirement already satisfied: numpy in /usr/local/lib/python3.7/dist-packages (from torch-geometric) (1.21.6)\n",
            "Requirement already satisfied: scipy in /usr/local/lib/python3.7/dist-packages (from torch-geometric) (1.7.3)\n",
            "Requirement already satisfied: jinja2 in /usr/local/lib/python3.7/dist-packages (from torch-geometric) (2.11.3)\n",
            "Requirement already satisfied: requests in /usr/local/lib/python3.7/dist-packages (from torch-geometric) (2.23.0)\n",
            "Requirement already satisfied: pyparsing in /usr/local/lib/python3.7/dist-packages (from torch-geometric) (3.0.9)\n",
            "Requirement already satisfied: scikit-learn in /usr/local/lib/python3.7/dist-packages (from torch-geometric) (1.0.2)\n",
            "Requirement already satisfied: MarkupSafe>=0.23 in /usr/local/lib/python3.7/dist-packages (from jinja2->torch-geometric) (2.0.1)\n",
            "Requirement already satisfied: certifi>=2017.4.17 in /usr/local/lib/python3.7/dist-packages (from requests->torch-geometric) (2022.6.15)\n",
            "Requirement already satisfied: chardet<4,>=3.0.2 in /usr/local/lib/python3.7/dist-packages (from requests->torch-geometric) (3.0.4)\n",
            "Requirement already satisfied: idna<3,>=2.5 in /usr/local/lib/python3.7/dist-packages (from requests->torch-geometric) (2.10)\n",
            "Requirement already satisfied: urllib3!=1.25.0,!=1.25.1,<1.26,>=1.21.1 in /usr/local/lib/python3.7/dist-packages (from requests->torch-geometric) (1.24.3)\n",
            "Requirement already satisfied: joblib>=0.11 in /usr/local/lib/python3.7/dist-packages (from scikit-learn->torch-geometric) (1.1.0)\n",
            "Requirement already satisfied: threadpoolctl>=2.0.0 in /usr/local/lib/python3.7/dist-packages (from scikit-learn->torch-geometric) (3.1.0)\n",
            "Building wheels for collected packages: torch-geometric\n",
            "  Building wheel for torch-geometric (setup.py) ... \u001b[?25l\u001b[?25hdone\n",
            "  Created wheel for torch-geometric: filename=torch_geometric-2.1.0.post1-py3-none-any.whl size=689859 sha256=33d4595386dc936edd2a95257c517a2cec434230c62c47e939e23b1e43d34a54\n",
            "  Stored in directory: /root/.cache/pip/wheels/d1/cb/43/f7f2e472de4d7cff31bceddadc36d634e1e545fbc17961c282\n",
            "Successfully built torch-geometric\n",
            "Installing collected packages: torch-geometric\n",
            "Successfully installed torch-geometric-2.1.0.post1\n"
          ]
        }
      ]
    },
    {
      "cell_type": "code",
      "source": [
        "import argparse\n",
        "import os.path as osp\n",
        "\n",
        "import torch\n",
        "import torch.nn.functional as F\n",
        "\n",
        "import torch_geometric.transforms as T\n",
        "from torch_geometric.datasets import Planetoid\n",
        "from torch_geometric.logging import init_wandb, log\n",
        "from torch_geometric.nn import GCNConv"
      ],
      "metadata": {
        "id": "loQ0v72BBJsH"
      },
      "execution_count": 3,
      "outputs": []
    },
    {
      "cell_type": "code",
      "source": [
        "parser = {}\n",
        "parser['dataset'] = 'Cora'\n",
        "parser['hidden_channels'] = 16\n",
        "parser['lr'] = 0.01\n",
        "parser['epochs'] =200\n",
        "parser['use_gdc'] = 'store_true' # help='Use GDC'\n",
        "parser['wandb'] = 'store_true' # help='Track experiment')\n",
        "args = parser\n",
        "\n",
        "device = torch.device('cuda' if torch.cuda.is_available() else 'cpu')\n",
        "init_wandb(name='GCN-Cora', lr=args['lr'], epochs= args['epochs'],\n",
        "           hidden_channels=args['hidden_channels'], device=device)"
      ],
      "metadata": {
        "id": "e_WTKt-bBKM0"
      },
      "execution_count": 4,
      "outputs": []
    },
    {
      "cell_type": "code",
      "source": [
        "path = osp.join('..', 'data', 'Planetoid')\n",
        "dataset = Planetoid(path, args['dataset'], transform=T.NormalizeFeatures())\n",
        "data = dataset[0]"
      ],
      "metadata": {
        "colab": {
          "base_uri": "https://localhost:8080/"
        },
        "id": "WklxyOQYDUIy",
        "outputId": "48c38075-adf7-4378-f6a4-b432fe69092e"
      },
      "execution_count": 5,
      "outputs": [
        {
          "output_type": "stream",
          "name": "stderr",
          "text": [
            "Downloading https://github.com/kimiyoung/planetoid/raw/master/data/ind.cora.x\n",
            "Downloading https://github.com/kimiyoung/planetoid/raw/master/data/ind.cora.tx\n",
            "Downloading https://github.com/kimiyoung/planetoid/raw/master/data/ind.cora.allx\n",
            "Downloading https://github.com/kimiyoung/planetoid/raw/master/data/ind.cora.y\n",
            "Downloading https://github.com/kimiyoung/planetoid/raw/master/data/ind.cora.ty\n",
            "Downloading https://github.com/kimiyoung/planetoid/raw/master/data/ind.cora.ally\n",
            "Downloading https://github.com/kimiyoung/planetoid/raw/master/data/ind.cora.graph\n",
            "Downloading https://github.com/kimiyoung/planetoid/raw/master/data/ind.cora.test.index\n",
            "Processing...\n",
            "Done!\n"
          ]
        }
      ]
    },
    {
      "cell_type": "code",
      "source": [
        "data"
      ],
      "metadata": {
        "colab": {
          "base_uri": "https://localhost:8080/"
        },
        "id": "qPQMLJoghti3",
        "outputId": "420719ae-ec18-475a-e1fe-42bdaa212e3a"
      },
      "execution_count": 6,
      "outputs": [
        {
          "output_type": "execute_result",
          "data": {
            "text/plain": [
              "Data(x=[2708, 1433], edge_index=[2, 10556], y=[2708], train_mask=[2708], val_mask=[2708], test_mask=[2708])"
            ]
          },
          "metadata": {},
          "execution_count": 6
        }
      ]
    },
    {
      "cell_type": "code",
      "source": [
        "data.x"
      ],
      "metadata": {
        "colab": {
          "base_uri": "https://localhost:8080/"
        },
        "id": "bjBImjS-im07",
        "outputId": "212a23c0-8b43-4b57-93f4-bb2d63069249"
      },
      "execution_count": 7,
      "outputs": [
        {
          "output_type": "execute_result",
          "data": {
            "text/plain": [
              "tensor([[0., 0., 0.,  ..., 0., 0., 0.],\n",
              "        [0., 0., 0.,  ..., 0., 0., 0.],\n",
              "        [0., 0., 0.,  ..., 0., 0., 0.],\n",
              "        ...,\n",
              "        [0., 0., 0.,  ..., 0., 0., 0.],\n",
              "        [0., 0., 0.,  ..., 0., 0., 0.],\n",
              "        [0., 0., 0.,  ..., 0., 0., 0.]])"
            ]
          },
          "metadata": {},
          "execution_count": 7
        }
      ]
    },
    {
      "cell_type": "code",
      "source": [
        "sum(data.x)"
      ],
      "metadata": {
        "colab": {
          "base_uri": "https://localhost:8080/"
        },
        "id": "XK8594eqim2E",
        "outputId": "eeec371c-e170-4fcb-c4b1-81fb1180dbc9"
      },
      "execution_count": 8,
      "outputs": [
        {
          "output_type": "execute_result",
          "data": {
            "text/plain": [
              "tensor([0.7399, 1.6961, 3.4994,  ..., 0.3656, 3.2537, 0.6146])"
            ]
          },
          "metadata": {},
          "execution_count": 8
        }
      ]
    },
    {
      "cell_type": "code",
      "source": [
        "max(data.y),min(data.y)"
      ],
      "metadata": {
        "colab": {
          "base_uri": "https://localhost:8080/"
        },
        "id": "W1sp1aVHis9L",
        "outputId": "75c55b63-4b6f-4939-a018-bcd17664064a"
      },
      "execution_count": 21,
      "outputs": [
        {
          "output_type": "execute_result",
          "data": {
            "text/plain": [
              "(tensor(6), tensor(0))"
            ]
          },
          "metadata": {},
          "execution_count": 21
        }
      ]
    },
    {
      "cell_type": "code",
      "source": [
        "if args['use_gdc']:\n",
        "    transform = T.GDC(\n",
        "        self_loop_weight=1,\n",
        "        normalization_in='sym',\n",
        "        normalization_out='col',\n",
        "        diffusion_kwargs=dict(method='ppr', alpha=0.05),\n",
        "        sparsification_kwargs=dict(method='topk', k=128, dim=0),\n",
        "        exact=True,\n",
        "    )\n",
        "    data = transform(data)"
      ],
      "metadata": {
        "id": "hwwhTDqCBKNy"
      },
      "execution_count": 14,
      "outputs": []
    },
    {
      "cell_type": "code",
      "source": [
        "class GCN(torch.nn.Module):\n",
        "    def __init__(self, in_channels, hidden_channels, out_channels):\n",
        "        super().__init__()\n",
        "        self.conv1 = GCNConv(in_channels, hidden_channels, cached=True,\n",
        "                             normalize=not args['use_gdc'])\n",
        "        self.conv2 = GCNConv(hidden_channels, out_channels, cached=True,\n",
        "                             normalize=not args['use_gdc'])\n",
        "\n",
        "    def forward(self, x, edge_index, edge_weight=None):\n",
        "        x = F.dropout(x, p=0.5, training=self.training)\n",
        "        x = self.conv1(x, edge_index, edge_weight).relu()\n",
        "        x = F.dropout(x, p=0.5, training=self.training)\n",
        "        x = self.conv2(x, edge_index, edge_weight)\n",
        "        return x"
      ],
      "metadata": {
        "id": "4w9ErnD1BKSa"
      },
      "execution_count": 17,
      "outputs": []
    },
    {
      "cell_type": "code",
      "source": [
        "model = GCN(dataset.num_features, args['hidden_channels'], dataset.num_classes)\n",
        "model, data = model.to(device), data.to(device)\n",
        "optimizer = torch.optim.Adam([\n",
        "    dict(params=model.conv1.parameters(), weight_decay=5e-4),\n",
        "    dict(params=model.conv2.parameters(), weight_decay=0)\n",
        "], lr=args['lr'])  # Only perform weight-decay on first convolution."
      ],
      "metadata": {
        "id": "sMMwg2l7BKTl"
      },
      "execution_count": 19,
      "outputs": []
    },
    {
      "cell_type": "code",
      "source": [
        "def train():\n",
        "    model.train()\n",
        "    optimizer.zero_grad()\n",
        "    out = model(data.x, data.edge_index, data.edge_weight)\n",
        "    loss = F.cross_entropy(out[data.train_mask], data.y[data.train_mask])\n",
        "    loss.backward()\n",
        "    optimizer.step()\n",
        "    return float(loss)"
      ],
      "metadata": {
        "id": "Ww3KpyRCBKXW"
      },
      "execution_count": 20,
      "outputs": []
    },
    {
      "cell_type": "code",
      "source": [
        "@torch.no_grad()\n",
        "def test():\n",
        "    model.eval()\n",
        "    pred = model(data.x, data.edge_index, data.edge_weight).argmax(dim=-1)\n",
        "\n",
        "    accs = []\n",
        "    for mask in [data.train_mask, data.val_mask, data.test_mask]:\n",
        "        accs.append(int((pred[mask] == data.y[mask]).sum()) / int(mask.sum()))\n",
        "    return accs"
      ],
      "metadata": {
        "id": "9gzpChH-BtD-"
      },
      "execution_count": 21,
      "outputs": []
    },
    {
      "cell_type": "code",
      "execution_count": 23,
      "metadata": {
        "colab": {
          "base_uri": "https://localhost:8080/"
        },
        "id": "6YxIUlEV_V2X",
        "outputId": "a69c1767-0374-4c1f-976f-258a5c69b8dd"
      },
      "outputs": [
        {
          "output_type": "stream",
          "name": "stdout",
          "text": [
            "Epoch: 001, Loss: 57.3752, Train: 0.1429, Val: 0.1140, Test: 0.1030\n",
            "Epoch: 002, Loss: 147.7970, Train: 0.1786, Val: 0.1900, Test: 0.1910\n",
            "Epoch: 003, Loss: 51.2101, Train: 0.2857, Val: 0.3040, Test: 0.2810\n",
            "Epoch: 004, Loss: 50.6918, Train: 0.4000, Val: 0.4620, Test: 0.4370\n",
            "Epoch: 005, Loss: 47.9181, Train: 0.3429, Val: 0.4860, Test: 0.4650\n",
            "Epoch: 006, Loss: 47.5617, Train: 0.3643, Val: 0.4820, Test: 0.4650\n",
            "Epoch: 007, Loss: 41.7747, Train: 0.3714, Val: 0.4880, Test: 0.4620\n",
            "Epoch: 008, Loss: 31.0296, Train: 0.3643, Val: 0.4800, Test: 0.4620\n",
            "Epoch: 009, Loss: 23.9014, Train: 0.3857, Val: 0.4760, Test: 0.4620\n",
            "Epoch: 010, Loss: 15.6696, Train: 0.4286, Val: 0.4880, Test: 0.4620\n",
            "Epoch: 011, Loss: 10.8496, Train: 0.4786, Val: 0.5020, Test: 0.4890\n",
            "Epoch: 012, Loss: 7.8014, Train: 0.5143, Val: 0.5460, Test: 0.5220\n",
            "Epoch: 013, Loss: 4.8654, Train: 0.5286, Val: 0.5580, Test: 0.5350\n",
            "Epoch: 014, Loss: 4.1973, Train: 0.5786, Val: 0.5520, Test: 0.5350\n",
            "Epoch: 015, Loss: 3.6128, Train: 0.5643, Val: 0.5360, Test: 0.5350\n",
            "Epoch: 016, Loss: 3.0520, Train: 0.4429, Val: 0.4580, Test: 0.5350\n",
            "Epoch: 017, Loss: 4.0385, Train: 0.4714, Val: 0.4700, Test: 0.5350\n",
            "Epoch: 018, Loss: 3.5537, Train: 0.4286, Val: 0.4120, Test: 0.5350\n",
            "Epoch: 019, Loss: 2.7026, Train: 0.4000, Val: 0.3480, Test: 0.5350\n",
            "Epoch: 020, Loss: 2.4921, Train: 0.3071, Val: 0.2720, Test: 0.5350\n",
            "Epoch: 021, Loss: 3.1230, Train: 0.3000, Val: 0.2700, Test: 0.5350\n",
            "Epoch: 022, Loss: 3.0775, Train: 0.3071, Val: 0.2720, Test: 0.5350\n",
            "Epoch: 023, Loss: 3.0109, Train: 0.3143, Val: 0.2700, Test: 0.5350\n",
            "Epoch: 024, Loss: 2.8031, Train: 0.3143, Val: 0.2680, Test: 0.5350\n",
            "Epoch: 025, Loss: 2.5913, Train: 0.2929, Val: 0.2660, Test: 0.5350\n",
            "Epoch: 026, Loss: 2.4269, Train: 0.3000, Val: 0.2460, Test: 0.5350\n",
            "Epoch: 027, Loss: 2.6751, Train: 0.2857, Val: 0.2360, Test: 0.5350\n",
            "Epoch: 028, Loss: 2.8759, Train: 0.2929, Val: 0.2280, Test: 0.5350\n",
            "Epoch: 029, Loss: 2.3379, Train: 0.2786, Val: 0.2080, Test: 0.5350\n",
            "Epoch: 030, Loss: 2.5454, Train: 0.2929, Val: 0.1920, Test: 0.5350\n",
            "Epoch: 031, Loss: 2.0902, Train: 0.2786, Val: 0.1680, Test: 0.5350\n",
            "Epoch: 032, Loss: 2.1994, Train: 0.2786, Val: 0.1660, Test: 0.5350\n",
            "Epoch: 033, Loss: 2.0594, Train: 0.2714, Val: 0.1680, Test: 0.5350\n",
            "Epoch: 034, Loss: 2.1811, Train: 0.2571, Val: 0.1680, Test: 0.5350\n",
            "Epoch: 035, Loss: 2.0007, Train: 0.2571, Val: 0.1680, Test: 0.5350\n",
            "Epoch: 036, Loss: 2.1554, Train: 0.2571, Val: 0.1660, Test: 0.5350\n",
            "Epoch: 037, Loss: 2.1608, Train: 0.2714, Val: 0.1660, Test: 0.5350\n",
            "Epoch: 038, Loss: 2.1037, Train: 0.2714, Val: 0.1640, Test: 0.5350\n",
            "Epoch: 039, Loss: 2.0006, Train: 0.3500, Val: 0.1700, Test: 0.5350\n",
            "Epoch: 040, Loss: 1.9556, Train: 0.3571, Val: 0.1600, Test: 0.5350\n",
            "Epoch: 041, Loss: 2.0594, Train: 0.3500, Val: 0.2160, Test: 0.5350\n",
            "Epoch: 042, Loss: 1.8129, Train: 0.3500, Val: 0.2380, Test: 0.5350\n",
            "Epoch: 043, Loss: 1.8726, Train: 0.4071, Val: 0.3000, Test: 0.5350\n",
            "Epoch: 044, Loss: 1.8838, Train: 0.3571, Val: 0.3600, Test: 0.5350\n",
            "Epoch: 045, Loss: 1.6092, Train: 0.3429, Val: 0.4000, Test: 0.5350\n",
            "Epoch: 046, Loss: 1.6291, Train: 0.3429, Val: 0.4120, Test: 0.5350\n",
            "Epoch: 047, Loss: 1.6595, Train: 0.3643, Val: 0.4340, Test: 0.5350\n",
            "Epoch: 048, Loss: 1.7027, Train: 0.3500, Val: 0.4320, Test: 0.5350\n",
            "Epoch: 049, Loss: 1.8572, Train: 0.3643, Val: 0.4240, Test: 0.5350\n",
            "Epoch: 050, Loss: 1.6997, Train: 0.3643, Val: 0.4220, Test: 0.5350\n",
            "Epoch: 051, Loss: 1.6466, Train: 0.3500, Val: 0.3860, Test: 0.5350\n",
            "Epoch: 052, Loss: 1.5920, Train: 0.3571, Val: 0.3440, Test: 0.5350\n",
            "Epoch: 053, Loss: 1.6441, Train: 0.3500, Val: 0.3300, Test: 0.5350\n",
            "Epoch: 054, Loss: 1.6372, Train: 0.3429, Val: 0.3340, Test: 0.5350\n",
            "Epoch: 055, Loss: 1.6238, Train: 0.3429, Val: 0.3120, Test: 0.5350\n",
            "Epoch: 056, Loss: 1.7123, Train: 0.3429, Val: 0.3140, Test: 0.5350\n",
            "Epoch: 057, Loss: 1.6250, Train: 0.3429, Val: 0.3160, Test: 0.5350\n",
            "Epoch: 058, Loss: 1.6112, Train: 0.3643, Val: 0.3300, Test: 0.5350\n",
            "Epoch: 059, Loss: 1.5849, Train: 0.3714, Val: 0.3420, Test: 0.5350\n",
            "Epoch: 060, Loss: 1.6328, Train: 0.4071, Val: 0.3700, Test: 0.5350\n",
            "Epoch: 061, Loss: 1.8609, Train: 0.3786, Val: 0.3480, Test: 0.5350\n",
            "Epoch: 062, Loss: 1.6092, Train: 0.3714, Val: 0.3560, Test: 0.5350\n",
            "Epoch: 063, Loss: 1.5482, Train: 0.3714, Val: 0.3700, Test: 0.5350\n",
            "Epoch: 064, Loss: 1.6096, Train: 0.3786, Val: 0.3860, Test: 0.5350\n",
            "Epoch: 065, Loss: 1.5789, Train: 0.3643, Val: 0.4000, Test: 0.5350\n",
            "Epoch: 066, Loss: 1.5913, Train: 0.3643, Val: 0.4260, Test: 0.5350\n",
            "Epoch: 067, Loss: 1.6188, Train: 0.3786, Val: 0.4220, Test: 0.5350\n",
            "Epoch: 068, Loss: 1.5218, Train: 0.3929, Val: 0.4240, Test: 0.5350\n",
            "Epoch: 069, Loss: 1.5164, Train: 0.4000, Val: 0.4240, Test: 0.5350\n",
            "Epoch: 070, Loss: 1.5365, Train: 0.4000, Val: 0.4240, Test: 0.5350\n",
            "Epoch: 071, Loss: 1.5308, Train: 0.4000, Val: 0.4260, Test: 0.5350\n",
            "Epoch: 072, Loss: 1.5441, Train: 0.3929, Val: 0.4220, Test: 0.5350\n",
            "Epoch: 073, Loss: 1.5487, Train: 0.3786, Val: 0.4200, Test: 0.5350\n",
            "Epoch: 074, Loss: 1.4921, Train: 0.3786, Val: 0.4180, Test: 0.5350\n",
            "Epoch: 075, Loss: 1.5272, Train: 0.3786, Val: 0.4180, Test: 0.5350\n",
            "Epoch: 076, Loss: 1.5045, Train: 0.3786, Val: 0.4140, Test: 0.5350\n",
            "Epoch: 077, Loss: 1.4658, Train: 0.3714, Val: 0.4200, Test: 0.5350\n",
            "Epoch: 078, Loss: 1.5515, Train: 0.3714, Val: 0.4100, Test: 0.5350\n",
            "Epoch: 079, Loss: 1.5568, Train: 0.3643, Val: 0.4080, Test: 0.5350\n",
            "Epoch: 080, Loss: 1.5071, Train: 0.3643, Val: 0.3860, Test: 0.5350\n",
            "Epoch: 081, Loss: 1.4782, Train: 0.3643, Val: 0.3800, Test: 0.5350\n",
            "Epoch: 082, Loss: 1.4971, Train: 0.3643, Val: 0.3680, Test: 0.5350\n",
            "Epoch: 083, Loss: 1.4729, Train: 0.3571, Val: 0.3640, Test: 0.5350\n",
            "Epoch: 084, Loss: 1.4783, Train: 0.3571, Val: 0.3640, Test: 0.5350\n",
            "Epoch: 085, Loss: 1.4929, Train: 0.3714, Val: 0.3660, Test: 0.5350\n",
            "Epoch: 086, Loss: 1.5134, Train: 0.3643, Val: 0.3800, Test: 0.5350\n",
            "Epoch: 087, Loss: 1.4613, Train: 0.3714, Val: 0.3980, Test: 0.5350\n",
            "Epoch: 088, Loss: 1.4586, Train: 0.3786, Val: 0.4180, Test: 0.5350\n",
            "Epoch: 089, Loss: 1.5162, Train: 0.3857, Val: 0.4260, Test: 0.5350\n",
            "Epoch: 090, Loss: 1.4514, Train: 0.3929, Val: 0.4260, Test: 0.5350\n",
            "Epoch: 091, Loss: 1.4813, Train: 0.3929, Val: 0.4240, Test: 0.5350\n",
            "Epoch: 092, Loss: 1.4317, Train: 0.3929, Val: 0.4240, Test: 0.5350\n",
            "Epoch: 093, Loss: 1.4911, Train: 0.3929, Val: 0.4240, Test: 0.5350\n",
            "Epoch: 094, Loss: 1.4345, Train: 0.4000, Val: 0.4240, Test: 0.5350\n",
            "Epoch: 095, Loss: 1.4695, Train: 0.4286, Val: 0.4280, Test: 0.5350\n",
            "Epoch: 096, Loss: 1.4501, Train: 0.4286, Val: 0.4260, Test: 0.5350\n",
            "Epoch: 097, Loss: 1.4499, Train: 0.4357, Val: 0.4280, Test: 0.5350\n",
            "Epoch: 098, Loss: 1.4309, Train: 0.4357, Val: 0.4300, Test: 0.5350\n",
            "Epoch: 099, Loss: 1.4723, Train: 0.4786, Val: 0.4280, Test: 0.5350\n",
            "Epoch: 100, Loss: 1.3825, Train: 0.4786, Val: 0.4260, Test: 0.5350\n",
            "Epoch: 101, Loss: 1.4447, Train: 0.4643, Val: 0.3920, Test: 0.5350\n",
            "Epoch: 102, Loss: 1.4465, Train: 0.4571, Val: 0.3920, Test: 0.5350\n",
            "Epoch: 103, Loss: 1.4211, Train: 0.4643, Val: 0.3900, Test: 0.5350\n",
            "Epoch: 104, Loss: 1.4367, Train: 0.4643, Val: 0.3900, Test: 0.5350\n",
            "Epoch: 105, Loss: 1.4381, Train: 0.4714, Val: 0.3960, Test: 0.5350\n",
            "Epoch: 106, Loss: 1.4217, Train: 0.4643, Val: 0.4000, Test: 0.5350\n",
            "Epoch: 107, Loss: 1.4166, Train: 0.4214, Val: 0.4160, Test: 0.5350\n",
            "Epoch: 108, Loss: 1.3866, Train: 0.4357, Val: 0.4300, Test: 0.5350\n",
            "Epoch: 109, Loss: 1.4005, Train: 0.4286, Val: 0.4420, Test: 0.5350\n",
            "Epoch: 110, Loss: 1.4413, Train: 0.4214, Val: 0.4400, Test: 0.5350\n",
            "Epoch: 111, Loss: 1.4363, Train: 0.4214, Val: 0.4440, Test: 0.5350\n",
            "Epoch: 112, Loss: 1.3880, Train: 0.4214, Val: 0.4460, Test: 0.5350\n",
            "Epoch: 113, Loss: 1.5440, Train: 0.4286, Val: 0.4300, Test: 0.5350\n",
            "Epoch: 114, Loss: 1.4498, Train: 0.4643, Val: 0.4060, Test: 0.5350\n",
            "Epoch: 115, Loss: 1.4550, Train: 0.4643, Val: 0.3780, Test: 0.5350\n",
            "Epoch: 116, Loss: 1.4454, Train: 0.4643, Val: 0.3640, Test: 0.5350\n",
            "Epoch: 117, Loss: 1.4250, Train: 0.4714, Val: 0.3580, Test: 0.5350\n",
            "Epoch: 118, Loss: 1.3846, Train: 0.4786, Val: 0.3560, Test: 0.5350\n",
            "Epoch: 119, Loss: 1.4860, Train: 0.4714, Val: 0.3540, Test: 0.5350\n",
            "Epoch: 120, Loss: 1.4333, Train: 0.4786, Val: 0.3620, Test: 0.5350\n",
            "Epoch: 121, Loss: 1.4396, Train: 0.4786, Val: 0.3760, Test: 0.5350\n",
            "Epoch: 122, Loss: 1.3776, Train: 0.4643, Val: 0.3980, Test: 0.5350\n",
            "Epoch: 123, Loss: 1.4116, Train: 0.4714, Val: 0.4220, Test: 0.5350\n",
            "Epoch: 124, Loss: 1.4115, Train: 0.4786, Val: 0.4320, Test: 0.5350\n",
            "Epoch: 125, Loss: 1.3741, Train: 0.4786, Val: 0.4500, Test: 0.5350\n",
            "Epoch: 126, Loss: 1.4070, Train: 0.4286, Val: 0.4520, Test: 0.5350\n",
            "Epoch: 127, Loss: 1.4206, Train: 0.4143, Val: 0.4460, Test: 0.5350\n",
            "Epoch: 128, Loss: 1.4908, Train: 0.4286, Val: 0.4500, Test: 0.5350\n",
            "Epoch: 129, Loss: 1.4333, Train: 0.4214, Val: 0.4500, Test: 0.5350\n",
            "Epoch: 130, Loss: 1.5189, Train: 0.4143, Val: 0.4220, Test: 0.5350\n",
            "Epoch: 131, Loss: 1.4456, Train: 0.4214, Val: 0.3780, Test: 0.5350\n",
            "Epoch: 132, Loss: 1.4386, Train: 0.4286, Val: 0.3520, Test: 0.5350\n",
            "Epoch: 133, Loss: 1.4945, Train: 0.4500, Val: 0.3260, Test: 0.5350\n",
            "Epoch: 134, Loss: 1.4923, Train: 0.4357, Val: 0.3240, Test: 0.5350\n",
            "Epoch: 135, Loss: 1.4996, Train: 0.4357, Val: 0.3240, Test: 0.5350\n",
            "Epoch: 136, Loss: 1.4703, Train: 0.4500, Val: 0.3240, Test: 0.5350\n",
            "Epoch: 137, Loss: 1.4541, Train: 0.4571, Val: 0.3260, Test: 0.5350\n",
            "Epoch: 138, Loss: 1.5185, Train: 0.4643, Val: 0.3380, Test: 0.5350\n",
            "Epoch: 139, Loss: 1.5254, Train: 0.4929, Val: 0.3600, Test: 0.5350\n",
            "Epoch: 140, Loss: 1.3892, Train: 0.4786, Val: 0.3620, Test: 0.5350\n",
            "Epoch: 141, Loss: 1.4285, Train: 0.4786, Val: 0.3840, Test: 0.5350\n",
            "Epoch: 142, Loss: 1.4157, Train: 0.4714, Val: 0.4020, Test: 0.5350\n",
            "Epoch: 143, Loss: 1.3966, Train: 0.4714, Val: 0.4080, Test: 0.5350\n",
            "Epoch: 144, Loss: 1.5339, Train: 0.4786, Val: 0.4240, Test: 0.5350\n",
            "Epoch: 145, Loss: 1.4460, Train: 0.4857, Val: 0.4300, Test: 0.5350\n",
            "Epoch: 146, Loss: 1.3785, Train: 0.4857, Val: 0.4320, Test: 0.5350\n",
            "Epoch: 147, Loss: 1.3677, Train: 0.4857, Val: 0.4300, Test: 0.5350\n",
            "Epoch: 148, Loss: 1.3992, Train: 0.4857, Val: 0.4320, Test: 0.5350\n",
            "Epoch: 149, Loss: 1.3519, Train: 0.4786, Val: 0.4280, Test: 0.5350\n",
            "Epoch: 150, Loss: 1.4219, Train: 0.4714, Val: 0.4260, Test: 0.5350\n",
            "Epoch: 151, Loss: 1.4210, Train: 0.4786, Val: 0.4120, Test: 0.5350\n",
            "Epoch: 152, Loss: 1.3829, Train: 0.4714, Val: 0.4160, Test: 0.5350\n",
            "Epoch: 153, Loss: 1.4028, Train: 0.4714, Val: 0.4160, Test: 0.5350\n",
            "Epoch: 154, Loss: 1.3703, Train: 0.4786, Val: 0.4200, Test: 0.5350\n",
            "Epoch: 155, Loss: 1.3993, Train: 0.4786, Val: 0.4200, Test: 0.5350\n",
            "Epoch: 156, Loss: 1.3430, Train: 0.4857, Val: 0.4220, Test: 0.5350\n",
            "Epoch: 157, Loss: 1.4636, Train: 0.4714, Val: 0.4220, Test: 0.5350\n",
            "Epoch: 158, Loss: 1.3890, Train: 0.4714, Val: 0.4220, Test: 0.5350\n",
            "Epoch: 159, Loss: 1.4505, Train: 0.4714, Val: 0.4060, Test: 0.5350\n",
            "Epoch: 160, Loss: 1.3593, Train: 0.4786, Val: 0.4220, Test: 0.5350\n",
            "Epoch: 161, Loss: 1.3961, Train: 0.4786, Val: 0.4220, Test: 0.5350\n",
            "Epoch: 162, Loss: 1.3414, Train: 0.4857, Val: 0.4220, Test: 0.5350\n",
            "Epoch: 163, Loss: 1.3405, Train: 0.4857, Val: 0.4280, Test: 0.5350\n",
            "Epoch: 164, Loss: 1.4091, Train: 0.4857, Val: 0.4320, Test: 0.5350\n",
            "Epoch: 165, Loss: 1.3451, Train: 0.4857, Val: 0.4320, Test: 0.5350\n",
            "Epoch: 166, Loss: 1.3695, Train: 0.4857, Val: 0.4320, Test: 0.5350\n",
            "Epoch: 167, Loss: 1.3654, Train: 0.4857, Val: 0.4300, Test: 0.5350\n",
            "Epoch: 168, Loss: 1.3322, Train: 0.4857, Val: 0.4280, Test: 0.5350\n",
            "Epoch: 169, Loss: 1.3292, Train: 0.4857, Val: 0.4280, Test: 0.5350\n",
            "Epoch: 170, Loss: 1.4326, Train: 0.4929, Val: 0.4280, Test: 0.5350\n",
            "Epoch: 171, Loss: 1.3800, Train: 0.4929, Val: 0.4260, Test: 0.5350\n",
            "Epoch: 172, Loss: 1.3373, Train: 0.4929, Val: 0.4240, Test: 0.5350\n",
            "Epoch: 173, Loss: 1.3536, Train: 0.4929, Val: 0.4240, Test: 0.5350\n",
            "Epoch: 174, Loss: 1.3696, Train: 0.4929, Val: 0.4240, Test: 0.5350\n",
            "Epoch: 175, Loss: 1.4095, Train: 0.4857, Val: 0.4260, Test: 0.5350\n",
            "Epoch: 176, Loss: 1.3615, Train: 0.4857, Val: 0.4320, Test: 0.5350\n",
            "Epoch: 177, Loss: 1.3681, Train: 0.4929, Val: 0.4380, Test: 0.5350\n",
            "Epoch: 178, Loss: 1.3411, Train: 0.4929, Val: 0.4480, Test: 0.5350\n",
            "Epoch: 179, Loss: 1.3495, Train: 0.4857, Val: 0.4480, Test: 0.5350\n",
            "Epoch: 180, Loss: 1.4056, Train: 0.4857, Val: 0.4340, Test: 0.5350\n",
            "Epoch: 181, Loss: 1.3108, Train: 0.4857, Val: 0.4260, Test: 0.5350\n",
            "Epoch: 182, Loss: 1.2909, Train: 0.4857, Val: 0.4260, Test: 0.5350\n",
            "Epoch: 183, Loss: 1.3566, Train: 0.4857, Val: 0.4300, Test: 0.5350\n",
            "Epoch: 184, Loss: 1.3517, Train: 0.4857, Val: 0.4280, Test: 0.5350\n",
            "Epoch: 185, Loss: 1.4949, Train: 0.4643, Val: 0.3760, Test: 0.5350\n",
            "Epoch: 186, Loss: 1.4116, Train: 0.4643, Val: 0.3280, Test: 0.5350\n",
            "Epoch: 187, Loss: 1.5070, Train: 0.4571, Val: 0.3220, Test: 0.5350\n",
            "Epoch: 188, Loss: 1.3479, Train: 0.4500, Val: 0.3140, Test: 0.5350\n",
            "Epoch: 189, Loss: 1.3948, Train: 0.4429, Val: 0.3060, Test: 0.5350\n",
            "Epoch: 190, Loss: 1.5082, Train: 0.4214, Val: 0.2700, Test: 0.5350\n",
            "Epoch: 191, Loss: 1.4779, Train: 0.4357, Val: 0.2940, Test: 0.5350\n",
            "Epoch: 192, Loss: 1.4640, Train: 0.4429, Val: 0.3180, Test: 0.5350\n",
            "Epoch: 193, Loss: 1.4414, Train: 0.4357, Val: 0.3340, Test: 0.5350\n",
            "Epoch: 194, Loss: 1.4898, Train: 0.4643, Val: 0.3460, Test: 0.5350\n",
            "Epoch: 195, Loss: 1.3764, Train: 0.4714, Val: 0.3660, Test: 0.5350\n",
            "Epoch: 196, Loss: 1.3819, Train: 0.4714, Val: 0.3940, Test: 0.5350\n",
            "Epoch: 197, Loss: 1.3748, Train: 0.4571, Val: 0.4040, Test: 0.5350\n",
            "Epoch: 198, Loss: 1.3224, Train: 0.4714, Val: 0.4300, Test: 0.5350\n",
            "Epoch: 199, Loss: 1.3231, Train: 0.4643, Val: 0.4400, Test: 0.5350\n",
            "Epoch: 200, Loss: 1.3333, Train: 0.4714, Val: 0.4520, Test: 0.5350\n"
          ]
        }
      ],
      "source": [
        "best_val_acc = final_test_acc = 0\n",
        "for epoch in range(1, args['epochs'] + 1):\n",
        "    loss = train()\n",
        "    train_acc, val_acc, tmp_test_acc = test()\n",
        "    if val_acc > best_val_acc:\n",
        "        best_val_acc = val_acc\n",
        "        test_acc = tmp_test_acc\n",
        "    log(Epoch=epoch, Loss=loss, Train=train_acc, Val=val_acc, Test=test_acc)"
      ]
    },
    {
      "cell_type": "code",
      "source": [],
      "metadata": {
        "id": "gxv3sfNGNiBT"
      },
      "execution_count": null,
      "outputs": []
    }
  ]
}