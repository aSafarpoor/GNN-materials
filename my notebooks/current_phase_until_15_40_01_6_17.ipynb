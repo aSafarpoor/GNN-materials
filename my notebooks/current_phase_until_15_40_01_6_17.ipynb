{
  "nbformat": 4,
  "nbformat_minor": 0,
  "metadata": {
    "colab": {
      "provenance": [],
      "collapsed_sections": []
    },
    "kernelspec": {
      "name": "python3",
      "display_name": "Python 3"
    },
    "language_info": {
      "name": "python"
    },
    "accelerator": "GPU",
    "gpuClass": "standard"
  },
  "cells": [
    {
      "cell_type": "markdown",
      "source": [
        "This notebook is mainly not mine but, I will add some parts to make it like a tutorial for myself, and then |I will change it to test my idea."
      ],
      "metadata": {
        "id": "kH6usRadDciG"
      }
    },
    {
      "cell_type": "markdown",
      "source": [
        "Based on: https://towardsdatascience.com/program-a-simple-graph-net-in-pytorch-e00b500a642d\n",
        "\n",
        "Source: https://github.com/praxidike97/GraphNeuralNet/blob/72c330bb6e64dd7dd6784b6e69a821149dc5d028/main.py#L114"
      ],
      "metadata": {
        "id": "EK9jTVUpQz7W"
      }
    },
    {
      "cell_type": "code",
      "source": [
        "# Add this in a Google Colab cell to install the correct version of Pytorch Geometric.\n",
        "import torch\n",
        "\n",
        "def format_pytorch_version(version):\n",
        "  return version.split('+')[0]\n",
        "\n",
        "TORCH_version = torch.__version__\n",
        "TORCH = format_pytorch_version(TORCH_version)\n",
        "\n",
        "def format_cuda_version(version):\n",
        "  return 'cu' + version.replace('.', '')\n",
        "\n",
        "CUDA_version = torch.version.cuda\n",
        "CUDA = format_cuda_version(CUDA_version)\n",
        "\n",
        "!pip install torch-scatter     -f https://pytorch-geometric.com/whl/torch-{TORCH}+{CUDA}.html\n",
        "!pip install torch-sparse      -f https://pytorch-geometric.com/whl/torch-{TORCH}+{CUDA}.html\n",
        "!pip install torch-cluster     -f https://pytorch-geometric.com/whl/torch-{TORCH}+{CUDA}.html\n",
        "!pip install torch-spline-conv -f https://pytorch-geometric.com/whl/torch-{TORCH}+{CUDA}.html\n",
        "!pip install torch-geometric "
      ],
      "metadata": {
        "colab": {
          "base_uri": "https://localhost:8080/"
        },
        "id": "reGnJdezSfWV",
        "outputId": "df0d9b74-4eba-4620-e6ee-98f6f462d36f"
      },
      "execution_count": 186,
      "outputs": [
        {
          "output_type": "stream",
          "name": "stdout",
          "text": [
            "Looking in indexes: https://pypi.org/simple, https://us-python.pkg.dev/colab-wheels/public/simple/\n",
            "Looking in links: https://pytorch-geometric.com/whl/torch-1.12.1+cu113.html\n",
            "Requirement already satisfied: torch-scatter in /usr/local/lib/python3.7/dist-packages (2.0.9)\n",
            "Looking in indexes: https://pypi.org/simple, https://us-python.pkg.dev/colab-wheels/public/simple/\n",
            "Looking in links: https://pytorch-geometric.com/whl/torch-1.12.1+cu113.html\n",
            "Requirement already satisfied: torch-sparse in /usr/local/lib/python3.7/dist-packages (0.6.15)\n",
            "Requirement already satisfied: scipy in /usr/local/lib/python3.7/dist-packages (from torch-sparse) (1.7.3)\n",
            "Requirement already satisfied: numpy<1.23.0,>=1.16.5 in /usr/local/lib/python3.7/dist-packages (from scipy->torch-sparse) (1.21.6)\n",
            "Looking in indexes: https://pypi.org/simple, https://us-python.pkg.dev/colab-wheels/public/simple/\n",
            "Looking in links: https://pytorch-geometric.com/whl/torch-1.12.1+cu113.html\n",
            "Requirement already satisfied: torch-cluster in /usr/local/lib/python3.7/dist-packages (1.6.0)\n",
            "Looking in indexes: https://pypi.org/simple, https://us-python.pkg.dev/colab-wheels/public/simple/\n",
            "Looking in links: https://pytorch-geometric.com/whl/torch-1.12.1+cu113.html\n",
            "Requirement already satisfied: torch-spline-conv in /usr/local/lib/python3.7/dist-packages (1.2.1)\n",
            "Looking in indexes: https://pypi.org/simple, https://us-python.pkg.dev/colab-wheels/public/simple/\n",
            "Requirement already satisfied: torch-geometric in /usr/local/lib/python3.7/dist-packages (2.1.0.post1)\n",
            "Requirement already satisfied: tqdm in /usr/local/lib/python3.7/dist-packages (from torch-geometric) (4.64.0)\n",
            "Requirement already satisfied: requests in /usr/local/lib/python3.7/dist-packages (from torch-geometric) (2.23.0)\n",
            "Requirement already satisfied: pyparsing in /usr/local/lib/python3.7/dist-packages (from torch-geometric) (3.0.9)\n",
            "Requirement already satisfied: scipy in /usr/local/lib/python3.7/dist-packages (from torch-geometric) (1.7.3)\n",
            "Requirement already satisfied: scikit-learn in /usr/local/lib/python3.7/dist-packages (from torch-geometric) (1.0.2)\n",
            "Requirement already satisfied: jinja2 in /usr/local/lib/python3.7/dist-packages (from torch-geometric) (2.11.3)\n",
            "Requirement already satisfied: numpy in /usr/local/lib/python3.7/dist-packages (from torch-geometric) (1.21.6)\n",
            "Requirement already satisfied: MarkupSafe>=0.23 in /usr/local/lib/python3.7/dist-packages (from jinja2->torch-geometric) (2.0.1)\n",
            "Requirement already satisfied: idna<3,>=2.5 in /usr/local/lib/python3.7/dist-packages (from requests->torch-geometric) (2.10)\n",
            "Requirement already satisfied: urllib3!=1.25.0,!=1.25.1,<1.26,>=1.21.1 in /usr/local/lib/python3.7/dist-packages (from requests->torch-geometric) (1.24.3)\n",
            "Requirement already satisfied: certifi>=2017.4.17 in /usr/local/lib/python3.7/dist-packages (from requests->torch-geometric) (2022.6.15)\n",
            "Requirement already satisfied: chardet<4,>=3.0.2 in /usr/local/lib/python3.7/dist-packages (from requests->torch-geometric) (3.0.4)\n",
            "Requirement already satisfied: joblib>=0.11 in /usr/local/lib/python3.7/dist-packages (from scikit-learn->torch-geometric) (1.1.0)\n",
            "Requirement already satisfied: threadpoolctl>=2.0.0 in /usr/local/lib/python3.7/dist-packages (from scikit-learn->torch-geometric) (3.1.0)\n"
          ]
        }
      ]
    },
    {
      "cell_type": "code",
      "source": [
        "from torch_geometric.datasets import Planetoid\n",
        "import torch\n",
        "import torch.nn.functional as F\n",
        "from torch_geometric.nn import MessagePassing\n",
        "from torch_geometric.utils import add_self_loops, degree\n",
        "import networkx as nx\n",
        "import numpy as np\n",
        "import matplotlib.pyplot as plt\n",
        "from tqdm import tqdm"
      ],
      "metadata": {
        "id": "PJqdawcjQ7mO"
      },
      "execution_count": 187,
      "outputs": []
    },
    {
      "cell_type": "code",
      "source": [
        "import random\n",
        "random.seed(10)"
      ],
      "metadata": {
        "id": "HlFhPCgyaD2C"
      },
      "execution_count": 188,
      "outputs": []
    },
    {
      "cell_type": "markdown",
      "source": [
        "# what we need"
      ],
      "metadata": {
        "id": "ZGOM4TuPfYot"
      }
    },
    {
      "cell_type": "markdown",
      "source": [
        "## Graph Class"
      ],
      "metadata": {
        "id": "dCIwUB25DGl9"
      }
    },
    {
      "cell_type": "code",
      "source": [
        "from itertools import filterfalse\n",
        "class Graph:\n",
        "    def __init__(self,nV):\n",
        "        self.nV = nV\n",
        "        self.V = list(range(nV))\n",
        "        self.lenE = 0\n",
        "        self.VnV = [[] for i in range(nV)]\n",
        "        self.emV = []\n",
        "        self.cc = []\n",
        "\n",
        "    def add_edge(self,v1,v2,directed=False):\n",
        "        self.VnV[v1].append(v2)\n",
        "        if not directed:\n",
        "            self.VnV[v2].append(v1)\n",
        "        \n",
        "        self.lenE += 1\n",
        "\n",
        "    def add_self_loop(self):\n",
        "        for i in range(self.nV):\n",
        "            self.VnV[i].append(i)\n",
        "        self.lenE += self.nV\n",
        "\n",
        "    def create_embedding(self):\n",
        "        self.emV = []\n",
        "        for i in range(self.nV):\n",
        "            temp = [0 for i in range(self.nV)]\n",
        "            for j in self.VnV[i]:\n",
        "                temp[j] = 1\n",
        "            self.emV.append(temp[:])\n",
        "        return self.emV\n",
        "    \n",
        "    def create_embedding_based_on_input(self,edges):\n",
        "        self.emboi = np.zeros((self.nV,self.nV))\n",
        "        for i in range(len(edges[0])):\n",
        "            self.emboi[edges[0][i]][edges[1][i]] = 1\n",
        "        return self.emboi\n",
        "\n",
        "    def create_random_edges(self,index_list,num,avoid_self_loop=False,directed=False):\n",
        "        for i in range(num):\n",
        "            e1 = random.choice(index_list)\n",
        "            e2 = random.choice(index_list)\n",
        "            if avoid_self_loop:\n",
        "                while(e2 == e1):\n",
        "                     e2 = random.choice(index_list)\n",
        "            self.add_edge(e1,e2,directed=directed)\n",
        "    \n",
        "    def clear_redundant_edges(self):\n",
        "        self.lenE = 0\n",
        "        for i in range(len(self.VnV)):\n",
        "            self.VnV[i] = list(set(self.VnV[i]))\n",
        "            self.lenE += len(self.VnV[i])\n",
        "            self.lenE += i in self.VnV[i]\n",
        "        self.lenE/=2\n",
        "\n",
        "    def ask_nE(self,ifprint=False):\n",
        "        if ifprint:\n",
        "            print(int(self.lenE))\n",
        "        return int(self.lenE)\n",
        "    \n",
        "    def edge_index(self):\n",
        "        E1 = []\n",
        "        E2 = []\n",
        "        for i in range(self.nV):\n",
        "            for j in self.VnV[i]:\n",
        "                E1.append(i)\n",
        "                E2.append(j)\n",
        "        return [E1,E2]\n",
        "\n",
        "    @staticmethod\n",
        "    def is_commonelems(x,y):\n",
        "        for value in x:\n",
        "            if value in y:\n",
        "                return True\n",
        "        return False\n",
        "\n",
        "    def update_cc(self,index_list):\n",
        "        self.cc.append(index_list)\n",
        "\n",
        "    def create_connected_component(self,index_list,nE):\n",
        "        self.update_cc(index_list)\n",
        "\n",
        "        n = max(nE-len(index_list)+1,0)\n",
        "        fill = [index_list[0],index_list[1]]\n",
        "        self.add_edge(index_list[0],index_list[1])\n",
        "        for i in range(3,len(index_list)):\n",
        "            fill.append(index_list[i])\n",
        "            self.add_edge(index_list[i],random.choice(fill))\n",
        "        for i in range(n):\n",
        "            self.add_edge(random.choice(fill),random.choice(fill))\n",
        "\n",
        "g = Graph(10)\n",
        "g.add_edge(1,2)\n",
        "g.add_edge(0,1)\n",
        "g.add_edge(3,4)\n",
        "g.create_random_edges(list(range(5,10)),7)\n",
        "g.add_self_loop()\n",
        "g.clear_redundant_edges()\n",
        "g.ask_nE(True)\n",
        "print(g.edge_index())\n",
        "g.create_embedding()\n"
      ],
      "metadata": {
        "id": "78AOR09EIejU",
        "outputId": "f33eaa3a-e820-459a-df2c-515440fa230a",
        "colab": {
          "base_uri": "https://localhost:8080/"
        }
      },
      "execution_count": 189,
      "outputs": [
        {
          "output_type": "stream",
          "name": "stdout",
          "text": [
            "18\n",
            "[[0, 0, 1, 1, 1, 2, 2, 3, 3, 4, 4, 5, 5, 5, 6, 6, 6, 7, 7, 8, 8, 8, 8, 9, 9, 9], [0, 1, 0, 1, 2, 1, 2, 3, 4, 3, 4, 9, 5, 6, 8, 5, 6, 8, 7, 8, 9, 6, 7, 8, 9, 5]]\n"
          ]
        },
        {
          "output_type": "execute_result",
          "data": {
            "text/plain": [
              "[[1, 1, 0, 0, 0, 0, 0, 0, 0, 0],\n",
              " [1, 1, 1, 0, 0, 0, 0, 0, 0, 0],\n",
              " [0, 1, 1, 0, 0, 0, 0, 0, 0, 0],\n",
              " [0, 0, 0, 1, 1, 0, 0, 0, 0, 0],\n",
              " [0, 0, 0, 1, 1, 0, 0, 0, 0, 0],\n",
              " [0, 0, 0, 0, 0, 1, 1, 0, 0, 1],\n",
              " [0, 0, 0, 0, 0, 1, 1, 0, 1, 0],\n",
              " [0, 0, 0, 0, 0, 0, 0, 1, 1, 0],\n",
              " [0, 0, 0, 0, 0, 0, 1, 1, 1, 1],\n",
              " [0, 0, 0, 0, 0, 1, 0, 0, 1, 1]]"
            ]
          },
          "metadata": {},
          "execution_count": 189
        }
      ]
    },
    {
      "cell_type": "markdown",
      "source": [
        "# create dataset"
      ],
      "metadata": {
        "id": "a_62YJN5fb9N"
      }
    },
    {
      "cell_type": "code",
      "source": [
        "class Data:\n",
        "    def __init__(self,g):\n",
        "        self.x = np.array(g.create_embedding())\n",
        "        self.num_node_features = g.nV\n",
        "        self.edge_index = np.array(g.edge_index())\n",
        "\n",
        "    def create_mask(self,train_ratio=0.7):\n",
        "        self.test_mask = []\n",
        "        self.train_mask = []\n",
        "        for i in range(len(self.edge_index[0])):\n",
        "            if random.random()>train_ratio:\n",
        "                self.test_mask.append(True)\n",
        "                self.train_mask.append(False)\n",
        "\n",
        "            else:\n",
        "                self.train_mask.append(True)\n",
        "                self.test_mask.append(False)\n",
        "\n",
        "\n",
        "    def safe_create_mask(self,train_ratio=0.7):\n",
        "        self.test_mask = []\n",
        "        self.train_mask = []\n",
        "        last_train = -1\n",
        "        for i in range(len(self.edge_index[0])):\n",
        "            if last_train != self.edge_index[0][i]:\n",
        "                last_train = self.edge_index[0][i]\n",
        "                self.train_mask.append(True)\n",
        "                self.test_mask.append(False)\n",
        "\n",
        "            elif random.random()>train_ratio:\n",
        "                self.test_mask.append(True)\n",
        "                self.train_mask.append(False)\n",
        "            else:\n",
        "                self.train_mask.append(True)\n",
        "                self.test_mask.append(False)\n",
        "\n"
      ],
      "metadata": {
        "id": "fHDZ7uT3ct2_"
      },
      "execution_count": 190,
      "outputs": []
    },
    {
      "cell_type": "code",
      "source": [
        "data = Data(g)#g is Graph obj"
      ],
      "metadata": {
        "id": "IqNUfqFafmmu"
      },
      "execution_count": 191,
      "outputs": []
    },
    {
      "cell_type": "code",
      "source": [
        "print(data.num_node_features)\n",
        "x, edge_index = data.x, data.edge_index\n",
        "print(x.shape,edge_index.shape)\n",
        "\n",
        "data.create_mask()\n",
        "print(sum(data.train_mask))\n",
        "print(sum(data.test_mask))\n",
        "\n",
        "data.safe_create_mask()\n",
        "print(sum(data.train_mask))\n",
        "print(sum(data.test_mask))"
      ],
      "metadata": {
        "colab": {
          "base_uri": "https://localhost:8080/"
        },
        "id": "QUp-W0_2cuPg",
        "outputId": "20130d68-d634-4ea5-9762-a61611578f54"
      },
      "execution_count": 192,
      "outputs": [
        {
          "output_type": "stream",
          "name": "stdout",
          "text": [
            "10\n",
            "(10, 10) (2, 26)\n",
            "18\n",
            "8\n",
            "23\n",
            "3\n"
          ]
        }
      ]
    },
    {
      "cell_type": "markdown",
      "source": [
        "# test above parts"
      ],
      "metadata": {
        "id": "yqX3MC0Glpwl"
      }
    },
    {
      "cell_type": "markdown",
      "source": [
        "## not now"
      ],
      "metadata": {
        "id": "rPl6iu5VeCy9"
      }
    },
    {
      "cell_type": "markdown",
      "source": [
        "### but now:"
      ],
      "metadata": {
        "id": "8awkHCybepGt"
      }
    },
    {
      "cell_type": "code",
      "source": [
        "epoch = 500"
      ],
      "metadata": {
        "id": "sVTWRrhguAJx"
      },
      "execution_count": null,
      "outputs": []
    },
    {
      "cell_type": "code",
      "source": [
        "g = Graph(10000)\n",
        "for i in range(10):\n",
        "    g.create_connected_component(list(range(i*1000,i*1000+1000)),550)\n",
        "\n",
        "g.add_self_loop()\n",
        "g.clear_redundant_edges()\n",
        "g.ask_nE(True)\n",
        "# g.create_embedding()"
      ],
      "metadata": {
        "colab": {
          "base_uri": "https://localhost:8080/"
        },
        "id": "60v_IoUycubz",
        "outputId": "179af725-ebc7-49d1-bd0e-cc7c81ba8cd0"
      },
      "execution_count": 307,
      "outputs": [
        {
          "output_type": "stream",
          "name": "stdout",
          "text": [
            "19907\n"
          ]
        },
        {
          "output_type": "execute_result",
          "data": {
            "text/plain": [
              "19907"
            ]
          },
          "metadata": {},
          "execution_count": 307
        }
      ]
    },
    {
      "cell_type": "code",
      "source": [
        "len(g.cc)"
      ],
      "metadata": {
        "colab": {
          "base_uri": "https://localhost:8080/"
        },
        "id": "0uxnGOuM6pdh",
        "outputId": "f7bb78ab-f5c0-482f-ae84-c6206d83253c"
      },
      "execution_count": 308,
      "outputs": [
        {
          "output_type": "execute_result",
          "data": {
            "text/plain": [
              "10"
            ]
          },
          "metadata": {},
          "execution_count": 308
        }
      ]
    },
    {
      "cell_type": "code",
      "source": [
        "# g.VnV[:100]"
      ],
      "metadata": {
        "id": "1nXH_RbkHN01"
      },
      "execution_count": 309,
      "outputs": []
    },
    {
      "cell_type": "code",
      "source": [
        "em = g.create_embedding()"
      ],
      "metadata": {
        "id": "zolR0PGecuen"
      },
      "execution_count": 310,
      "outputs": []
    },
    {
      "cell_type": "code",
      "source": [
        "data = Data(g)#g is Graph obj\n",
        "\n",
        "print(data.num_node_features)\n",
        "x, edge_index = data.x, data.edge_index\n",
        "print(x.shape,edge_index.shape)\n",
        "\n",
        "data.create_mask()\n",
        "print(sum(data.train_mask))\n",
        "print(sum(data.test_mask))\n",
        "\n",
        "# data.safe_create_mask()\n",
        "# print(sum(data.train_mask))\n",
        "# print(sum(data.test_mask))"
      ],
      "metadata": {
        "colab": {
          "base_uri": "https://localhost:8080/"
        },
        "id": "1JuTUiykcuhn",
        "outputId": "c378b8db-aab2-49a2-f08a-58dc39f898e1"
      },
      "execution_count": 311,
      "outputs": [
        {
          "output_type": "stream",
          "name": "stdout",
          "text": [
            "10000\n",
            "(10000, 10000) (2, 29814)\n",
            "20945\n",
            "8869\n"
          ]
        }
      ]
    },
    {
      "cell_type": "code",
      "source": [
        "train = np.array([data.edge_index[0][data.train_mask],data.edge_index[1][data.train_mask]])\n",
        "test = np.array([data.edge_index[0][data.test_mask],data.edge_index[1][data.test_mask]])"
      ],
      "metadata": {
        "id": "dxBWP77NoW_E"
      },
      "execution_count": 312,
      "outputs": []
    },
    {
      "cell_type": "code",
      "source": [
        "train,test"
      ],
      "metadata": {
        "colab": {
          "base_uri": "https://localhost:8080/"
        },
        "id": "SoOMuzycqRJz",
        "outputId": "19839254-c2db-49de-9473-1b1ec06f9788"
      },
      "execution_count": 313,
      "outputs": [
        {
          "output_type": "execute_result",
          "data": {
            "text/plain": [
              "(array([[   0,    0,    0, ..., 9998, 9999, 9999],\n",
              "        [ 160,  480,   99, ..., 9842, 9344, 9999]]),\n",
              " array([[   0,    0,    0, ..., 9994, 9997, 9998],\n",
              "        [   1,   47,   59, ..., 9957, 9775, 9998]]))"
            ]
          },
          "metadata": {},
          "execution_count": 313
        }
      ]
    },
    {
      "cell_type": "markdown",
      "source": [
        "*********************************/////////////////==================================================///////////////////********************************"
      ],
      "metadata": {
        "id": "SkvQoYqbdBrV"
      }
    },
    {
      "cell_type": "markdown",
      "source": [
        "## find train components again"
      ],
      "metadata": {
        "id": "eJK09ggdcsLo"
      }
    },
    {
      "cell_type": "code",
      "source": [
        "g2 = Graph(g.nV)\n",
        "for i in range(len(train[0])):\n",
        "    g2.add_edge(train[0][i],train[1][i])\n",
        "g2.clear_redundant_edges()"
      ],
      "metadata": {
        "id": "PvVMdQmHctZg"
      },
      "execution_count": 314,
      "outputs": []
    },
    {
      "cell_type": "code",
      "source": [
        "em = g2.create_embedding()"
      ],
      "metadata": {
        "id": "J-NLdNHIjK81"
      },
      "execution_count": 315,
      "outputs": []
    },
    {
      "cell_type": "code",
      "source": [
        "print(g2.nV,g.nV,g2.lenE)"
      ],
      "metadata": {
        "colab": {
          "base_uri": "https://localhost:8080/"
        },
        "id": "qZ1-oa2EfEev",
        "outputId": "f4ef6717-e99f-43ca-a1e2-ceb3bcb96b99"
      },
      "execution_count": 316,
      "outputs": [
        {
          "output_type": "stream",
          "name": "stdout",
          "text": [
            "10000 10000 16063.0\n"
          ]
        }
      ]
    },
    {
      "cell_type": "code",
      "source": [
        "g2.VnV[:10]"
      ],
      "metadata": {
        "colab": {
          "base_uri": "https://localhost:8080/"
        },
        "id": "zClalozGdc8p",
        "outputId": "b8c13d9f-c36f-4bcd-815b-a9a03637036d"
      },
      "execution_count": 317,
      "outputs": [
        {
          "output_type": "execute_result",
          "data": {
            "text/plain": [
              "[[160, 480, 0, 99, 1, 5, 59, 47, 23, 88, 187],\n",
              " [0, 35, 165, 8, 11, 268, 275, 52, 149],\n",
              " [2],\n",
              " [224, 3, 4, 6, 9, 12, 17, 18],\n",
              " [161, 3, 21, 472, 121, 27],\n",
              " [0, 106, 83, 68],\n",
              " [57, 66, 3, 6],\n",
              " [100, 132, 7, 10, 13, 15, 856, 795],\n",
              " [1, 67, 356, 8, 125],\n",
              " [32, 9, 3, 774]]"
            ]
          },
          "metadata": {},
          "execution_count": 317
        }
      ]
    },
    {
      "cell_type": "markdown",
      "source": [
        "## find components of train data (g2)"
      ],
      "metadata": {
        "id": "M8c0Tcs0gXi0"
      }
    },
    {
      "cell_type": "code",
      "source": [
        "class CGraph:\n",
        "\n",
        "\t# init function to declare class variables\n",
        "\tdef __init__(self, V):\n",
        "\t\tself.V = V\n",
        "\t\tself.adj = [[] for i in range(V)]\n",
        "\n",
        "\tdef DFSUtil(self, temp, v, visited):\n",
        "\n",
        "\t\t# Mark the current vertex as visited\n",
        "\t\tvisited[v] = True\n",
        "\n",
        "\t\t# Store the vertex to list\n",
        "\t\ttemp.append(v)\n",
        "\n",
        "\t\t# Repeat for all vertices adjacent\n",
        "\t\t# to this vertex v\n",
        "\t\tfor i in self.adj[v]:\n",
        "\t\t\tif visited[i] == False:\n",
        "\n",
        "\t\t\t\t# Update the list\n",
        "\t\t\t\ttemp = self.DFSUtil(temp, i, visited)\n",
        "\t\treturn temp\n",
        "\n",
        "\t# method to add an undirected edge\n",
        "\tdef addEdge(self, v, w):\n",
        "\t\tself.adj[v].append(w)\n",
        "\t\tself.adj[w].append(v)\n",
        "\n",
        "\t# Method to retrieve connected components\n",
        "\t# in an undirected graph\n",
        "\tdef connectedComponents(self):\n",
        "\t\tvisited = []\n",
        "\t\tcc = []\n",
        "\t\tfor i in range(self.V):\n",
        "\t\t\tvisited.append(False)\n",
        "\t\tfor v in range(self.V):\n",
        "\t\t\tif visited[v] == False:\n",
        "\t\t\t\ttemp = []\n",
        "\t\t\t\tcc.append(self.DFSUtil(temp, v, visited))\n",
        "\t\treturn cc"
      ],
      "metadata": {
        "id": "Sr4FPDDGddE0"
      },
      "execution_count": 318,
      "outputs": []
    },
    {
      "cell_type": "code",
      "source": [
        "# Driver Code\n",
        "cg = CGraph(g2.nV)\n",
        "\n",
        "for i in tqdm(range(len(train[0]))):\n",
        "    cg.addEdge(train[0][i],train[1][i])\n",
        "\n",
        "cc = cg.connectedComponents()\n"
      ],
      "metadata": {
        "colab": {
          "base_uri": "https://localhost:8080/"
        },
        "id": "GettNZ_ygW0O",
        "outputId": "d0bbee9e-e4d6-447c-ab41-eaa6ce805c5a"
      },
      "execution_count": 319,
      "outputs": [
        {
          "output_type": "stream",
          "name": "stderr",
          "text": [
            "100%|██████████| 20945/20945 [00:00<00:00, 770949.52it/s]\n"
          ]
        }
      ]
    },
    {
      "cell_type": "code",
      "source": [
        "print(\"# of components: \",len(cc))\n",
        "\n",
        "temp = []\n",
        "\n",
        "for i in range(len(cc)):\n",
        "    # print(i,\"--> \",len(cc[i]))\n",
        "    temp.append(len(cc[i]))\n"
      ],
      "metadata": {
        "colab": {
          "base_uri": "https://localhost:8080/"
        },
        "id": "FBlDwr9TgW52",
        "outputId": "76ae32e0-d8a0-487b-a521-5cbba5af3395"
      },
      "execution_count": 320,
      "outputs": [
        {
          "output_type": "stream",
          "name": "stdout",
          "text": [
            "# of components:  988\n"
          ]
        }
      ]
    },
    {
      "cell_type": "code",
      "source": [
        "import matplotlib.pyplot as plt"
      ],
      "metadata": {
        "id": "U1MGYke0gW8m"
      },
      "execution_count": 321,
      "outputs": []
    },
    {
      "cell_type": "code",
      "source": [
        "h = np.zeros(100)\n",
        "for i in temp:\n",
        "    try:\n",
        "        h[i]+=1\n",
        "    except:\n",
        "        pass\n",
        "        \n",
        "ii = 0 \n",
        "for i in h:\n",
        "    ii += 1\n",
        "    plt.bar(ii,i)\n",
        "plt.show()\n",
        "\n",
        "ii = 1 \n",
        "for i in h[1:]:\n",
        "    ii += 1\n",
        "    plt.bar(ii,i)\n",
        "plt.show()"
      ],
      "metadata": {
        "colab": {
          "base_uri": "https://localhost:8080/",
          "height": 513
        },
        "id": "c0yr0W4egW_K",
        "outputId": "fbc4bf02-3a82-46b5-8eba-2bcfc46e2cf6"
      },
      "execution_count": 325,
      "outputs": [
        {
          "output_type": "display_data",
          "data": {
            "text/plain": [
              "<Figure size 432x288 with 1 Axes>"
            ],
            "image/png": "[encoded data removed]"
          },
          "metadata": {
            "needs_background": "light"
          }
        },
        {
          "output_type": "display_data",
          "data": {
            "text/plain": [
              "<Figure size 432x288 with 1 Axes>"
            ],
            "image/png": "[encoded data removed]"
          },
          "metadata": {
            "needs_background": "light"
          }
        }
      ]
    },
    {
      "cell_type": "code",
      "source": [
        "g2.cc = cc"
      ],
      "metadata": {
        "id": "OA425_EnddHe"
      },
      "execution_count": 326,
      "outputs": []
    },
    {
      "cell_type": "markdown",
      "source": [
        "*********************************/////////////////==================================================///////////////////********************************"
      ],
      "metadata": {
        "id": "7uCNI7yycsDu"
      }
    },
    {
      "cell_type": "code",
      "source": [
        "etrain = g.create_embedding_based_on_input(train)\n",
        "# etest = g.create_embedding_based_on_input(test)"
      ],
      "metadata": {
        "id": "mH0G23IDouok"
      },
      "execution_count": 327,
      "outputs": []
    },
    {
      "cell_type": "markdown",
      "source": [
        "now we have:\n",
        "\n",
        "* train: edges\n",
        "* test: edges\n",
        "* etrain: matrix"
      ],
      "metadata": {
        "id": "vyiOlYznr5j9"
      }
    },
    {
      "cell_type": "markdown",
      "source": [
        "# function for cf and etc."
      ],
      "metadata": {
        "id": "znLYeT1zsRW1"
      }
    },
    {
      "cell_type": "code",
      "source": [
        "def edge_convertor(edges):\n",
        "    temp = []\n",
        "    for i in range(len(edges[0])):\n",
        "        temp.append([edges[0][i],edges[1][i]])\n",
        "    return temp"
      ],
      "metadata": {
        "id": "rvbUgbgtsZkq"
      },
      "execution_count": 328,
      "outputs": []
    },
    {
      "cell_type": "code",
      "source": [
        "def negative_sampler(n1,edges,nodes):\n",
        "    \n",
        "    n2 = random.choice(nodes)\n",
        "    while [n1,n2] in edges:\n",
        "           \n",
        "        n2 = random.choice(nodes)\n",
        "    return [n1,n2]"
      ],
      "metadata": {
        "id": "6lHfY9vusVF8"
      },
      "execution_count": 329,
      "outputs": []
    },
    {
      "cell_type": "code",
      "source": [
        "def euclidean_distance(x,y):\n",
        "    return sum((x-y)**2)**0.5/(sum(abs(x))*sum(abs(y)))"
      ],
      "metadata": {
        "id": "CZoI0yOStPQc"
      },
      "execution_count": 330,
      "outputs": []
    },
    {
      "cell_type": "code",
      "source": [
        "def distance_ranker(item,l):\n",
        "    s = 1\n",
        "    for i in l:\n",
        "        if item>i:\n",
        "            s+=1 \n",
        "    return s"
      ],
      "metadata": {
        "id": "LhsP1aNLvnCM"
      },
      "execution_count": 331,
      "outputs": []
    },
    {
      "cell_type": "code",
      "source": [
        "raw_train,raw_test = train[:],test[:]  "
      ],
      "metadata": {
        "id": "aBvAVM-lwAap"
      },
      "execution_count": 332,
      "outputs": []
    },
    {
      "cell_type": "markdown",
      "source": [
        "#model 1: simple Cf"
      ],
      "metadata": {
        "id": "VeIv7wtcsNiT"
      }
    },
    {
      "cell_type": "code",
      "source": [
        "test = edge_convertor(raw_test)\n",
        "train = edge_convertor(raw_train)\n",
        "tt = test+train\n",
        "nodes = g.V\n",
        "top1 = 0\n",
        "top3 = 0\n",
        "avg = 0\n",
        "counter_=0\n",
        "for sample in tqdm(train[::10]):\n",
        "    pos = sample\n",
        "    negs = []\n",
        "    for i in range(10):\n",
        "        neg = negative_sampler(pos[0],tt,nodes)\n",
        "        negs.append(neg)\n",
        "    dp = euclidean_distance(etrain[pos[0]],etrain[pos[1]])\n",
        "    dn = [euclidean_distance(etrain[neg[0]],etrain[neg[1]]) for neg in negs]\n",
        "\n",
        "    r = distance_ranker(dp,dn)\n",
        "    if r<2:\n",
        "        top1+=1\n",
        "    if r<4:\n",
        "        top3+=1\n",
        "    avg+=r\n",
        "    counter_+=1\n",
        "\n",
        "print('\\ntrain:\\n',top1,top3,avg/counter_)\n",
        "\n",
        "top1 = 0\n",
        "top3 = 0\n",
        "avg = 0\n",
        "counter_=0\n",
        "for sample in tqdm(test):\n",
        "    pos = sample\n",
        "    negs = []\n",
        "    for i in range(10):\n",
        "        neg = negative_sampler(pos[0],tt,nodes)\n",
        "        negs.append(neg)\n",
        "    dp = euclidean_distance(etrain[pos[0]],etrain[pos[1]])\n",
        "    dn = [euclidean_distance(etrain[neg[0]],etrain[neg[1]]) for neg in negs]\n",
        "\n",
        "    r = distance_ranker(dp,dn)\n",
        "    if r<2:\n",
        "        top1+=1\n",
        "    if r<4:\n",
        "        top3+=1\n",
        "    avg+=r\n",
        "    counter_+=1\n",
        "\n",
        "print('\\ntest:\\n',top1,top3,avg/counter_)"
      ],
      "metadata": {
        "colab": {
          "base_uri": "https://localhost:8080/"
        },
        "id": "TIYo4aVprz0U",
        "outputId": "5f112704-43a5-48e1-e658-16e8bb9b60c0"
      },
      "execution_count": 334,
      "outputs": [
        {
          "output_type": "stream",
          "name": "stderr",
          "text": [
            "  0%|          | 3/2095 [00:00<01:10, 29.82it/s]/usr/local/lib/python3.7/dist-packages/ipykernel_launcher.py:2: RuntimeWarning: divide by zero encountered in double_scalars\n",
            "  \n",
            "100%|██████████| 2095/2095 [01:13<00:00, 28.61it/s]\n"
          ]
        },
        {
          "output_type": "stream",
          "name": "stdout",
          "text": [
            "\n",
            "train:\n",
            " 1451 1739 2.2329355608591888\n"
          ]
        },
        {
          "output_type": "stream",
          "name": "stderr",
          "text": [
            "  2%|▏         | 211/8869 [00:08<04:52, 29.65it/s]/usr/local/lib/python3.7/dist-packages/ipykernel_launcher.py:2: RuntimeWarning: invalid value encountered in double_scalars\n",
            "  \n",
            "100%|██████████| 8869/8869 [05:13<00:00, 28.30it/s]"
          ]
        },
        {
          "output_type": "stream",
          "name": "stdout",
          "text": [
            "\n",
            "test:\n",
            " 5708 7157 2.3197654752508736\n"
          ]
        },
        {
          "output_type": "stream",
          "name": "stderr",
          "text": [
            "\n"
          ]
        }
      ]
    },
    {
      "cell_type": "markdown",
      "source": [
        "next phases\n",
        "* test light_GCN\n",
        "* test light_GCN with leakage\n",
        "* test GCN\n",
        "* test GCN with leakage"
      ],
      "metadata": {
        "id": "1r-SVrk_xtY5"
      }
    },
    {
      "cell_type": "markdown",
      "source": [
        "# *light_GCN*"
      ],
      "metadata": {
        "id": "PufJ-Bia1LOe"
      }
    },
    {
      "cell_type": "code",
      "source": [
        "etrain.shape"
      ],
      "metadata": {
        "colab": {
          "base_uri": "https://localhost:8080/"
        },
        "id": "wo4a1R3M3P_n",
        "outputId": "1833e237-b74e-402c-f075-9ec4935d8ba7"
      },
      "execution_count": 335,
      "outputs": [
        {
          "output_type": "execute_result",
          "data": {
            "text/plain": [
              "(10000, 10000)"
            ]
          },
          "metadata": {},
          "execution_count": 335
        }
      ]
    },
    {
      "cell_type": "code",
      "source": [
        "class LGCN:\n",
        "    def __init__(self):\n",
        "        pass\n",
        "\n",
        "    @staticmethod\n",
        "    def do(inmatrix,VE):\n",
        "        outmatrix = np.zeros((inmatrix.shape))\n",
        "        for i, v in enumerate(VE):\n",
        "            siz = len(v)\n",
        "            for j in v:\n",
        "                outmatrix[i]+=inmatrix[j]\n",
        "            outmatrix[i]/=siz\n",
        "        return outmatrix"
      ],
      "metadata": {
        "id": "g2UJ-Ors1KxP"
      },
      "execution_count": 336,
      "outputs": []
    },
    {
      "cell_type": "code",
      "source": [
        "\n",
        "etrain2 = np.copy(etrain)\n",
        "for i in tqdm(range(epoch)):\n",
        "    etrain2 = LGCN.do(etrain2,g.VnV)"
      ],
      "metadata": {
        "colab": {
          "base_uri": "https://localhost:8080/"
        },
        "id": "q69wVnDIvK3q",
        "outputId": "18187f18-9d47-411b-e880-88cba35baca7"
      },
      "execution_count": 337,
      "outputs": [
        {
          "output_type": "stream",
          "name": "stderr",
          "text": [
            "100%|██████████| 5/5 [00:02<00:00,  1.97it/s]\n"
          ]
        }
      ]
    },
    {
      "cell_type": "code",
      "source": [
        "test = edge_convertor(raw_test)\n",
        "train = edge_convertor(raw_train)\n",
        "tt = test+train\n",
        "nodes = g.V\n",
        "top1 = 0\n",
        "top3 = 0\n",
        "avg = 0\n",
        "counter_=0\n",
        "\n",
        "for sample in tqdm(train[::10]):\n",
        "    pos = sample\n",
        "    negs = []\n",
        "    for i in range(10):\n",
        "        neg = negative_sampler(pos[0],tt,nodes)\n",
        "        negs.append(neg)\n",
        "    dp = euclidean_distance(etrain2[pos[0]],etrain2[pos[1]])\n",
        "    dn = [euclidean_distance(etrain2[neg[0]],etrain2[neg[1]]) for neg in negs]\n",
        "\n",
        "    r = distance_ranker(dp,dn)\n",
        "    if r<2:\n",
        "        top1+=1\n",
        "    if r<4:\n",
        "        top3+=1\n",
        "    avg+=r\n",
        "    counter_+=1\n",
        "\n",
        "print('\\ntrain:\\n',top1,top3,avg/counter_)\n",
        "\n",
        "top1 = 0\n",
        "top3 = 0\n",
        "avg = 0\n",
        "counter_=0\n",
        "for sample in tqdm(test):\n",
        "    pos = sample\n",
        "    negs = []\n",
        "    for i in range(10):\n",
        "        neg = negative_sampler(pos[0],tt,nodes)\n",
        "        negs.append(neg)\n",
        "    dp = euclidean_distance(etrain2[pos[0]],etrain2[pos[1]])\n",
        "    dn = [euclidean_distance(etrain2[neg[0]],etrain2[neg[1]]) for neg in negs]\n",
        "\n",
        "    r = distance_ranker(dp,dn)\n",
        "    if r<2:\n",
        "        top1+=1\n",
        "    if r<4:\n",
        "        top3+=1\n",
        "    avg+=r\n",
        "    counter_+=1\n",
        "\n",
        "print('\\ntest:\\n',top1,top3,avg/counter_)"
      ],
      "metadata": {
        "colab": {
          "base_uri": "https://localhost:8080/"
        },
        "id": "7OOwxP-KvVwx",
        "outputId": "3f5805bf-2d6a-4657-8a5d-1c35ee669b67"
      },
      "execution_count": 338,
      "outputs": [
        {
          "output_type": "stream",
          "name": "stderr",
          "text": [
            " 10%|▉         | 201/2095 [00:07<01:04, 29.30it/s]/usr/local/lib/python3.7/dist-packages/ipykernel_launcher.py:2: RuntimeWarning: divide by zero encountered in double_scalars\n",
            "  \n",
            "100%|██████████| 2095/2095 [01:13<00:00, 28.60it/s]\n"
          ]
        },
        {
          "output_type": "stream",
          "name": "stdout",
          "text": [
            "\n",
            "train:\n",
            " 2095 2095 1.0\n"
          ]
        },
        {
          "output_type": "stream",
          "name": "stderr",
          "text": [
            "  5%|▍         | 408/8869 [00:14<04:46, 29.49it/s]/usr/local/lib/python3.7/dist-packages/ipykernel_launcher.py:2: RuntimeWarning: invalid value encountered in double_scalars\n",
            "  \n",
            "100%|██████████| 8869/8869 [05:13<00:00, 28.33it/s]"
          ]
        },
        {
          "output_type": "stream",
          "name": "stdout",
          "text": [
            "\n",
            "test:\n",
            " 8863 8869 1.0006765136994025\n"
          ]
        },
        {
          "output_type": "stream",
          "name": "stderr",
          "text": [
            "\n"
          ]
        }
      ]
    },
    {
      "cell_type": "markdown",
      "source": [
        "# light_GCN with leakage"
      ],
      "metadata": {
        "id": "h9nZoekQ48O-"
      }
    },
    {
      "cell_type": "code",
      "source": [
        "class LGCNwL:\n",
        "    def __init__(self):\n",
        "        pass\n",
        "    @staticmethod\n",
        "    def new_neg_vic(inmatrix,VE,leakageratio,lambdaa,cc):\n",
        "        for c1 in cc:\n",
        "             if leakageratio>random.random():\n",
        "                c2 = random.choice(cc)\n",
        "                while c2 != c1:\n",
        "                    c2 = random.choice(cc)\n",
        "                    \n",
        "                v1 = random.choice(c1)\n",
        "                v2 = random.choice(c2)\n",
        "                temp = inmatrix[v1][:]\n",
        "                inmatrix[v1] -= lambdaa*inmatrix[v2]\n",
        "                inmatrix[v2] -= lambdaa*temp\n",
        "        \n",
        "        return inmatrix\n",
        "\n",
        "    @staticmethod\n",
        "    def do(inmatrix,VE,cc,leakageratio=0.3,lambdaa=0.1):\n",
        "        outmatrix = np.zeros((inmatrix.shape))\n",
        "        inmatrix2 = LGCNwL.new_neg_vic(np.copy(inmatrix),VE,leakageratio,lambdaa,cc)\n",
        "      \n",
        "        for i, v in enumerate(VE):\n",
        "            siz = len(v)\n",
        "            for j in v:\n",
        "                outmatrix[i]+=inmatrix2[j]\n",
        "            outmatrix[i]/=siz\n",
        "        return outmatrix"
      ],
      "metadata": {
        "id": "HO3h8pMtvWt5"
      },
      "execution_count": 339,
      "outputs": []
    },
    {
      "cell_type": "code",
      "source": [
        "\n",
        "etrain2 = np.copy(etrain)\n",
        "for i in tqdm(range(epoch)):\n",
        "    etrain2 = LGCNwL.do(etrain2,g2.VnV,g2.cc,leakageratio=0.1,lambdaa=0.1)"
      ],
      "metadata": {
        "id": "_p-rt5OuvXqi",
        "colab": {
          "base_uri": "https://localhost:8080/"
        },
        "outputId": "8d25a774-1119-4f3c-d224-b3686ac2fd2e"
      },
      "execution_count": 340,
      "outputs": [
        {
          "output_type": "stream",
          "name": "stderr",
          "text": [
            "  0%|          | 0/5 [00:00<?, ?it/s]/usr/local/lib/python3.7/dist-packages/ipykernel_launcher.py:29: RuntimeWarning: invalid value encountered in true_divide\n",
            "100%|██████████| 5/5 [00:02<00:00,  1.73it/s]\n"
          ]
        }
      ]
    },
    {
      "cell_type": "code",
      "source": [
        "test = edge_convertor(raw_test)\n",
        "train = edge_convertor(raw_train)\n",
        "tt = test+train\n",
        "nodes = g.V\n",
        "top1 = 0\n",
        "top3 = 0\n",
        "avg = 0\n",
        "counter_=0\n",
        "\n",
        "for sample in tqdm(train[::10]):\n",
        "    pos = sample\n",
        "    negs = []\n",
        "    for i in range(10):\n",
        "        neg = negative_sampler(pos[0],tt,nodes)\n",
        "        negs.append(neg)\n",
        "    dp = euclidean_distance(etrain2[pos[0]],etrain2[pos[1]])\n",
        "    dn = [euclidean_distance(etrain2[neg[0]],etrain2[neg[1]]) for neg in negs]\n",
        "\n",
        "    r = distance_ranker(dp,dn)\n",
        "    if r<2:\n",
        "        top1+=1\n",
        "    if r<4:\n",
        "        top3+=1\n",
        "    avg+=r\n",
        "    counter_+=1\n",
        "\n",
        "print('\\ntrain:\\n',top1,top3,avg/counter_)\n",
        "\n",
        "top1 = 0\n",
        "top3 = 0\n",
        "avg = 0\n",
        "counter_=0\n",
        "for sample in tqdm(test):\n",
        "    pos = sample\n",
        "    negs = []\n",
        "    for i in range(10):\n",
        "        neg = negative_sampler(pos[0],tt,nodes)\n",
        "        negs.append(neg)\n",
        "    dp = euclidean_distance(etrain2[pos[0]],etrain2[pos[1]])\n",
        "    dn = [euclidean_distance(etrain2[neg[0]],etrain2[neg[1]]) for neg in negs]\n",
        "\n",
        "    r = distance_ranker(dp,dn)\n",
        "    if r<2:\n",
        "        top1+=1\n",
        "    if r<4:\n",
        "        top3+=1\n",
        "    avg+=r\n",
        "    counter_+=1\n",
        "\n",
        "print('\\ntest:\\n',top1,top3,avg/counter_)"
      ],
      "metadata": {
        "colab": {
          "base_uri": "https://localhost:8080/"
        },
        "id": "5MBoiADh8oBt",
        "outputId": "c8ccc749-5591-44e6-d4d6-e780c026de3b"
      },
      "execution_count": null,
      "outputs": [
        {
          "output_type": "stream",
          "name": "stderr",
          "text": [
            " 13%|█▎        | 273/2095 [00:09<01:01, 29.52it/s]/usr/local/lib/python3.7/dist-packages/ipykernel_launcher.py:2: RuntimeWarning: divide by zero encountered in double_scalars\n",
            "  \n",
            "100%|██████████| 2095/2095 [01:11<00:00, 29.27it/s]\n"
          ]
        },
        {
          "output_type": "stream",
          "name": "stdout",
          "text": [
            "\n",
            "train:\n",
            " 2080 2087 1.03054892601432\n"
          ]
        },
        {
          "output_type": "stream",
          "name": "stderr",
          "text": [
            " 28%|██▊       | 2499/8869 [01:25<03:37, 29.28it/s]"
          ]
        }
      ]
    },
    {
      "cell_type": "markdown",
      "source": [
        "***50 node 3 component***\n",
        "\n",
        "*top1,top3,avg:*\n",
        "\n",
        "**simple cf**\n",
        "* train:\n",
        " 106 149 2.52\n",
        "* test:\n",
        " 28 36 3.46\n",
        "\n",
        "**LGCN 3 layer**\n",
        "* train: \n",
        " 154 181 1.30\n",
        "* test: \n",
        " 50 57 1.18\n",
        "\n",
        "**LGCN 10 layer**\n",
        "* train: \n",
        "133 172 1.53\n",
        "* test:\n",
        " 47 57 1.31\n",
        "\n",
        "**LGCN 100 layer**\n",
        "* train:\n",
        " 132 174 1.52\n",
        "* test:\n",
        " 43 55 1.44\n",
        "\n",
        "**LGCNwL 3 layer leakageratio=1 lambdaa=0.1**\n",
        "* train:\n",
        " 88 151 2.29\n",
        "* test:\n",
        " 25 46 2.51"
      ],
      "metadata": {
        "id": "Fisw1bnf38zw"
      }
    },
    {
      "cell_type": "code",
      "source": [
        "len(g.cc)"
      ],
      "metadata": {
        "id": "7-ujyLBk9CNF"
      },
      "execution_count": null,
      "outputs": []
    },
    {
      "cell_type": "markdown",
      "source": [
        "LGCNwL type 2"
      ],
      "metadata": {
        "id": "PQvmKp8rAbyH"
      }
    },
    {
      "cell_type": "code",
      "source": [
        "class LGCNwL2:\n",
        "    def __init__(self):\n",
        "        pass\n",
        "    @staticmethod\n",
        "    def new_neg_vic(inmatrix,VE,leakageratio,lambdaa,cc):\n",
        "        for c1 in range(len(cc)):\n",
        "             if leakageratio>random.random():\n",
        "                c2 = random.randint(len(cc))\n",
        "                while c2 != c1:\n",
        "                    c2 = random.randint(len(cc))\n",
        "                    \n",
        "                v1 = cc(c1)\n",
        "                v2 = cc(c2)\n",
        "                vv1 = random.choice(v1)\n",
        "                vv2 = random.choice(v2)\n",
        "                temp = inmatrix[vv1]\n",
        "                temp2 = lambdaa*inmatrix[vv2]\n",
        "                for v in v1:\n",
        "                    inmatrix[v] -= lambdaa*temp2\n",
        "                for v in v2:\n",
        "                    inmatrix[v] -= lambdaa*temp\n",
        "        \n",
        "        return inmatrix\n",
        "\n",
        "    @staticmethod\n",
        "    def do(inmatrix,VE,cc,leakageratio=0.3,lambdaa=0.1):\n",
        "        outmatrix = np.zeros((inmatrix.shape))\n",
        "        inmatrix2 = LGCNwL.new_neg_vic(np.copy(inmatrix),VE,leakageratio,lambdaa,cc)\n",
        "      \n",
        "        for i, v in enumerate(VE):\n",
        "            siz = len(v)\n",
        "            for j in v:\n",
        "                outmatrix[i]+=inmatrix2[j]\n",
        "            outmatrix[i]/=siz\n",
        "        return outmatrix"
      ],
      "metadata": {
        "id": "VxHahMjJ-Mb1"
      },
      "execution_count": null,
      "outputs": []
    },
    {
      "cell_type": "code",
      "source": [
        "\n",
        "etrain2 = np.copy(etrain)\n",
        "for i in tqdm(range(epoch)):\n",
        "    etrain2 = LGCNwL2.do(etrain2,g2.VnV,g2.cc,leakageratio=0.3,lambdaa=0.1)"
      ],
      "metadata": {
        "id": "tGZY1NpZBgJm"
      },
      "execution_count": null,
      "outputs": []
    },
    {
      "cell_type": "code",
      "source": [
        "test = edge_convertor(raw_test)\n",
        "train = edge_convertor(raw_train)\n",
        "tt = test+train\n",
        "nodes = g.V\n",
        "top1 = 0\n",
        "top3 = 0\n",
        "avg = 0\n",
        "counter_=0\n",
        "\n",
        "for sample in tqdm(train[::10]):\n",
        "    pos = sample\n",
        "    negs = []\n",
        "    for i in range(10):\n",
        "        neg = negative_sampler(pos[0],tt,nodes)\n",
        "        negs.append(neg)\n",
        "    dp = euclidean_distance(etrain2[pos[0]],etrain2[pos[1]])\n",
        "    dn = [euclidean_distance(etrain2[neg[0]],etrain2[neg[1]]) for neg in negs]\n",
        "\n",
        "    r = distance_ranker(dp,dn)\n",
        "    if r<2:\n",
        "        top1+=1\n",
        "    if r<4:\n",
        "        top3+=1\n",
        "    avg+=r\n",
        "    counter_+=1\n",
        "\n",
        "print('\\ntrain:\\n',top1,top3,avg/counter_)\n",
        "\n",
        "top1 = 0\n",
        "top3 = 0\n",
        "avg = 0\n",
        "counter_=0\n",
        "for sample in tqdm(test):\n",
        "    pos = sample\n",
        "    negs = []\n",
        "    for i in range(10):\n",
        "        neg = negative_sampler(pos[0],tt,nodes)\n",
        "        negs.append(neg)\n",
        "    dp = euclidean_distance(etrain2[pos[0]],etrain2[pos[1]])\n",
        "    dn = [euclidean_distance(etrain2[neg[0]],etrain2[neg[1]]) for neg in negs]\n",
        "\n",
        "    r = distance_ranker(dp,dn)\n",
        "    if r<2:\n",
        "        top1+=1\n",
        "    if r<4:\n",
        "        top3+=1\n",
        "    avg+=r\n",
        "    counter_+=1\n",
        "\n",
        "print('\\ntest:\\n',top1,top3,avg/counter_)"
      ],
      "metadata": {
        "id": "i9diMXkEBh7N"
      },
      "execution_count": null,
      "outputs": []
    },
    {
      "cell_type": "code",
      "source": [
        "len(g.V),len(g.edge_index()[0]),len(g.edge_index()[0])/len(g.V)"
      ],
      "metadata": {
        "id": "upSYd4gWB0yd"
      },
      "execution_count": null,
      "outputs": []
    },
    {
      "cell_type": "code",
      "source": [
        "len(train),len(train[::10]),len(test)"
      ],
      "metadata": {
        "id": "xi5zG7_IPfCI"
      },
      "execution_count": null,
      "outputs": []
    },
    {
      "cell_type": "code",
      "source": [],
      "metadata": {
        "id": "kDVZDaaMPnqJ"
      },
      "execution_count": null,
      "outputs": []
    }
  ]
}