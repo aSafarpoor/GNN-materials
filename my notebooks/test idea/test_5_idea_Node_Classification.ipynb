{
  "nbformat": 4,
  "nbformat_minor": 0,
  "metadata": {
    "colab": {
      "provenance": [],
      "collapsed_sections": []
    },
    "kernelspec": {
      "name": "python3",
      "display_name": "Python 3"
    }
  },
  "cells": [
    {
      "cell_type": "markdown",
      "source": [
        "My idea is breaking each strong node to multiple nodes!"
      ],
      "metadata": {
        "id": "NocASKQXwwK_"
      }
    },
    {
      "cell_type": "markdown",
      "source": [
        "source: https://colab.research.google.com/drive/14OvFnAXggxB8vM4e8vSURUp1TaKnovzX"
      ],
      "metadata": {
        "id": "GAA6qrdUuw28"
      }
    },
    {
      "cell_type": "markdown",
      "source": [
        "# hide"
      ],
      "metadata": {
        "id": "e_9AUumjwjb4"
      }
    },
    {
      "cell_type": "code",
      "source": [
        "import warnings\n",
        "warnings.filterwarnings(\"ignore\")"
      ],
      "metadata": {
        "id": "OABQtnq0Yg9-"
      },
      "execution_count": 558,
      "outputs": []
    },
    {
      "cell_type": "code",
      "source": [
        "import numpy as np\n",
        "import matplotlib.pyplot as plt\n",
        "from tqdm import tqdm"
      ],
      "metadata": {
        "id": "2Hjurjtbxq0W"
      },
      "execution_count": 559,
      "outputs": []
    },
    {
      "cell_type": "code",
      "metadata": {
        "id": "F1op-CbyLuN4",
        "colab": {
          "base_uri": "https://localhost:8080/"
        },
        "outputId": "aa2391b2-04c4-40d1-d430-3caaaeb60b0c"
      },
      "source": [
        "# Install required packages.\n",
        "import os\n",
        "import torch\n",
        "os.environ['TORCH'] = torch.__version__\n",
        "print(torch.__version__)\n",
        "\n",
        "!pip install -q torch-scatter -f https://data.pyg.org/whl/torch-${TORCH}.html\n",
        "!pip install -q torch-sparse -f https://data.pyg.org/whl/torch-${TORCH}.html\n",
        "!pip install -q git+https://github.com/pyg-team/pytorch_geometric.git\n",
        "\n",
        "# Helper function for visualization.\n",
        "%matplotlib inline\n",
        "import matplotlib.pyplot as plt\n",
        "from sklearn.manifold import TSNE\n",
        "\n",
        "def visualize(h, color):\n",
        "    z = TSNE(n_components=2).fit_transform(h.detach().cpu().numpy())\n",
        "\n",
        "    plt.figure(figsize=(10,10))\n",
        "    plt.xticks([])\n",
        "    plt.yticks([])\n",
        "\n",
        "    plt.scatter(z[:, 0], z[:, 1], s=70, c=color, cmap=\"Set2\")\n",
        "    plt.show()"
      ],
      "execution_count": 560,
      "outputs": [
        {
          "output_type": "stream",
          "name": "stdout",
          "text": [
            "1.12.1+cu113\n"
          ]
        }
      ]
    },
    {
      "cell_type": "markdown",
      "metadata": {
        "id": "dszt2RUHE7lW"
      },
      "source": [
        "## Node Classification with Graph Neural Networks\n",
        "\n",
        "[Previous: Introduction: Hands-on Graph Neural Networks](https://colab.research.google.com/drive/1h3-vJGRVloF5zStxL5I0rSy4ZUPNsjy8)\n",
        "\n",
        "This tutorial will teach you how to apply **Graph Neural Networks (GNNs) to the task of node classification**.\n",
        "Here, we are given the ground-truth labels of only a small subset of nodes, and want to infer the labels for all the remaining nodes (*transductive learning*).\n",
        "\n",
        "To demonstrate, we make use of the `Cora` dataset, which is a **citation network** where nodes represent documents.\n",
        "Each node is described by a 1433-dimensional bag-of-words feature vector.\n",
        "Two documents are connected if there exists a citation link between them.\n",
        "The task is to infer the category of each document (7 in total).\n",
        "\n",
        "This dataset was first introduced by [Yang et al. (2016)](https://arxiv.org/abs/1603.08861) as one of the datasets of the `Planetoid` benchmark suite.\n",
        "We again can make use [PyTorch Geometric](https://github.com/rusty1s/pytorch_geometric) for an easy access to this dataset via [`torch_geometric.datasets.Planetoid`](https://pytorch-geometric.readthedocs.io/en/latest/modules/datasets.html#torch_geometric.datasets.Planetoid):"
      ]
    },
    {
      "cell_type": "code",
      "metadata": {
        "id": "imGrKO5YH11-",
        "colab": {
          "base_uri": "https://localhost:8080/"
        },
        "outputId": "daec1c38-7130-4934-c48b-439140d409b0"
      },
      "source": [
        "from torch_geometric.datasets import Planetoid\n",
        "from torch_geometric.transforms import NormalizeFeatures\n",
        "\n",
        "dataset = Planetoid(root='data/Planetoid', name='Cora', transform=NormalizeFeatures())\n",
        "\n",
        "print()\n",
        "print(f'Dataset: {dataset}:')\n",
        "print('======================')\n",
        "print(f'Number of graphs: {len(dataset)}')\n",
        "print(f'Number of features: {dataset.num_features}')\n",
        "print(f'Number of classes: {dataset.num_classes}')\n",
        "\n",
        "data = dataset[0]  # Get the first graph object.\n",
        "\n",
        "print()\n",
        "print(data)\n",
        "print('===========================================================================================================')\n",
        "\n",
        "# Gather some statistics about the graph.\n",
        "print(f'Number of nodes: {data.num_nodes}')\n",
        "print(f'Number of edges: {data.num_edges}')\n",
        "print(f'Average node degree: {data.num_edges / data.num_nodes:.2f}')\n",
        "print(f'Number of training nodes: {data.train_mask.sum()}')\n",
        "print(f'Training node label rate: {int(data.train_mask.sum()) / data.num_nodes:.2f}')\n",
        "print(f'Has isolated nodes: {data.has_isolated_nodes()}')\n",
        "print(f'Has self-loops: {data.has_self_loops()}')\n",
        "print(f'Is undirected: {data.is_undirected()}')"
      ],
      "execution_count": 561,
      "outputs": [
        {
          "output_type": "stream",
          "name": "stdout",
          "text": [
            "\n",
            "Dataset: Cora():\n",
            "======================\n",
            "Number of graphs: 1\n",
            "Number of features: 1433\n",
            "Number of classes: 7\n",
            "\n",
            "Data(x=[2708, 1433], edge_index=[2, 10556], y=[2708], train_mask=[2708], val_mask=[2708], test_mask=[2708])\n",
            "===========================================================================================================\n",
            "Number of nodes: 2708\n",
            "Number of edges: 10556\n",
            "Average node degree: 3.90\n",
            "Number of training nodes: 140\n",
            "Training node label rate: 0.05\n",
            "Has isolated nodes: False\n",
            "Has self-loops: False\n",
            "Is undirected: True\n"
          ]
        }
      ]
    },
    {
      "cell_type": "code",
      "source": [
        "log = {}"
      ],
      "metadata": {
        "id": "M0QIrlaWw643"
      },
      "execution_count": 562,
      "outputs": []
    },
    {
      "cell_type": "markdown",
      "source": [
        "#Test"
      ],
      "metadata": {
        "id": "x5FST8azxIEY"
      }
    },
    {
      "cell_type": "code",
      "source": [],
      "metadata": {
        "id": "0UR8MRliw2yw"
      },
      "execution_count": 562,
      "outputs": []
    },
    {
      "cell_type": "code",
      "source": [
        "log['dataset']=dataset"
      ],
      "metadata": {
        "id": "qH6zZsOlxZDQ"
      },
      "execution_count": 563,
      "outputs": []
    },
    {
      "cell_type": "code",
      "source": [
        "nodes = np.zeros(2708)"
      ],
      "metadata": {
        "id": "WGhxfEilxZJ-"
      },
      "execution_count": 564,
      "outputs": []
    },
    {
      "cell_type": "code",
      "source": [
        "for i in range(10556):\n",
        "    a =  data.edge_index[0][i]\n",
        "    b =  data.edge_index[1][i]\n",
        "    nodes[a]+=1\n",
        "    nodes[b]+=1"
      ],
      "metadata": {
        "id": "b_lqkQymxZLm"
      },
      "execution_count": 565,
      "outputs": []
    },
    {
      "cell_type": "code",
      "source": [
        "max(nodes)"
      ],
      "metadata": {
        "colab": {
          "base_uri": "https://localhost:8080/"
        },
        "id": "UuM5xGCvxI2x",
        "outputId": "2f287df4-ae1b-49c9-970e-e3ce9b311e14"
      },
      "execution_count": 566,
      "outputs": [
        {
          "output_type": "execute_result",
          "data": {
            "text/plain": [
              "336.0"
            ]
          },
          "metadata": {},
          "execution_count": 566
        }
      ]
    },
    {
      "cell_type": "code",
      "source": [
        "original_nodes = np.copy(nodes)"
      ],
      "metadata": {
        "id": "IkdtuhxBk8Et"
      },
      "execution_count": 567,
      "outputs": []
    },
    {
      "cell_type": "code",
      "source": [
        "_ = plt.hist(nodes, bins='auto')  # arguments are passed to np.histogram\n",
        "plt.show()"
      ],
      "metadata": {
        "colab": {
          "base_uri": "https://localhost:8080/",
          "height": 265
        },
        "id": "GITTLPoQxI9Z",
        "outputId": "b72f406a-f665-4af5-a730-434745f581a2"
      },
      "execution_count": 568,
      "outputs": [
        {
          "output_type": "display_data",
          "data": {
            "text/plain": [
              "<Figure size 432x288 with 1 Axes>"
            ],
            "image/png": "[encoded data removed]"
          },
          "metadata": {
            "needs_background": "light"
          }
        }
      ]
    },
    {
      "cell_type": "code",
      "source": [
        "nodes2 = nodes[nodes>50]\n",
        "len(nodes2)"
      ],
      "metadata": {
        "colab": {
          "base_uri": "https://localhost:8080/"
        },
        "id": "RIJDLesrylep",
        "outputId": "aa894c6d-ff04-458b-8294-40828eafd2da"
      },
      "execution_count": 569,
      "outputs": [
        {
          "output_type": "execute_result",
          "data": {
            "text/plain": [
              "17"
            ]
          },
          "metadata": {},
          "execution_count": 569
        }
      ]
    },
    {
      "cell_type": "code",
      "source": [
        "_ = plt.hist(nodes2, bins='auto')  # arguments are passed to np.histogram\n",
        "plt.show()"
      ],
      "metadata": {
        "colab": {
          "base_uri": "https://localhost:8080/",
          "height": 265
        },
        "id": "SLR0Wrcuylfx",
        "outputId": "62065862-8c8e-494f-bede-3a71252be547"
      },
      "execution_count": 570,
      "outputs": [
        {
          "output_type": "display_data",
          "data": {
            "text/plain": [
              "<Figure size 432x288 with 1 Axes>"
            ],
            "image/png": "[encoded data removed]"
          },
          "metadata": {
            "needs_background": "light"
          }
        }
      ]
    },
    {
      "cell_type": "markdown",
      "source": [
        "I guess break each extra 100 to a new part"
      ],
      "metadata": {
        "id": "Odg-jMOXy9fK"
      }
    },
    {
      "cell_type": "code",
      "source": [
        "data = dataset[0]"
      ],
      "metadata": {
        "id": "EoY88IQCQCCP"
      },
      "execution_count": 571,
      "outputs": []
    },
    {
      "cell_type": "code",
      "source": [
        "log['raw data'] = str(data)"
      ],
      "metadata": {
        "id": "7PnIsPqvZj8d"
      },
      "execution_count": 572,
      "outputs": []
    },
    {
      "cell_type": "code",
      "source": [
        "x = data.x\n",
        "ei = data.edge_index \n",
        "y = data.y\n",
        "train_mask, val_mask, test_mask = data.train_mask, data.val_mask, data.test_mask"
      ],
      "metadata": {
        "id": "7zgnIWHXylnh"
      },
      "execution_count": 573,
      "outputs": []
    },
    {
      "cell_type": "code",
      "source": [
        "def multiappender(l,e):\n",
        "    d = e.reshape(1,-1)\n",
        "    l = torch.cat([l, torch.tensor(d)], dim=0)\n",
        "    return l"
      ],
      "metadata": {
        "id": "WrSjKYPP_7P2"
      },
      "execution_count": 574,
      "outputs": []
    },
    {
      "cell_type": "code",
      "source": [
        "def appender(l,e):\n",
        "    z = torch.cat([l, torch.tensor(e).reshape(1)], dim=0)\n",
        "    return z"
      ],
      "metadata": {
        "id": "UWL0o86IAwFz"
      },
      "execution_count": 575,
      "outputs": []
    },
    {
      "cell_type": "code",
      "source": [
        "log['info'] = {}\n",
        "log['info']['#of(edge_index,x,ei,train_mask']=[len(data.edge_index[0]),len(data.x),len(ei),len(train_mask)]"
      ],
      "metadata": {
        "id": "GAddtif-wxdD"
      },
      "execution_count": 576,
      "outputs": []
    },
    {
      "cell_type": "markdown",
      "source": [
        "## run phase 1"
      ],
      "metadata": {
        "id": "OSa--NdYVuWT"
      }
    },
    {
      "cell_type": "markdown",
      "source": [
        "save original data:"
      ],
      "metadata": {
        "id": "KP0kydxvVw15"
      }
    },
    {
      "cell_type": "code",
      "source": [
        "def make_data_ready(flag_type_2,\n",
        "                    each_part_size,\n",
        "                    istype2 = False):\n",
        "    \n",
        "    dataset = Planetoid(root='data/Planetoid', name='Cora', transform=NormalizeFeatures())\n",
        "    data = dataset[0]\n",
        "    \n",
        "    redunclass = [[i] for i in range(len(data.x))]\n",
        "\n",
        "    nodes = np.zeros(len(data.x))\n",
        "    for i in range(len(data.edge_index[0])):\n",
        "        a =  data.edge_index[0][i]\n",
        "        b =  data.edge_index[1][i]\n",
        "        nodes[a]+=1\n",
        "        nodes[b]+=1\n",
        "\n",
        "    strongs = []\n",
        "    for i in tqdm(range(len(nodes))):\n",
        "        if nodes[i]>each_part_size:\n",
        "            strongs.append(i)\n",
        "\n",
        "    x = data.x\n",
        "    ei = data.edge_index \n",
        "    y = data.y\n",
        "    train_mask, val_mask, test_mask = data.train_mask, data.val_mask, data.test_mask\n",
        "    \n",
        "    d = False  \n",
        "\n",
        "    for s in tqdm(strongs):\n",
        "        n = nodes[s]\n",
        "        while(n>each_part_size):\n",
        "\n",
        "            x = multiappender(x,x[s])\n",
        "            redunclass[s].append(len(x)-1)\n",
        "            y = appender(y,y[s])\n",
        "\n",
        "            train_mask = appender(train_mask,train_mask[s])\n",
        "            val_mask = appender(val_mask,val_mask[s]) \n",
        "            \n",
        "            if istype2:\n",
        "                test_mask = appender(test_mask,False)\n",
        "                test_mask[s] = False\n",
        "            else:\n",
        "                test_mask = appender(test_mask,test_mask[s])\n",
        "            \n",
        "            if n >= each_part_size*1.5:\n",
        "                t = each_part_size\n",
        "                n-=t\n",
        "                \n",
        "                for i in range(len(ei[0])):\n",
        "                    e1,e2 = ei[0][i],ei[1][i]\n",
        "                    \n",
        "                    if t<=0:\n",
        "                        break\n",
        "\n",
        "                    if e1==s:\n",
        "                        t-=1\n",
        "                        ei[0][i] = len(val_mask)-1\n",
        "                    elif e2==s:\n",
        "                        t-=1\n",
        "                        ei[1][i] = len(val_mask)-1\n",
        "                    \n",
        "            else:\n",
        "                t = int((n+1)/2)\n",
        "                n-=t\n",
        "                \n",
        "                for i in range(len(ei[0])):\n",
        "                    if t<=0:\n",
        "                        break\n",
        "\n",
        "                    e1,e2 = ei[0][i],ei[1][i]\n",
        "                    if e1==s:\n",
        "                        t-=1\n",
        "                        ei[0][i] = len(val_mask)-1\n",
        "                    elif e2==s:\n",
        "                        t-=1\n",
        "                        ei[1][i] = len(val_mask)-1\n",
        "                    \n",
        "            if flag_type_2:\n",
        "\n",
        "                print(len(data.edge_index[0]),len(data.x),len(ei))\n",
        "\n",
        "                d = torch.tensor([len(val_mask)-1,s])\n",
        "                d = d.reshape(2,-1)\n",
        "                ei = torch.cat([ei, torch.tensor(d)], dim=-1)\n",
        "\n",
        "                d = torch.tensor([s,len(val_mask)-1])\n",
        "                d = d.reshape(2,-1)\n",
        "                ei = torch.cat([ei, torch.tensor(d)], dim=-1)\n",
        "    data.x = x\n",
        "    data.edge_index = ei \n",
        "    data.y = y\n",
        "    data.train_mask, data.val_mask, data.test_mask = train_mask, val_mask, test_mask\n",
        "\n",
        "    nodes = np.zeros(len(data.x))\n",
        "    for i in range(len(data.edge_index[0])):\n",
        "        a =  data.edge_index[0][i]\n",
        "        b =  data.edge_index[1][i]\n",
        "        nodes[a]+=1\n",
        "        nodes[b]+=1\n",
        "\n",
        "    return x,ei,y,d,strongs,nodes,data,train_mask,test_mask,val_mask,dataset,redunclass"
      ],
      "metadata": {
        "id": "utygo_YhzJ3q"
      },
      "execution_count": 577,
      "outputs": []
    },
    {
      "cell_type": "code",
      "source": [
        "x,ei,y,d,strongs,nodes,data,train_mask,test_mask,val_mask,dataset,redunclass = make_data_ready(flag_type_2 = True,\n",
        "                                                                                       each_part_size = 100,\n",
        "                                                                                       istype2 = False)"
      ],
      "metadata": {
        "colab": {
          "base_uri": "https://localhost:8080/"
        },
        "id": "ra1IsQNOYqx1",
        "outputId": "db5598c0-cba6-45b2-db9b-de3a8d48fb16"
      },
      "execution_count": 578,
      "outputs": [
        {
          "output_type": "stream",
          "name": "stderr",
          "text": [
            "100%|██████████| 2708/2708 [00:00<00:00, 543297.39it/s]\n",
            "  0%|          | 0/4 [00:00<?, ?it/s]"
          ]
        },
        {
          "output_type": "stream",
          "name": "stdout",
          "text": [
            "10556 2708 2\n",
            "10556 2708 2\n"
          ]
        },
        {
          "output_type": "stream",
          "name": "stderr",
          "text": [
            "\r 50%|█████     | 2/4 [00:00<00:00,  4.93it/s]"
          ]
        },
        {
          "output_type": "stream",
          "name": "stdout",
          "text": [
            "10556 2708 2\n",
            "10556 2708 2\n"
          ]
        },
        {
          "output_type": "stream",
          "name": "stderr",
          "text": [
            "100%|██████████| 4/4 [00:00<00:00,  5.08it/s]"
          ]
        },
        {
          "output_type": "stream",
          "name": "stdout",
          "text": [
            "10556 2708 2\n",
            "10556 2708 2\n"
          ]
        },
        {
          "output_type": "stream",
          "name": "stderr",
          "text": [
            "\n"
          ]
        }
      ]
    },
    {
      "cell_type": "code",
      "source": [
        "sum(train_mask),sum(val_mask),sum(test_mask)"
      ],
      "metadata": {
        "colab": {
          "base_uri": "https://localhost:8080/"
        },
        "id": "r4W-v-N1NoBM",
        "outputId": "a82d996b-9ef9-44d4-b251-0f9696c53ea4"
      },
      "execution_count": 579,
      "outputs": [
        {
          "output_type": "execute_result",
          "data": {
            "text/plain": [
              "(tensor(140), tensor(501), tensor(1001))"
            ]
          },
          "metadata": {},
          "execution_count": 579
        }
      ]
    },
    {
      "cell_type": "code",
      "source": [
        "max(nodes)"
      ],
      "metadata": {
        "colab": {
          "base_uri": "https://localhost:8080/"
        },
        "outputId": "0444ad1e-b3f0-4951-f572-6cb83a851bb7",
        "id": "iS8ZnQziLuQk"
      },
      "execution_count": 580,
      "outputs": [
        {
          "output_type": "execute_result",
          "data": {
            "text/plain": [
              "102.0"
            ]
          },
          "metadata": {},
          "execution_count": 580
        }
      ]
    },
    {
      "cell_type": "code",
      "source": [
        "_ = plt.hist(nodes, bins='auto')  # arguments are passed to np.histogram\n",
        "plt.show()"
      ],
      "metadata": {
        "colab": {
          "base_uri": "https://localhost:8080/",
          "height": 265
        },
        "outputId": "4b08180f-dc73-4063-ccde-f1925ace906a",
        "id": "Uk90K4SzLuQk"
      },
      "execution_count": 581,
      "outputs": [
        {
          "output_type": "display_data",
          "data": {
            "text/plain": [
              "<Figure size 432x288 with 1 Axes>"
            ],
            "image/png": "[encoded data removed]"
          },
          "metadata": {
            "needs_background": "light"
          }
        }
      ]
    },
    {
      "cell_type": "markdown",
      "metadata": {
        "id": "eqWR0j_kIx67"
      },
      "source": [
        "Overall, this dataset is quite similar to the previously used [`KarateClub`](https://pytorch-geometric.readthedocs.io/en/latest/modules/datasets.html#torch_geometric.datasets.KarateClub) network.\n",
        "We can see that the `Cora` network holds 2,708 nodes and 10,556 edges, resulting in an average node degree of 3.9.\n",
        "For training this dataset, we are given the ground-truth categories of 140 nodes (20 for each class).\n",
        "This results in a training node label rate of only 5%.\n",
        "\n",
        "In contrast to `KarateClub`, this graph holds the additional attributes `val_mask` and `test_mask`, which denotes which nodes should be used for validation and testing.\n",
        "Furthermore, we make use of **[data transformations](https://pytorch-geometric.readthedocs.io/en/latest/notes/introduction.html#data-transforms) via `transform=NormalizeFeatures()`**.\n",
        "Transforms can be used to modify your input data before inputting them into a neural network, *e.g.*, for normalization or data augmentation.\n",
        "Here, we [row-normalize](https://pytorch-geometric.readthedocs.io/en/latest/modules/transforms.html#torch_geometric.transforms.NormalizeFeatures) the bag-of-words input feature vectors.\n",
        "\n",
        "We can further see that this network is undirected, and that there exists no isolated nodes (each document has at least one citation)."
      ]
    },
    {
      "cell_type": "markdown",
      "source": [
        "# models running:"
      ],
      "metadata": {
        "id": "ejUlnVeFzna3"
      }
    },
    {
      "cell_type": "code",
      "source": [
        "log"
      ],
      "metadata": {
        "colab": {
          "base_uri": "https://localhost:8080/"
        },
        "id": "Q45wOwUgjPRR",
        "outputId": "43c97cd7-4ba1-4a95-c241-3835ff10d209"
      },
      "execution_count": 754,
      "outputs": [
        {
          "output_type": "execute_result",
          "data": {
            "text/plain": [
              "{'dataset': Cora(),\n",
              " 'raw data': 'Data(x=[2708, 1433], edge_index=[2, 10556], y=[2708], train_mask=[2708], val_mask=[2708], test_mask=[2708])',\n",
              " 'info': {'#of(edge_index,x,ei,train_mask': [10556, 2708, 2, 2708]},\n",
              " 'test4': {'each_part_size': 10,\n",
              "  'flag type 2': False,\n",
              "  'mlp': {'acc1': '0.5347', 'acc2': '0.5798', 'acc3': '0.5798'},\n",
              "  'gnn1': {'acc1': '0.7822', 'acc2': '0.7840', 'acc3': '0.7843'},\n",
              "  'gnn2': {'acc1': '0.7797', 'acc2': '0.7795', 'acc3': '0.7781'},\n",
              "  'semi gnn': {'acc1': '0.7797', 'acc2': '0.7866', 'acc3': '0.7858'}},\n",
              " 'test5': {'each_part_size': 20,\n",
              "  'flag type 2': False,\n",
              "  'mlp': {'acc1': '0.5494', 'acc2': '0.5886', 'acc3': '0.5886'},\n",
              "  'gnn1': {'acc1': '0.7872', 'acc2': '0.7925', 'acc3': '0.7925'},\n",
              "  'gnn2': {'acc1': '0.7689', 'acc2': '0.7832', 'acc3': '0.7829'},\n",
              "  'semi gnn': {'acc1': '0.8015', 'acc2': '0.8072', 'acc3': '0.8065'}},\n",
              " 'test6': {'each_part_size': 50,\n",
              "  'flag type 2': False,\n",
              "  'mlp': {'acc1': '0.5666', 'acc2': '0.6004', 'acc3': '0.6004'},\n",
              "  'gnn1': {'acc1': '0.8052', 'acc2': '0.8128', 'acc3': '0.8124'},\n",
              "  'gnn2': {'acc1': '0.7952', 'acc2': '0.8021', 'acc3': '0.8021'},\n",
              "  'semi gnn': {'acc1': '0.8121', 'acc2': '0.8198', 'acc3': '0.8198'}},\n",
              " 'test7': {'each_part_size': 100,\n",
              "  'flag type 2': False,\n",
              "  'mlp': {'acc1': '0.5674', 'acc2': '0.6016', 'acc3': '0.6016'},\n",
              "  'gnn1': {'acc1': '0.8142', 'acc2': '0.8179', 'acc3': '0.8179'},\n",
              "  'gnn2': {'acc1': '0.7992', 'acc2': '0.8109', 'acc3': '0.8109'},\n",
              "  'semi gnn': {'acc1': '0.8182', 'acc2': '0.8231', 'acc3': '0.8231'}},\n",
              " 'test8': {'each_part_size': 1000,\n",
              "  'flag type 2': False,\n",
              "  'mlp': {'acc1': '0.5670', 'acc2': '0.6016', 'acc3': '0.6016'},\n",
              "  'gnn1': {'acc1': '0.8150', 'acc2': '0.8168', 'acc3': '0.8168'},\n",
              "  'gnn2': {'acc1': '0.7780', 'acc2': '0.7921', 'acc3': '0.7921'},\n",
              "  'semi gnn': {'acc1': '0.8180', 'acc2': '0.8220', 'acc3': '0.8220'}},\n",
              " 'test9': {'each_part_size': 1000,\n",
              "  'flag type 2': True,\n",
              "  'mlp': {'acc1': '0.5670', 'acc2': '0.6016', 'acc3': '0.6016'},\n",
              "  'gnn1': {'acc1': '0.8150', 'acc2': '0.8168', 'acc3': '0.8168'},\n",
              "  'gnn2': {'acc1': '0.7780', 'acc2': '0.7921', 'acc3': '0.7921'},\n",
              "  'semi gnn': {'acc1': '0.8180', 'acc2': '0.8220', 'acc3': '0.8220'}},\n",
              " 'test10': {'each_part_size': 100,\n",
              "  'flag type 2': True,\n",
              "  'mlp': {'acc1': '0.5674', 'acc2': '0.6016', 'acc3': '0.6016'},\n",
              "  'gnn1': {'acc1': '0.8142', 'acc2': '0.8183', 'acc3': '0.8183'},\n",
              "  'gnn2': {'acc1': '0.8012', 'acc2': '0.8117', 'acc3': '0.8117'},\n",
              "  'semi gnn': {'acc1': '0.8162', 'acc2': '0.8239', 'acc3': '0.8239'}},\n",
              " 'test11': {'each_part_size': 50,\n",
              "  'flag type 2': True,\n",
              "  'mlp': {'acc1': '0.5666', 'acc2': '0.6004', 'acc3': '0.6004'},\n",
              "  'gnn1': {'acc1': '0.8052', 'acc2': '0.8146', 'acc3': '0.8143'},\n",
              "  'gnn2': {'acc1': '0.8022', 'acc2': '0.8072', 'acc3': '0.8072'},\n",
              "  'semi gnn': {'acc1': '0.8201', 'acc2': '0.8239', 'acc3': '0.8239'}},\n",
              " 'test12': {'each_part_size': 20,\n",
              "  'flag type 2': True,\n",
              "  'mlp': {'acc1': '0.5494', 'acc2': '0.5886', 'acc3': '0.5886'},\n",
              "  'gnn1': {'acc1': '0.7948', 'acc2': '0.7954', 'acc3': '0.7947'},\n",
              "  'gnn2': {'acc1': '0.7814', 'acc2': '0.7928', 'acc3': '0.7925'},\n",
              "  'semi gnn': {'acc1': '0.8054', 'acc2': '0.8050', 'acc3': '0.8047'}},\n",
              " 'test13': {'each_part_size': 10,\n",
              "  'flag type 2': True,\n",
              "  'mlp': {'acc1': '0.5347', 'acc2': '0.5798', 'acc3': '0.5798'},\n",
              "  'gnn1': {'acc1': '0.7855', 'acc2': '0.7880', 'acc3': '0.7873'},\n",
              "  'gnn2': {'acc1': '0.7954', 'acc2': '0.7943', 'acc3': '0.7939'},\n",
              "  'semi gnn': {'acc1': '0.8003', 'acc2': '0.7987', 'acc3': '0.7976'}}}"
            ]
          },
          "metadata": {},
          "execution_count": 754
        }
      ]
    },
    {
      "cell_type": "code",
      "source": [
        "# log = {}\n",
        "# index = 0"
      ],
      "metadata": {
        "id": "px1yaJ71hNJj"
      },
      "execution_count": 583,
      "outputs": []
    },
    {
      "cell_type": "code",
      "source": [
        "# index = 0\n",
        "# del log['test1']\n",
        "# log"
      ],
      "metadata": {
        "id": "tkCPJqUt1M-3"
      },
      "execution_count": 584,
      "outputs": []
    },
    {
      "cell_type": "code",
      "source": [
        "each_part_size = 10\n",
        "flag_type_2 = True\n",
        "istype2 = False"
      ],
      "metadata": {
        "id": "9D-YkE_32Njv"
      },
      "execution_count": 738,
      "outputs": []
    },
    {
      "cell_type": "markdown",
      "metadata": {
        "id": "5IRdAELVKOl6"
      },
      "source": [
        "## Training a Multi-layer Perception Network (MLP)\n",
        "\n",
        "In theory, we should be able to infer the category of a document solely based on its content, *i.e.* its bag-of-words feature representation, without taking any relational information into account.\n",
        "\n",
        "Let's verify that by constructing a simple MLP that solely operates on input node features (using shared weights across all nodes):"
      ]
    },
    {
      "cell_type": "code",
      "source": [
        "from IPython.display import Javascript  # Restrict height of output cell.\n",
        "display(Javascript('''google.colab.output.setIframeHeight(0, true, {maxHeight: 300})'''))\n",
        "\n",
        "x,ei,y,d,strongs,nodes,data,train_mask,test_mask,val_mask,dataset,redunclass = make_data_ready(flag_type_2 = flag_type_2,\n",
        "                                                                                       each_part_size = each_part_size,\n",
        "                                                                                       istype2 = istype2) #flag_type_2 is connecting breaked nodes and istype2 means avoid breaked nodes in test "
      ],
      "metadata": {
        "colab": {
          "base_uri": "https://localhost:8080/",
          "height": 300
        },
        "id": "t3zZcv2h2xIB",
        "outputId": "a3afb9d2-57e5-46fe-ca58-4db394614441"
      },
      "execution_count": 739,
      "outputs": [
        {
          "output_type": "display_data",
          "data": {
            "text/plain": [
              "<IPython.core.display.Javascript object>"
            ],
            "application/javascript": [
              "google.colab.output.setIframeHeight(0, true, {maxHeight: 300})"
            ]
          },
          "metadata": {}
        },
        {
          "output_type": "stream",
          "name": "stderr",
          "text": [
            "100%|██████████| 2708/2708 [00:00<00:00, 538072.63it/s]\n",
            "  1%|          | 4/417 [00:00<00:18, 22.65it/s]"
          ]
        },
        {
          "output_type": "stream",
          "name": "stdout",
          "text": [
            "10556 2708 2\n",
            "10556 2708 2\n",
            "10556 2708 2\n",
            "10556 2708 2\n",
            "10556 2708 2\n",
            "10556 2708 2\n",
            "10556 2708 2\n"
          ]
        },
        {
          "output_type": "stream",
          "name": "stderr",
          "text": [
            "\r  2%|▏         | 10/417 [00:00<00:14, 27.85it/s]"
          ]
        },
        {
          "output_type": "stream",
          "name": "stdout",
          "text": [
            "10556 2708 2\n",
            "10556 2708 2\n",
            "10556 2708 2\n",
            "10556 2708 2\n",
            "10556 2708 2\n",
            "10556 2708 2\n",
            "10556 2708 2\n",
            "10556 2708 2\n"
          ]
        },
        {
          "output_type": "stream",
          "name": "stderr",
          "text": [
            "\r  3%|▎         | 14/417 [00:00<00:13, 29.24it/s]"
          ]
        },
        {
          "output_type": "stream",
          "name": "stdout",
          "text": [
            "10556 2708 2\n",
            "10556 2708 2\n",
            "10556 2708 2\n",
            "10556 2708 2\n",
            "10556 2708 2\n",
            "10556 2708 2\n",
            "10556 2708 2\n",
            "10556 2708 2\n",
            "10556 2708 2\n"
          ]
        },
        {
          "output_type": "stream",
          "name": "stderr",
          "text": [
            "  5%|▍         | 20/417 [00:01<00:25, 15.51it/s]"
          ]
        },
        {
          "output_type": "stream",
          "name": "stdout",
          "text": [
            "10556 2708 2\n",
            "10556 2708 2\n",
            "10556 2708 2\n",
            "10556 2708 2\n",
            "10556 2708 2\n",
            "10556 2708 2\n",
            "10556 2708 2\n",
            "10556 2708 2\n",
            "10556 2708 2\n",
            "10556 2708 2\n"
          ]
        },
        {
          "output_type": "stream",
          "name": "stderr",
          "text": [
            "\r  6%|▌         | 23/417 [00:01<00:33, 11.71it/s]"
          ]
        },
        {
          "output_type": "stream",
          "name": "stdout",
          "text": [
            "10556 2708 2\n",
            "10556 2708 2\n",
            "10556 2708 2\n",
            "10556 2708 2\n",
            "10556 2708 2\n",
            "10556 2708 2\n"
          ]
        },
        {
          "output_type": "stream",
          "name": "stderr",
          "text": [
            "\r  6%|▌         | 25/417 [00:01<00:42,  9.24it/s]"
          ]
        },
        {
          "output_type": "stream",
          "name": "stdout",
          "text": [
            "10556 2708 2\n",
            "10556 2708 2\n",
            "10556 2708 2\n",
            "10556 2708 2\n"
          ]
        },
        {
          "output_type": "stream",
          "name": "stderr",
          "text": [
            "\r  6%|▋         | 27/417 [00:02<00:40,  9.69it/s]"
          ]
        },
        {
          "output_type": "stream",
          "name": "stdout",
          "text": [
            "10556 2708 2\n",
            "10556 2708 2\n",
            "10556 2708 2\n",
            "10556 2708 2\n",
            "10556 2708 2\n",
            "10556 2708 2\n"
          ]
        },
        {
          "output_type": "stream",
          "name": "stderr",
          "text": [
            "  8%|▊         | 35/417 [00:02<00:24, 15.83it/s]"
          ]
        },
        {
          "output_type": "stream",
          "name": "stdout",
          "text": [
            "10556 2708 2\n",
            "10556 2708 2\n",
            "10556 2708 2\n",
            "10556 2708 2\n",
            "10556 2708 2\n"
          ]
        },
        {
          "output_type": "stream",
          "name": "stderr",
          "text": [
            " 11%|█         | 44/417 [00:02<00:15, 24.84it/s]"
          ]
        },
        {
          "output_type": "stream",
          "name": "stdout",
          "text": [
            "10556 2708 2\n",
            "10556 2708 2\n",
            "10556 2708 2\n",
            "10556 2708 2\n",
            "10556 2708 2\n",
            "10556 2708 2\n",
            "10556 2708 2\n",
            "10556 2708 2\n",
            "10556 2708 2\n",
            "10556 2708 2\n",
            "10556 2708 2\n",
            "10556 2708 2\n",
            "10556 2708 2\n"
          ]
        },
        {
          "output_type": "stream",
          "name": "stderr",
          "text": [
            "\r 12%|█▏        | 48/417 [00:03<00:22, 16.44it/s]"
          ]
        },
        {
          "output_type": "stream",
          "name": "stdout",
          "text": [
            "10556 2708 2\n",
            "10556 2708 2\n",
            "10556 2708 2\n",
            "10556 2708 2\n",
            "10556 2708 "
          ]
        },
        {
          "output_type": "stream",
          "name": "stderr",
          "text": [
            "\r 12%|█▏        | 51/417 [00:03<00:20, 17.65it/s]"
          ]
        },
        {
          "output_type": "stream",
          "name": "stdout",
          "text": [
            "2\n",
            "10556 2708 2\n",
            "10556 2708 2\n",
            "10556 2708 2\n",
            "10556 2708 2\n",
            "10556 2708 2\n",
            "10556 2708 2\n",
            "10556 2708 2\n",
            "10556 2708 2\n",
            "10556 2708 2\n",
            "10556 2708 2\n",
            "10556 2708 2\n",
            "10556 2708 2\n",
            "10556 2708 2\n",
            "10556 2708 2\n",
            "10556 2708 2\n",
            "10556 2708 2\n",
            "10556 2708 2\n",
            "10556 2708 2\n"
          ]
        },
        {
          "output_type": "stream",
          "name": "stderr",
          "text": [
            "\r 13%|█▎        | 54/417 [00:04<00:45,  7.96it/s]"
          ]
        },
        {
          "output_type": "stream",
          "name": "stdout",
          "text": [
            "10556 2708 2\n",
            "10556 2708 2\n",
            "10556 2708 2\n"
          ]
        },
        {
          "output_type": "stream",
          "name": "stderr",
          "text": [
            "\r 13%|█▎        | 56/417 [00:04<00:45,  7.85it/s]"
          ]
        },
        {
          "output_type": "stream",
          "name": "stdout",
          "text": [
            "10556 2708 2\n",
            "10556 2708 2\n",
            "10556 2708 2\n",
            "10556 2708 2\n"
          ]
        },
        {
          "output_type": "stream",
          "name": "stderr",
          "text": [
            "\r 14%|█▍        | 58/417 [00:04<00:45,  7.91it/s]"
          ]
        },
        {
          "output_type": "stream",
          "name": "stdout",
          "text": [
            "10556 2708 2\n",
            "10556 2708 2\n",
            "10556 2708 2\n",
            "10556 2708 2\n",
            "10556 2708 2\n",
            "10556 2708"
          ]
        },
        {
          "output_type": "stream",
          "name": "stderr",
          "text": [
            " 16%|█▌        | 65/417 [00:04<00:26, 13.40it/s]"
          ]
        },
        {
          "output_type": "stream",
          "name": "stdout",
          "text": [
            " 2\n",
            "10556 2708 2\n",
            "10556 2708 2\n",
            "10556 2708 2\n",
            "10556 2708 2\n",
            "10556 2708 2\n"
          ]
        },
        {
          "output_type": "stream",
          "name": "stderr",
          "text": [
            "\r 16%|█▋        | 68/417 [00:04<00:22, 15.74it/s]"
          ]
        },
        {
          "output_type": "stream",
          "name": "stdout",
          "text": [
            "10556 2708 2\n",
            "10556 2708 2\n",
            "10556 2708 2\n",
            "10556 2708 2\n",
            "10556 2708 2\n",
            "10556 2708 2\n",
            "10556 2708 2\n",
            "10556 2708 2\n"
          ]
        },
        {
          "output_type": "stream",
          "name": "stderr",
          "text": [
            "\r 17%|█▋        | 71/417 [00:05<00:33, 10.39it/s]"
          ]
        },
        {
          "output_type": "stream",
          "name": "stdout",
          "text": [
            "10556 2708 2\n",
            "10556 2708 2\n",
            "10556 2708 2\n",
            "10556 2708 2\n"
          ]
        },
        {
          "output_type": "stream",
          "name": "stderr",
          "text": [
            " 18%|█▊        | 75/417 [00:05<00:30, 11.07it/s]"
          ]
        },
        {
          "output_type": "stream",
          "name": "stdout",
          "text": [
            "10556 2708 2\n",
            "10556 2708 2\n",
            "10556 2708 2\n",
            "10556 2708 2\n",
            "10556 2708 2\n"
          ]
        },
        {
          "output_type": "stream",
          "name": "stderr",
          "text": [
            "\r 19%|█▊        | 78/417 [00:06<00:28, 11.73it/s]"
          ]
        },
        {
          "output_type": "stream",
          "name": "stdout",
          "text": [
            "10556 2708 2\n",
            "10556 2708 2\n",
            "10556 2708 2\n",
            "10556 2708 2\n"
          ]
        },
        {
          "output_type": "stream",
          "name": "stderr",
          "text": [
            " 20%|██        | 84/417 [00:06<00:20, 16.11it/s]"
          ]
        },
        {
          "output_type": "stream",
          "name": "stdout",
          "text": [
            "10556 2708 2\n",
            "10556 2708 2\n",
            "10556 2708 2\n",
            "10556 2708 2\n",
            "10556 2708 2\n"
          ]
        },
        {
          "output_type": "stream",
          "name": "stderr",
          "text": [
            "\r 21%|██        | 86/417 [00:06<00:22, 14.81it/s]"
          ]
        },
        {
          "output_type": "stream",
          "name": "stdout",
          "text": [
            "10556 2708 2\n",
            "10556 2708 2\n",
            "10556 2708 2\n",
            "10556 2708 2\n"
          ]
        },
        {
          "output_type": "stream",
          "name": "stderr",
          "text": [
            "\r 21%|██▏       | 89/417 [00:06<00:22, 14.47it/s]"
          ]
        },
        {
          "output_type": "stream",
          "name": "stdout",
          "text": [
            "10556 2708 2\n",
            "10556 2708 2\n",
            "10556 2708 2\n",
            "10556 2708 2\n"
          ]
        },
        {
          "output_type": "stream",
          "name": "stderr",
          "text": [
            "\r 22%|██▏       | 91/417 [00:06<00:26, 12.30it/s]"
          ]
        },
        {
          "output_type": "stream",
          "name": "stdout",
          "text": [
            "10556 2708 2\n",
            "10556 2708 2\n",
            "10556 2708 2\n",
            "10556 2708 2\n"
          ]
        },
        {
          "output_type": "stream",
          "name": "stderr",
          "text": [
            " 23%|██▎       | 95/417 [00:07<00:24, 13.22it/s]"
          ]
        },
        {
          "output_type": "stream",
          "name": "stdout",
          "text": [
            "10556 2708 2\n",
            "10556 2708 2\n",
            "10556 2708 2\n",
            "10556 2708 2\n",
            "10556 2708 2\n"
          ]
        },
        {
          "output_type": "stream",
          "name": "stderr",
          "text": [
            "\r 23%|██▎       | 97/417 [00:07<00:24, 13.30it/s]"
          ]
        },
        {
          "output_type": "stream",
          "name": "stdout",
          "text": [
            "10556 2708 2\n",
            "10556 2708 2\n",
            "10556 2708 2\n",
            "10556 2708 2\n",
            "10556 2708 2\n"
          ]
        },
        {
          "output_type": "stream",
          "name": "stderr",
          "text": [
            " 24%|██▍       | 101/417 [00:07<00:22, 14.27it/s]"
          ]
        },
        {
          "output_type": "stream",
          "name": "stdout",
          "text": [
            "10556 2708 2\n",
            "10556 2708 2\n",
            "10556 2708 2\n",
            "10556 2708 2\n",
            "10556 2708 2\n",
            "10556 2708 2\n",
            "10556 2708 2\n",
            "10556 2708 2\n"
          ]
        },
        {
          "output_type": "stream",
          "name": "stderr",
          "text": [
            "\r 25%|██▍       | 103/417 [00:08<00:36,  8.55it/s]"
          ]
        },
        {
          "output_type": "stream",
          "name": "stdout",
          "text": [
            "10556 2708 2\n",
            "10556 2708 2\n",
            "10556 2708 2\n"
          ]
        },
        {
          "output_type": "stream",
          "name": "stderr",
          "text": [
            " 26%|██▌       | 107/417 [00:08<00:26, 11.84it/s]"
          ]
        },
        {
          "output_type": "stream",
          "name": "stdout",
          "text": [
            "10556 2708 2\n",
            "10556 2708 2\n",
            "10556 2708 2\n",
            "10556 2708 2\n"
          ]
        },
        {
          "output_type": "stream",
          "name": "stderr",
          "text": [
            " 27%|██▋       | 111/417 [00:08<00:21, 14.45it/s]"
          ]
        },
        {
          "output_type": "stream",
          "name": "stdout",
          "text": [
            "10556 2708 2\n",
            "10556 2708 2\n",
            "10556 2708 2\n",
            "10556 2708 2\n"
          ]
        },
        {
          "output_type": "stream",
          "name": "stderr",
          "text": [
            "\r 27%|██▋       | 113/417 [00:08<00:24, 12.27it/s]"
          ]
        },
        {
          "output_type": "stream",
          "name": "stdout",
          "text": [
            "10556 2708 2\n",
            "10556 2708 2\n",
            "10556 2708 2\n",
            "10556 2708 2\n"
          ]
        },
        {
          "output_type": "stream",
          "name": "stderr",
          "text": [
            "\r 28%|██▊       | 115/417 [00:08<00:26, 11.50it/s]"
          ]
        },
        {
          "output_type": "stream",
          "name": "stdout",
          "text": [
            "10556 2708 2\n",
            "10556 2708 2\n",
            "10556 2708 2\n"
          ]
        },
        {
          "output_type": "stream",
          "name": "stderr",
          "text": [
            "\r 28%|██▊       | 117/417 [00:09<00:35,  8.40it/s]"
          ]
        },
        {
          "output_type": "stream",
          "name": "stdout",
          "text": [
            "10556 2708 2\n",
            "10556 2708 2\n",
            "10556 2708 2\n",
            "10556 2708 2\n"
          ]
        },
        {
          "output_type": "stream",
          "name": "stderr",
          "text": [
            " 29%|██▉       | 121/417 [00:09<00:26, 11.32it/s]"
          ]
        },
        {
          "output_type": "stream",
          "name": "stdout",
          "text": [
            "10556 2708 2\n",
            "10556 2708 2\n",
            "10556 2708 2\n",
            "10556 2708 2\n",
            "10556 2708 2\n",
            "10556 2708 2\n",
            "10556 2708 2\n"
          ]
        },
        {
          "output_type": "stream",
          "name": "stderr",
          "text": [
            "\r 29%|██▉       | 123/417 [00:10<00:40,  7.18it/s]"
          ]
        },
        {
          "output_type": "stream",
          "name": "stdout",
          "text": [
            "10556 2708 2\n",
            "10556 2708 2\n",
            "10556 2708 2\n",
            "10556 2708 2\n"
          ]
        },
        {
          "output_type": "stream",
          "name": "stderr",
          "text": [
            " 30%|███       | 127/417 [00:10<00:29,  9.87it/s]"
          ]
        },
        {
          "output_type": "stream",
          "name": "stdout",
          "text": [
            "10556 2708 2\n",
            "10556 2708 2\n",
            "10556 2708 2\n",
            "10556 2708 2\n"
          ]
        },
        {
          "output_type": "stream",
          "name": "stderr",
          "text": [
            "\r 31%|███       | 129/417 [00:10<00:25, 11.13it/s]"
          ]
        },
        {
          "output_type": "stream",
          "name": "stdout",
          "text": [
            "10556 2708 2\n",
            "10556 2708 2\n",
            "10556 2708 2\n"
          ]
        },
        {
          "output_type": "stream",
          "name": "stderr",
          "text": [
            " 32%|███▏      | 133/417 [00:10<00:26, 10.55it/s]"
          ]
        },
        {
          "output_type": "stream",
          "name": "stdout",
          "text": [
            "10556 2708 2\n",
            "10556 2708 2\n",
            "10556 2708 2\n",
            "10556 2708 2\n"
          ]
        },
        {
          "output_type": "stream",
          "name": "stderr",
          "text": [
            "\r 32%|███▏      | 135/417 [00:11<00:25, 10.96it/s]"
          ]
        },
        {
          "output_type": "stream",
          "name": "stdout",
          "text": [
            "10556 2708 2\n",
            "10556 2708 2\n"
          ]
        },
        {
          "output_type": "stream",
          "name": "stderr",
          "text": [
            "\r 33%|███▎      | 137/417 [00:11<00:25, 11.07it/s]"
          ]
        },
        {
          "output_type": "stream",
          "name": "stdout",
          "text": [
            "10556 2708 2\n",
            "10556 2708 2\n",
            "10556 2708 2\n",
            "10556 2708"
          ]
        },
        {
          "output_type": "stream",
          "name": "stderr",
          "text": [
            " 34%|███▍      | 141/417 [00:11<00:21, 12.58it/s]"
          ]
        },
        {
          "output_type": "stream",
          "name": "stdout",
          "text": [
            " 2\n",
            "10556 2708 2\n",
            "10556 2708 2\n",
            "10556 2708 2\n"
          ]
        },
        {
          "output_type": "stream",
          "name": "stderr",
          "text": [
            " 35%|███▍      | 145/417 [00:11<00:20, 13.52it/s]"
          ]
        },
        {
          "output_type": "stream",
          "name": "stdout",
          "text": [
            "10556 2708 2\n",
            "10556 2708 2\n",
            "10556 2708 2\n"
          ]
        },
        {
          "output_type": "stream",
          "name": "stderr",
          "text": [
            "\r 35%|███▌      | 147/417 [00:11<00:19, 13.60it/s]"
          ]
        },
        {
          "output_type": "stream",
          "name": "stdout",
          "text": [
            "10556 2708 2\n",
            "10556 2708 2\n",
            "10556 2708 2\n"
          ]
        },
        {
          "output_type": "stream",
          "name": "stderr",
          "text": [
            " 36%|███▌      | 151/417 [00:12<00:19, 13.61it/s]"
          ]
        },
        {
          "output_type": "stream",
          "name": "stdout",
          "text": [
            "10556 2708 2\n",
            "10556 2708 2\n",
            "10556 2708 2\n"
          ]
        },
        {
          "output_type": "stream",
          "name": "stderr",
          "text": [
            "\r 37%|███▋      | 153/417 [00:12<00:20, 13.12it/s]"
          ]
        },
        {
          "output_type": "stream",
          "name": "stdout",
          "text": [
            "10556 2708 2\n",
            "10556 2708 2\n",
            "10556 2708 2\n"
          ]
        },
        {
          "output_type": "stream",
          "name": "stderr",
          "text": [
            "\r 37%|███▋      | 155/417 [00:12<00:26,  9.91it/s]"
          ]
        },
        {
          "output_type": "stream",
          "name": "stdout",
          "text": [
            "10556 2708 2\n",
            "10556 2708 2\n",
            "10556 2708 2\n",
            "10556 2708 2\n",
            "10556 2708 2\n",
            "10556 2708 2\n"
          ]
        },
        {
          "output_type": "stream",
          "name": "stderr",
          "text": [
            " 38%|███▊      | 159/417 [00:13<00:27,  9.44it/s]"
          ]
        },
        {
          "output_type": "stream",
          "name": "stdout",
          "text": [
            "10556 2708 2\n",
            "10556 2708 2\n",
            "10556 2708 2\n"
          ]
        },
        {
          "output_type": "stream",
          "name": "stderr",
          "text": [
            "\r 39%|███▊      | 161/417 [00:13<00:25, 10.24it/s]"
          ]
        },
        {
          "output_type": "stream",
          "name": "stdout",
          "text": [
            "10556 2708 2\n",
            "10556 2708 2\n",
            "10556 2708 2\n",
            "10556 2708 2\n",
            "10556 2708 2\n",
            "10556 2708 2\n",
            "10556 2708 2\n",
            "10556 2708 2\n",
            "10556 2708 2\n"
          ]
        },
        {
          "output_type": "stream",
          "name": "stderr",
          "text": [
            " 40%|███▉      | 165/417 [00:14<00:36,  6.90it/s]"
          ]
        },
        {
          "output_type": "stream",
          "name": "stdout",
          "text": [
            "10556 2708 2\n",
            "10556 2708 2\n",
            "10556 2708 2\n",
            "10556 2708 2\n",
            "10556 2708 2\n",
            "10556 2708 2\n"
          ]
        },
        {
          "output_type": "stream",
          "name": "stderr",
          "text": [
            "\r 40%|████      | 167/417 [00:14<00:42,  5.89it/s]"
          ]
        },
        {
          "output_type": "stream",
          "name": "stdout",
          "text": [
            "10556 2708 2\n",
            "10556 2708 2\n"
          ]
        },
        {
          "output_type": "stream",
          "name": "stderr",
          "text": [
            "\r 41%|████      | 169/417 [00:14<00:35,  6.93it/s]"
          ]
        },
        {
          "output_type": "stream",
          "name": "stdout",
          "text": [
            "10556 2708 2\n",
            "10556 2708 2\n",
            "10556 2708 2\n"
          ]
        },
        {
          "output_type": "stream",
          "name": "stderr",
          "text": [
            " 41%|████▏     | 173/417 [00:15<00:27,  8.87it/s]"
          ]
        },
        {
          "output_type": "stream",
          "name": "stdout",
          "text": [
            "10556 2708 2\n",
            "10556 2708 2\n",
            "10556 2708 2\n",
            "10556 2708 2\n",
            "10556 2708 2\n",
            "10556 2708 2\n"
          ]
        },
        {
          "output_type": "stream",
          "name": "stderr",
          "text": [
            "\r 42%|████▏     | 175/417 [00:15<00:37,  6.39it/s]"
          ]
        },
        {
          "output_type": "stream",
          "name": "stdout",
          "text": [
            "10556 2708 2\n",
            "10556 2708 2\n",
            "10556 2708 2\n"
          ]
        },
        {
          "output_type": "stream",
          "name": "stderr",
          "text": [
            "\r 42%|████▏     | 177/417 [00:15<00:32,  7.42it/s]"
          ]
        },
        {
          "output_type": "stream",
          "name": "stdout",
          "text": [
            "10556 2708 2\n",
            "10556 2708 2\n",
            "10556 2708 2\n"
          ]
        },
        {
          "output_type": "stream",
          "name": "stderr",
          "text": [
            "\r 43%|████▎     | 179/417 [00:16<00:28,  8.41it/s]"
          ]
        },
        {
          "output_type": "stream",
          "name": "stdout",
          "text": [
            "10556 2708 2\n",
            "10556 2708 2\n",
            "10556 2708 2\n"
          ]
        },
        {
          "output_type": "stream",
          "name": "stderr",
          "text": [
            "\r 43%|████▎     | 181/417 [00:16<00:32,  7.37it/s]"
          ]
        },
        {
          "output_type": "stream",
          "name": "stdout",
          "text": [
            "10556 2708 2\n",
            "10556 2708 2\n",
            "10556 2708 2\n"
          ]
        },
        {
          "output_type": "stream",
          "name": "stderr",
          "text": [
            "\r 44%|████▎     | 182/417 [00:16<00:35,  6.68it/s]"
          ]
        },
        {
          "output_type": "stream",
          "name": "stdout",
          "text": [
            "10556 2708 2\n",
            "10556 2708 2\n",
            "10556 2708 2\n",
            "10556 2708 2\n",
            "10556 2708 2\n"
          ]
        },
        {
          "output_type": "stream",
          "name": "stderr",
          "text": [
            " 45%|████▍     | 186/417 [00:17<00:34,  6.75it/s]"
          ]
        },
        {
          "output_type": "stream",
          "name": "stdout",
          "text": [
            "10556 2708 2\n",
            "10556 2708 2\n",
            "10556 2708 2\n"
          ]
        },
        {
          "output_type": "stream",
          "name": "stderr",
          "text": [
            "\r 45%|████▌     | 188/417 [00:17<00:32,  7.01it/s]"
          ]
        },
        {
          "output_type": "stream",
          "name": "stdout",
          "text": [
            "10556 2708 2\n",
            "10556 2708 2\n",
            "10556 2708 2\n"
          ]
        },
        {
          "output_type": "stream",
          "name": "stderr",
          "text": [
            "\r 46%|████▌     | 190/417 [00:17<00:28,  8.04it/s]"
          ]
        },
        {
          "output_type": "stream",
          "name": "stdout",
          "text": [
            "10556 2708 2\n",
            "10556 2708 2\n",
            "10556 2708 2\n",
            "10556 2708 2\n",
            "10556 2708 2\n"
          ]
        },
        {
          "output_type": "stream",
          "name": "stderr",
          "text": [
            " 46%|████▋     | 193/417 [00:18<00:31,  7.17it/s]"
          ]
        },
        {
          "output_type": "stream",
          "name": "stdout",
          "text": [
            "10556 2708 2\n",
            "10556 2708 2\n",
            "10556 2708 2\n"
          ]
        },
        {
          "output_type": "stream",
          "name": "stderr",
          "text": [
            "\r 47%|████▋     | 195/417 [00:18<00:27,  8.17it/s]"
          ]
        },
        {
          "output_type": "stream",
          "name": "stdout",
          "text": [
            "10556 2708 2\n",
            "10556 2708 2\n",
            "10556 2708 2\n"
          ]
        },
        {
          "output_type": "stream",
          "name": "stderr",
          "text": [
            "\r 47%|████▋     | 197/417 [00:18<00:24,  8.92it/s]"
          ]
        },
        {
          "output_type": "stream",
          "name": "stdout",
          "text": [
            "10556 2708 2\n",
            "10556 2708 2\n",
            "10556 2708 2\n",
            "10556 2708 2\n",
            "10556 2708 2\n",
            "10556"
          ]
        },
        {
          "output_type": "stream",
          "name": "stderr",
          "text": [
            "\r 48%|████▊     | 199/417 [00:19<00:37,  5.77it/s]"
          ]
        },
        {
          "output_type": "stream",
          "name": "stdout",
          "text": [
            " 2708 2\n",
            "10556 2708 2\n"
          ]
        },
        {
          "output_type": "stream",
          "name": "stderr",
          "text": [
            "\r 48%|████▊     | 200/417 [00:19<00:37,  5.72it/s]"
          ]
        },
        {
          "output_type": "stream",
          "name": "stdout",
          "text": [
            "10556 2708 2\n",
            "10556 2708 2\n",
            "10556 2708 2\n"
          ]
        },
        {
          "output_type": "stream",
          "name": "stderr",
          "text": [
            "\r 48%|████▊     | 202/417 [00:19<00:31,  6.79it/s]"
          ]
        },
        {
          "output_type": "stream",
          "name": "stdout",
          "text": [
            "10556 2708 2\n",
            "10556 2708 2\n",
            "10556 2708 2\n"
          ]
        },
        {
          "output_type": "stream",
          "name": "stderr",
          "text": [
            " 49%|████▉     | 204/417 [00:20<00:39,  5.46it/s]"
          ]
        },
        {
          "output_type": "stream",
          "name": "stdout",
          "text": [
            "10556 2708 2\n",
            "10556 2708 2\n"
          ]
        },
        {
          "output_type": "stream",
          "name": "stderr",
          "text": [
            " 49%|████▉     | 206/417 [00:20<00:34,  6.06it/s]"
          ]
        },
        {
          "output_type": "stream",
          "name": "stdout",
          "text": [
            "10556 2708 2\n",
            "10556 2708 2\n"
          ]
        },
        {
          "output_type": "stream",
          "name": "stderr",
          "text": [
            "\r 50%|████▉     | 208/417 [00:20<00:28,  7.29it/s]"
          ]
        },
        {
          "output_type": "stream",
          "name": "stdout",
          "text": [
            "10556 2708 2\n",
            "10556 2708 2\n",
            "10556 2708 2\n"
          ]
        },
        {
          "output_type": "stream",
          "name": "stderr",
          "text": [
            "\r 50%|█████     | 210/417 [00:20<00:25,  8.20it/s]"
          ]
        },
        {
          "output_type": "stream",
          "name": "stdout",
          "text": [
            "10556 2708 2\n",
            "10556 2708 2\n",
            "10556 2708 2\n",
            "10556 2708 2\n"
          ]
        },
        {
          "output_type": "stream",
          "name": "stderr",
          "text": [
            "\r 51%|█████     | 212/417 [00:21<00:35,  5.74it/s]"
          ]
        },
        {
          "output_type": "stream",
          "name": "stdout",
          "text": [
            "10556 2708 2\n",
            "10556 2708 2\n"
          ]
        },
        {
          "output_type": "stream",
          "name": "stderr",
          "text": [
            " 52%|█████▏    | 215/417 [00:21<00:30,  6.60it/s]"
          ]
        },
        {
          "output_type": "stream",
          "name": "stdout",
          "text": [
            "10556 2708 2\n",
            "10556 2708 2\n",
            "10556 2708 2\n"
          ]
        },
        {
          "output_type": "stream",
          "name": "stderr",
          "text": [
            "\r 52%|█████▏    | 216/417 [00:21<00:28,  7.08it/s]"
          ]
        },
        {
          "output_type": "stream",
          "name": "stdout",
          "text": [
            "10556 2708 2\n",
            "10556 2708 2\n",
            "10556 2708 2\n",
            "10556 2708 2\n",
            "10556 2708 2\n",
            "10556 2708 2\n",
            "10556 2708 2\n",
            "10556 2708 2\n",
            "10556 2708 2\n",
            "10556 2708 2\n",
            "10556 2708 2\n",
            "10556 2708 2\n",
            "10556 2708 2\n",
            "10556 2708 2\n",
            "10556 2708 2\n",
            "10556 2708 2\n",
            "10556 2708 2\n",
            "10556 2708 2\n",
            "10556 2708 2\n",
            "10556 2708 2\n",
            "10556 2708 2\n",
            "10556 2708 2\n",
            "10556 2708 2\n",
            "10556 2708 2\n",
            "10556 2708 2\n",
            "10556 2708 2\n",
            "10556 2708 2\n",
            "10556 2708 2\n",
            "10556 2708 2\n",
            "10556 2708 2\n",
            "10556 2708 2\n",
            "10556 2708 2\n",
            "10556 2708 2\n",
            "10556 2708 2\n"
          ]
        },
        {
          "output_type": "stream",
          "name": "stderr",
          "text": [
            " 53%|█████▎    | 219/417 [00:25<01:51,  1.78it/s]"
          ]
        },
        {
          "output_type": "stream",
          "name": "stdout",
          "text": [
            "10556 2708 2\n",
            "10556 2708 2\n"
          ]
        },
        {
          "output_type": "stream",
          "name": "stderr",
          "text": [
            "\r 53%|█████▎    | 221/417 [00:25<01:16,  2.57it/s]"
          ]
        },
        {
          "output_type": "stream",
          "name": "stdout",
          "text": [
            "10556 2708 2\n",
            "10556 2708 2\n",
            "10556 2708 2\n"
          ]
        },
        {
          "output_type": "stream",
          "name": "stderr",
          "text": [
            " 54%|█████▎    | 224/417 [00:25<00:45,  4.25it/s]"
          ]
        },
        {
          "output_type": "stream",
          "name": "stdout",
          "text": [
            "10556 2708 2\n",
            "10556 2708 2\n",
            "10556 2708 2\n"
          ]
        },
        {
          "output_type": "stream",
          "name": "stderr",
          "text": [
            "\r 54%|█████▍    | 225/417 [00:25<00:47,  4.02it/s]"
          ]
        },
        {
          "output_type": "stream",
          "name": "stdout",
          "text": [
            "10556 2708 2\n",
            "10556 2708 2\n",
            "10556 2708 2\n",
            "10556 2708 2\n"
          ]
        },
        {
          "output_type": "stream",
          "name": "stderr",
          "text": [
            " 54%|█████▍    | 227/417 [00:26<00:42,  4.46it/s]"
          ]
        },
        {
          "output_type": "stream",
          "name": "stdout",
          "text": [
            "10556 2708 2\n",
            "10556 2708 2\n"
          ]
        },
        {
          "output_type": "stream",
          "name": "stderr",
          "text": [
            " 55%|█████▍    | 229/417 [00:26<00:31,  6.00it/s]"
          ]
        },
        {
          "output_type": "stream",
          "name": "stdout",
          "text": [
            "10556 2708 2\n",
            "10556 2708 2\n",
            "10556 2708 2\n",
            "10556 2708 2\n",
            "10556 2708 2\n"
          ]
        },
        {
          "output_type": "stream",
          "name": "stderr",
          "text": [
            " 55%|█████▌    | 231/417 [00:27<00:37,  4.93it/s]"
          ]
        },
        {
          "output_type": "stream",
          "name": "stdout",
          "text": [
            "10556 2708 2\n",
            "10556 2708 2\n"
          ]
        },
        {
          "output_type": "stream",
          "name": "stderr",
          "text": [
            " 56%|█████▌    | 233/417 [00:27<00:28,  6.47it/s]"
          ]
        },
        {
          "output_type": "stream",
          "name": "stdout",
          "text": [
            "10556 2708 2\n",
            "10556 2708 2\n"
          ]
        },
        {
          "output_type": "stream",
          "name": "stderr",
          "text": [
            " 56%|█████▋    | 235/417 [00:27<00:23,  7.66it/s]"
          ]
        },
        {
          "output_type": "stream",
          "name": "stdout",
          "text": [
            "10556 2708 2\n",
            "10556 2708 2\n",
            "10556 2708 2\n",
            "10556 2708 2\n",
            "10556 2708 2\n"
          ]
        },
        {
          "output_type": "stream",
          "name": "stderr",
          "text": [
            " 57%|█████▋    | 237/417 [00:28<00:33,  5.42it/s]"
          ]
        },
        {
          "output_type": "stream",
          "name": "stdout",
          "text": [
            "10556 2708 2\n",
            "10556 2708 2\n"
          ]
        },
        {
          "output_type": "stream",
          "name": "stderr",
          "text": [
            "\r 57%|█████▋    | 238/417 [00:28<00:34,  5.16it/s]"
          ]
        },
        {
          "output_type": "stream",
          "name": "stdout",
          "text": [
            "10556 2708 2\n",
            "10556 2708 2\n"
          ]
        },
        {
          "output_type": "stream",
          "name": "stderr",
          "text": [
            " 58%|█████▊    | 240/417 [00:28<00:26,  6.63it/s]"
          ]
        },
        {
          "output_type": "stream",
          "name": "stdout",
          "text": [
            "10556 2708 2\n",
            "10556 2708 2\n"
          ]
        },
        {
          "output_type": "stream",
          "name": "stderr",
          "text": [
            " 58%|█████▊    | 242/417 [00:28<00:23,  7.47it/s]"
          ]
        },
        {
          "output_type": "stream",
          "name": "stdout",
          "text": [
            "10556 2708 2\n",
            "10556 2708 2\n"
          ]
        },
        {
          "output_type": "stream",
          "name": "stderr",
          "text": [
            " 59%|█████▊    | 244/417 [00:28<00:22,  7.60it/s]"
          ]
        },
        {
          "output_type": "stream",
          "name": "stdout",
          "text": [
            "10556 2708 2\n",
            "10556 2708 2\n"
          ]
        },
        {
          "output_type": "stream",
          "name": "stderr",
          "text": [
            "\r 59%|█████▉    | 245/417 [00:29<00:22,  7.78it/s]"
          ]
        },
        {
          "output_type": "stream",
          "name": "stdout",
          "text": [
            "10556 2708 2\n",
            "10556 2708 2\n",
            "10556 2708 2\n",
            "10556 2708 2\n",
            "10556 2708 2\n"
          ]
        },
        {
          "output_type": "stream",
          "name": "stderr",
          "text": [
            " 59%|█████▉    | 247/417 [00:29<00:35,  4.82it/s]"
          ]
        },
        {
          "output_type": "stream",
          "name": "stdout",
          "text": [
            "10556 2708 2\n",
            "10556 2708 2\n"
          ]
        },
        {
          "output_type": "stream",
          "name": "stderr",
          "text": [
            " 60%|█████▉    | 249/417 [00:29<00:28,  5.96it/s]"
          ]
        },
        {
          "output_type": "stream",
          "name": "stdout",
          "text": [
            "10556 2708 2\n",
            "10556 2708 2\n"
          ]
        },
        {
          "output_type": "stream",
          "name": "stderr",
          "text": [
            " 60%|██████    | 251/417 [00:30<00:23,  7.05it/s]"
          ]
        },
        {
          "output_type": "stream",
          "name": "stdout",
          "text": [
            "10556 2708 2\n",
            "10556 2708 2\n"
          ]
        },
        {
          "output_type": "stream",
          "name": "stderr",
          "text": [
            " 61%|██████    | 253/417 [00:30<00:23,  7.02it/s]"
          ]
        },
        {
          "output_type": "stream",
          "name": "stdout",
          "text": [
            "10556 2708 2\n",
            "10556 2708 2\n"
          ]
        },
        {
          "output_type": "stream",
          "name": "stderr",
          "text": [
            " 61%|██████    | 255/417 [00:30<00:21,  7.51it/s]"
          ]
        },
        {
          "output_type": "stream",
          "name": "stdout",
          "text": [
            "10556 2708 2\n",
            "10556 2708 2\n",
            "10556 2708 2\n",
            "10556 2708 2\n",
            "10556 2708 2\n",
            "10556 2708 2\n",
            "10556 2708 2\n",
            "10556 2708 2\n",
            "10556 2708 2\n"
          ]
        },
        {
          "output_type": "stream",
          "name": "stderr",
          "text": [
            "\r 61%|██████▏   | 256/417 [00:31<00:56,  2.87it/s]"
          ]
        },
        {
          "output_type": "stream",
          "name": "stdout",
          "text": [
            "10556 2708 2\n",
            "10556 2708 2\n"
          ]
        },
        {
          "output_type": "stream",
          "name": "stderr",
          "text": [
            "\r 62%|██████▏   | 257/417 [00:31<00:56,  2.84it/s]"
          ]
        },
        {
          "output_type": "stream",
          "name": "stdout",
          "text": [
            "10556 2708 2\n",
            "10556 2708 2\n",
            "10556 2708 2\n",
            "10556 2708 2\n"
          ]
        },
        {
          "output_type": "stream",
          "name": "stderr",
          "text": [
            " 62%|██████▏   | 259/417 [00:32<00:44,  3.53it/s]"
          ]
        },
        {
          "output_type": "stream",
          "name": "stdout",
          "text": [
            "10556 2708 2\n",
            "10556 2708 2\n"
          ]
        },
        {
          "output_type": "stream",
          "name": "stderr",
          "text": [
            "\r 62%|██████▏   | 260/417 [00:32<00:42,  3.71it/s]"
          ]
        },
        {
          "output_type": "stream",
          "name": "stdout",
          "text": [
            "10556 2708 2\n",
            "10556 2708 2\n"
          ]
        },
        {
          "output_type": "stream",
          "name": "stderr",
          "text": [
            " 63%|██████▎   | 262/417 [00:32<00:31,  4.95it/s]"
          ]
        },
        {
          "output_type": "stream",
          "name": "stdout",
          "text": [
            "10556 2708 2\n",
            "10556 2708 2\n"
          ]
        },
        {
          "output_type": "stream",
          "name": "stderr",
          "text": [
            " 63%|██████▎   | 264/417 [00:33<00:24,  6.13it/s]"
          ]
        },
        {
          "output_type": "stream",
          "name": "stdout",
          "text": [
            "10556 2708 2\n",
            "10556 2708 2\n",
            "10556 2708 2\n",
            "10556 2708 2\n"
          ]
        },
        {
          "output_type": "stream",
          "name": "stderr",
          "text": [
            "\r 64%|██████▎   | 265/417 [00:33<00:33,  4.49it/s]"
          ]
        },
        {
          "output_type": "stream",
          "name": "stdout",
          "text": [
            "10556 2708 2\n",
            "10556 2708 2\n",
            "10556 2708 2\n",
            "10556 2708 2\n",
            "10556 2708 2\n",
            "10556 2708 2\n",
            "10556 2708 2\n",
            "10556 2708 2\n",
            "10556 2708 2\n",
            "10556 2708 2\n",
            "10556 2708 2\n",
            "10556 2708 2\n",
            "10556 2708 2\n",
            "10556 2708 2\n"
          ]
        },
        {
          "output_type": "stream",
          "name": "stderr",
          "text": [
            " 64%|██████▍   | 267/417 [00:35<01:11,  2.11it/s]"
          ]
        },
        {
          "output_type": "stream",
          "name": "stdout",
          "text": [
            "10556 2708 2\n",
            "10556 2708 2\n",
            "10556 2708 2\n",
            "10556 2708 2\n"
          ]
        },
        {
          "output_type": "stream",
          "name": "stderr",
          "text": [
            " 65%|██████▍   | 269/417 [00:35<00:52,  2.83it/s]"
          ]
        },
        {
          "output_type": "stream",
          "name": "stdout",
          "text": [
            "10556 2708 2\n",
            "10556 2708 2\n"
          ]
        },
        {
          "output_type": "stream",
          "name": "stderr",
          "text": [
            " 65%|██████▍   | 271/417 [00:36<00:35,  4.17it/s]"
          ]
        },
        {
          "output_type": "stream",
          "name": "stdout",
          "text": [
            "10556 2708 2\n",
            "10556 2708 2\n",
            "10556 2708 2\n",
            "10556 2708 2\n"
          ]
        },
        {
          "output_type": "stream",
          "name": "stderr",
          "text": [
            " 65%|██████▌   | 273/417 [00:36<00:34,  4.22it/s]"
          ]
        },
        {
          "output_type": "stream",
          "name": "stdout",
          "text": [
            "10556 2708 2\n",
            "10556 2708 2\n"
          ]
        },
        {
          "output_type": "stream",
          "name": "stderr",
          "text": [
            " 66%|██████▌   | 275/417 [00:36<00:25,  5.49it/s]"
          ]
        },
        {
          "output_type": "stream",
          "name": "stdout",
          "text": [
            "10556 2708 2\n",
            "10556 2708 2\n"
          ]
        },
        {
          "output_type": "stream",
          "name": "stderr",
          "text": [
            "\r 66%|██████▌   | 276/417 [00:37<00:29,  4.82it/s]"
          ]
        },
        {
          "output_type": "stream",
          "name": "stdout",
          "text": [
            "10556 2708 2\n",
            "10556 2708 2\n"
          ]
        },
        {
          "output_type": "stream",
          "name": "stderr",
          "text": [
            "\r 66%|██████▋   | 277/417 [00:37<00:30,  4.52it/s]"
          ]
        },
        {
          "output_type": "stream",
          "name": "stdout",
          "text": [
            "10556 2708 2\n",
            "10556 2708 2\n"
          ]
        },
        {
          "output_type": "stream",
          "name": "stderr",
          "text": [
            " 67%|██████▋   | 279/417 [00:37<00:24,  5.69it/s]"
          ]
        },
        {
          "output_type": "stream",
          "name": "stdout",
          "text": [
            "10556 2708 2\n",
            "10556 2708 2\n"
          ]
        },
        {
          "output_type": "stream",
          "name": "stderr",
          "text": [
            " 67%|██████▋   | 281/417 [00:37<00:21,  6.39it/s]"
          ]
        },
        {
          "output_type": "stream",
          "name": "stdout",
          "text": [
            "10556 2708 2\n",
            "10556 2708 2\n"
          ]
        },
        {
          "output_type": "stream",
          "name": "stderr",
          "text": [
            " 68%|██████▊   | 283/417 [00:38<00:19,  6.92it/s]"
          ]
        },
        {
          "output_type": "stream",
          "name": "stdout",
          "text": [
            "10556 2708 2\n",
            "10556 2708 2\n",
            "10556 2708 2\n",
            "10556 2708 2\n"
          ]
        },
        {
          "output_type": "stream",
          "name": "stderr",
          "text": [
            " 68%|██████▊   | 285/417 [00:38<00:24,  5.35it/s]"
          ]
        },
        {
          "output_type": "stream",
          "name": "stdout",
          "text": [
            "10556 2708 2\n",
            "10556 2708 2\n"
          ]
        },
        {
          "output_type": "stream",
          "name": "stderr",
          "text": [
            "\r 69%|██████▊   | 286/417 [00:38<00:22,  5.78it/s]"
          ]
        },
        {
          "output_type": "stream",
          "name": "stdout",
          "text": [
            "10556 2708 2\n",
            "10556 2708 2\n"
          ]
        },
        {
          "output_type": "stream",
          "name": "stderr",
          "text": [
            " 69%|██████▉   | 288/417 [00:39<00:23,  5.51it/s]"
          ]
        },
        {
          "output_type": "stream",
          "name": "stdout",
          "text": [
            "10556 2708 2\n",
            "10556 2708 2\n"
          ]
        },
        {
          "output_type": "stream",
          "name": "stderr",
          "text": [
            " 70%|██████▉   | 290/417 [00:39<00:19,  6.44it/s]"
          ]
        },
        {
          "output_type": "stream",
          "name": "stdout",
          "text": [
            "10556 2708 2\n",
            "10556 2708 2\n"
          ]
        },
        {
          "output_type": "stream",
          "name": "stderr",
          "text": [
            " 70%|███████   | 292/417 [00:39<00:18,  6.85it/s]"
          ]
        },
        {
          "output_type": "stream",
          "name": "stdout",
          "text": [
            "10556 2708 2\n",
            "10556 2708 2\n"
          ]
        },
        {
          "output_type": "stream",
          "name": "stderr",
          "text": [
            "\r 70%|███████   | 293/417 [00:39<00:17,  6.98it/s]"
          ]
        },
        {
          "output_type": "stream",
          "name": "stdout",
          "text": [
            "10556 2708 2\n",
            "10556 2708 2\n",
            "10556 2708 2\n",
            "10556 2708 2\n",
            "10556 2708 2\n",
            "10556 2708 2\n",
            "10556 2708 2\n"
          ]
        },
        {
          "output_type": "stream",
          "name": "stderr",
          "text": [
            "\r 71%|███████   | 294/417 [00:40<00:46,  2.66it/s]"
          ]
        },
        {
          "output_type": "stream",
          "name": "stdout",
          "text": [
            "10556 2708 2\n",
            "10556 2708 2\n"
          ]
        },
        {
          "output_type": "stream",
          "name": "stderr",
          "text": [
            " 71%|███████   | 296/417 [00:41<00:31,  3.90it/s]"
          ]
        },
        {
          "output_type": "stream",
          "name": "stdout",
          "text": [
            "10556 2708 2\n",
            "10556 2708 2\n"
          ]
        },
        {
          "output_type": "stream",
          "name": "stderr",
          "text": [
            " 71%|███████▏  | 298/417 [00:41<00:23,  5.11it/s]"
          ]
        },
        {
          "output_type": "stream",
          "name": "stdout",
          "text": [
            "10556 2708 2\n",
            "10556 2708 2\n"
          ]
        },
        {
          "output_type": "stream",
          "name": "stderr",
          "text": [
            " 72%|███████▏  | 300/417 [00:41<00:19,  5.97it/s]"
          ]
        },
        {
          "output_type": "stream",
          "name": "stdout",
          "text": [
            "10556 2708 2\n",
            "10556 2708 2\n"
          ]
        },
        {
          "output_type": "stream",
          "name": "stderr",
          "text": [
            " 72%|███████▏  | 302/417 [00:41<00:18,  6.21it/s]"
          ]
        },
        {
          "output_type": "stream",
          "name": "stdout",
          "text": [
            "10556 2708 2\n",
            "10556 2708 2\n"
          ]
        },
        {
          "output_type": "stream",
          "name": "stderr",
          "text": [
            " 73%|███████▎  | 304/417 [00:42<00:17,  6.45it/s]"
          ]
        },
        {
          "output_type": "stream",
          "name": "stdout",
          "text": [
            "10556 2708 2\n",
            "10556 2708 2\n"
          ]
        },
        {
          "output_type": "stream",
          "name": "stderr",
          "text": [
            "\r 73%|███████▎  | 305/417 [00:42<00:16,  6.63it/s]"
          ]
        },
        {
          "output_type": "stream",
          "name": "stdout",
          "text": [
            "10556 2708 2\n",
            "10556 2708 2\n"
          ]
        },
        {
          "output_type": "stream",
          "name": "stderr",
          "text": [
            " 74%|███████▎  | 307/417 [00:42<00:18,  5.90it/s]"
          ]
        },
        {
          "output_type": "stream",
          "name": "stdout",
          "text": [
            "10556 2708 2\n",
            "10556 2708 2\n"
          ]
        },
        {
          "output_type": "stream",
          "name": "stderr",
          "text": [
            " 74%|███████▍  | 309/417 [00:43<00:17,  6.31it/s]"
          ]
        },
        {
          "output_type": "stream",
          "name": "stdout",
          "text": [
            "10556 2708 2\n",
            "10556 2708 2\n"
          ]
        },
        {
          "output_type": "stream",
          "name": "stderr",
          "text": [
            " 75%|███████▍  | 311/417 [00:43<00:15,  6.91it/s]"
          ]
        },
        {
          "output_type": "stream",
          "name": "stdout",
          "text": [
            "10556 2708 2\n",
            "10556 2708 2\n"
          ]
        },
        {
          "output_type": "stream",
          "name": "stderr",
          "text": [
            " 75%|███████▌  | 313/417 [00:43<00:15,  6.89it/s]"
          ]
        },
        {
          "output_type": "stream",
          "name": "stdout",
          "text": [
            "10556 2708 2\n",
            "10556 2708 2\n",
            "10556 2708 2\n",
            "10556 2708 2\n",
            "10556 2708 2\n",
            "10556 2708 2\n"
          ]
        },
        {
          "output_type": "stream",
          "name": "stderr",
          "text": [
            "\r 75%|███████▌  | 314/417 [00:44<00:34,  3.00it/s]"
          ]
        },
        {
          "output_type": "stream",
          "name": "stdout",
          "text": [
            "10556 2708 2\n",
            "10556 2708 2\n"
          ]
        },
        {
          "output_type": "stream",
          "name": "stderr",
          "text": [
            " 76%|███████▌  | 316/417 [00:44<00:23,  4.21it/s]"
          ]
        },
        {
          "output_type": "stream",
          "name": "stdout",
          "text": [
            "10556 2708 2\n",
            "10556 2708 2\n"
          ]
        },
        {
          "output_type": "stream",
          "name": "stderr",
          "text": [
            "\r 76%|███████▌  | 317/417 [00:44<00:21,  4.63it/s]"
          ]
        },
        {
          "output_type": "stream",
          "name": "stdout",
          "text": [
            "10556 2708 2\n",
            "10556 2708 2\n"
          ]
        },
        {
          "output_type": "stream",
          "name": "stderr",
          "text": [
            " 76%|███████▋  | 319/417 [00:45<00:20,  4.79it/s]"
          ]
        },
        {
          "output_type": "stream",
          "name": "stdout",
          "text": [
            "10556 2708 2\n",
            "10556 2708 2\n"
          ]
        },
        {
          "output_type": "stream",
          "name": "stderr",
          "text": [
            "\r 77%|███████▋  | 320/417 [00:45<00:18,  5.23it/s]"
          ]
        },
        {
          "output_type": "stream",
          "name": "stdout",
          "text": [
            "10556 2708 2\n",
            "10556 2708 2\n"
          ]
        },
        {
          "output_type": "stream",
          "name": "stderr",
          "text": [
            " 77%|███████▋  | 322/417 [00:45<00:18,  5.24it/s]"
          ]
        },
        {
          "output_type": "stream",
          "name": "stdout",
          "text": [
            "10556 2708 2\n",
            "10556 2708 2\n"
          ]
        },
        {
          "output_type": "stream",
          "name": "stderr",
          "text": [
            " 78%|███████▊  | 324/417 [00:46<00:15,  5.86it/s]"
          ]
        },
        {
          "output_type": "stream",
          "name": "stdout",
          "text": [
            "10556 2708 2\n",
            "10556 2708 2\n"
          ]
        },
        {
          "output_type": "stream",
          "name": "stderr",
          "text": [
            " 78%|███████▊  | 326/417 [00:46<00:14,  6.21it/s]"
          ]
        },
        {
          "output_type": "stream",
          "name": "stdout",
          "text": [
            "10556 2708 2\n",
            "10556 2708 2\n"
          ]
        },
        {
          "output_type": "stream",
          "name": "stderr",
          "text": [
            "\r 78%|███████▊  | 327/417 [00:46<00:17,  5.17it/s]"
          ]
        },
        {
          "output_type": "stream",
          "name": "stdout",
          "text": [
            "10556 2708 2\n",
            "10556 2708 2\n"
          ]
        },
        {
          "output_type": "stream",
          "name": "stderr",
          "text": [
            "\r 79%|███████▊  | 328/417 [00:46<00:18,  4.73it/s]"
          ]
        },
        {
          "output_type": "stream",
          "name": "stdout",
          "text": [
            "10556 2708 2\n",
            "10556 2708 2\n"
          ]
        },
        {
          "output_type": "stream",
          "name": "stderr",
          "text": [
            "\r 79%|███████▉  | 329/417 [00:47<00:17,  5.07it/s]"
          ]
        },
        {
          "output_type": "stream",
          "name": "stdout",
          "text": [
            "10556 2708 2\n",
            "10556 2708 2\n",
            "10556 2708 2\n",
            "10556 2708 2\n",
            "10556 2708 2\n",
            "10556 2708 2\n",
            "10556 2708 2\n",
            "10556 2708 2\n",
            "10556 2708 2\n",
            "10556 2708 2\n",
            "10556 2708 2\n",
            "10556 2708 2\n"
          ]
        },
        {
          "output_type": "stream",
          "name": "stderr",
          "text": [
            " 79%|███████▉  | 331/417 [00:48<00:38,  2.21it/s]"
          ]
        },
        {
          "output_type": "stream",
          "name": "stdout",
          "text": [
            "10556 2708 2\n",
            "10556 2708 2\n",
            "10556 2708 2\n",
            "10556 2708 2\n"
          ]
        },
        {
          "output_type": "stream",
          "name": "stderr",
          "text": [
            " 80%|███████▉  | 333/417 [00:49<00:30,  2.73it/s]"
          ]
        },
        {
          "output_type": "stream",
          "name": "stdout",
          "text": [
            "10556 2708 2\n",
            "10556 2708 2\n"
          ]
        },
        {
          "output_type": "stream",
          "name": "stderr",
          "text": [
            "\r 80%|████████  | 334/417 [00:49<00:25,  3.30it/s]"
          ]
        },
        {
          "output_type": "stream",
          "name": "stdout",
          "text": [
            "10556 2708 2\n",
            "10556 2708 2\n"
          ]
        },
        {
          "output_type": "stream",
          "name": "stderr",
          "text": [
            "\r 80%|████████  | 335/417 [00:49<00:24,  3.29it/s]"
          ]
        },
        {
          "output_type": "stream",
          "name": "stdout",
          "text": [
            "10556 2708 2\n",
            "10556 2708 2\n",
            "10556 2708 2\n",
            "10556 2708 2\n",
            "10556 2708 2\n",
            "10556 2708 2\n",
            "10556 2708 2\n"
          ]
        },
        {
          "output_type": "stream",
          "name": "stderr",
          "text": [
            "\r 81%|████████  | 336/417 [00:50<00:39,  2.04it/s]"
          ]
        },
        {
          "output_type": "stream",
          "name": "stdout",
          "text": [
            "10556 2708 2\n",
            "10556 2708 2\n",
            "10556 2708 2\n",
            "10556 2708 2\n",
            "10556 2708 2\n"
          ]
        },
        {
          "output_type": "stream",
          "name": "stderr",
          "text": [
            "\r 81%|████████  | 337/417 [00:51<00:45,  1.75it/s]"
          ]
        },
        {
          "output_type": "stream",
          "name": "stdout",
          "text": [
            "10556 2708 2\n",
            "10556 2708 2\n"
          ]
        },
        {
          "output_type": "stream",
          "name": "stderr",
          "text": [
            " 81%|████████▏ | 339/417 [00:51<00:27,  2.79it/s]"
          ]
        },
        {
          "output_type": "stream",
          "name": "stdout",
          "text": [
            "10556 2708 2\n",
            "10556 2708 2\n"
          ]
        },
        {
          "output_type": "stream",
          "name": "stderr",
          "text": [
            " 82%|████████▏ | 341/417 [00:52<00:19,  3.80it/s]"
          ]
        },
        {
          "output_type": "stream",
          "name": "stdout",
          "text": [
            "10556 2708 2\n",
            "10556 2708 2\n"
          ]
        },
        {
          "output_type": "stream",
          "name": "stderr",
          "text": [
            " 82%|████████▏ | 343/417 [00:52<00:15,  4.83it/s]"
          ]
        },
        {
          "output_type": "stream",
          "name": "stdout",
          "text": [
            "10556 2708 2\n",
            "10556 2708 2\n"
          ]
        },
        {
          "output_type": "stream",
          "name": "stderr",
          "text": [
            " 83%|████████▎ | 345/417 [00:52<00:12,  5.70it/s]"
          ]
        },
        {
          "output_type": "stream",
          "name": "stdout",
          "text": [
            "10556 2708 2\n",
            "10556 2708 2\n"
          ]
        },
        {
          "output_type": "stream",
          "name": "stderr",
          "text": [
            " 83%|████████▎ | 347/417 [00:53<00:11,  6.04it/s]"
          ]
        },
        {
          "output_type": "stream",
          "name": "stdout",
          "text": [
            "10556 2708 2\n",
            "10556 2708 2\n"
          ]
        },
        {
          "output_type": "stream",
          "name": "stderr",
          "text": [
            " 84%|████████▎ | 349/417 [00:53<00:11,  6.18it/s]"
          ]
        },
        {
          "output_type": "stream",
          "name": "stdout",
          "text": [
            "10556 2708 2\n",
            "10556 2708 2\n"
          ]
        },
        {
          "output_type": "stream",
          "name": "stderr",
          "text": [
            " 84%|████████▍ | 351/417 [00:53<00:10,  6.20it/s]"
          ]
        },
        {
          "output_type": "stream",
          "name": "stdout",
          "text": [
            "10556 2708 2\n",
            "10556 2708 2\n"
          ]
        },
        {
          "output_type": "stream",
          "name": "stderr",
          "text": [
            " 85%|████████▍ | 353/417 [00:54<00:10,  6.12it/s]"
          ]
        },
        {
          "output_type": "stream",
          "name": "stdout",
          "text": [
            "10556 2708 2\n",
            "10556 2708 2\n"
          ]
        },
        {
          "output_type": "stream",
          "name": "stderr",
          "text": [
            " 85%|████████▌ | 355/417 [00:54<00:10,  6.16it/s]"
          ]
        },
        {
          "output_type": "stream",
          "name": "stdout",
          "text": [
            "10556 2708 2\n",
            "10556 2708 2\n"
          ]
        },
        {
          "output_type": "stream",
          "name": "stderr",
          "text": [
            "\r 85%|████████▌ | 356/417 [00:54<00:12,  4.76it/s]"
          ]
        },
        {
          "output_type": "stream",
          "name": "stdout",
          "text": [
            "10556 2708 2\n",
            "10556 2708 2\n"
          ]
        },
        {
          "output_type": "stream",
          "name": "stderr",
          "text": [
            " 86%|████████▌ | 358/417 [00:55<00:10,  5.40it/s]"
          ]
        },
        {
          "output_type": "stream",
          "name": "stdout",
          "text": [
            "10556 2708 2\n",
            "10556 2708 2\n"
          ]
        },
        {
          "output_type": "stream",
          "name": "stderr",
          "text": [
            " 86%|████████▋ | 360/417 [00:55<00:10,  5.43it/s]"
          ]
        },
        {
          "output_type": "stream",
          "name": "stdout",
          "text": [
            "10556 2708 2\n",
            "10556 2708 2\n",
            "10556 2708 2\n",
            "10556 2708 2\n"
          ]
        },
        {
          "output_type": "stream",
          "name": "stderr",
          "text": [
            " 87%|████████▋ | 362/417 [00:55<00:12,  4.44it/s]"
          ]
        },
        {
          "output_type": "stream",
          "name": "stdout",
          "text": [
            "10556 2708 2\n",
            "10556 2708 2\n"
          ]
        },
        {
          "output_type": "stream",
          "name": "stderr",
          "text": [
            " 87%|████████▋ | 364/417 [00:56<00:10,  4.94it/s]"
          ]
        },
        {
          "output_type": "stream",
          "name": "stdout",
          "text": [
            "10556 2708 2\n",
            "10556 2708 2\n"
          ]
        },
        {
          "output_type": "stream",
          "name": "stderr",
          "text": [
            " 88%|████████▊ | 366/417 [00:56<00:09,  5.53it/s]"
          ]
        },
        {
          "output_type": "stream",
          "name": "stdout",
          "text": [
            "10556 2708 2\n",
            "10556 2708 2\n",
            "10556 2708 2\n",
            "10556 2708 2\n"
          ]
        },
        {
          "output_type": "stream",
          "name": "stderr",
          "text": [
            " 88%|████████▊ | 368/417 [00:57<00:11,  4.37it/s]"
          ]
        },
        {
          "output_type": "stream",
          "name": "stdout",
          "text": [
            "10556 2708 2\n",
            "10556 2708 2\n"
          ]
        },
        {
          "output_type": "stream",
          "name": "stderr",
          "text": [
            " 89%|████████▊ | 370/417 [00:57<00:09,  5.11it/s]"
          ]
        },
        {
          "output_type": "stream",
          "name": "stdout",
          "text": [
            "10556 2708 2\n",
            "10556 2708 2\n"
          ]
        },
        {
          "output_type": "stream",
          "name": "stderr",
          "text": [
            " 89%|████████▉ | 372/417 [00:57<00:08,  5.58it/s]"
          ]
        },
        {
          "output_type": "stream",
          "name": "stdout",
          "text": [
            "10556 2708 2\n",
            "10556 2708 2\n"
          ]
        },
        {
          "output_type": "stream",
          "name": "stderr",
          "text": [
            " 90%|████████▉ | 374/417 [00:58<00:07,  5.70it/s]"
          ]
        },
        {
          "output_type": "stream",
          "name": "stdout",
          "text": [
            "10556 2708 2\n",
            "10556 2708 2\n"
          ]
        },
        {
          "output_type": "stream",
          "name": "stderr",
          "text": [
            "\r 90%|████████▉ | 375/417 [00:58<00:07,  5.65it/s]"
          ]
        },
        {
          "output_type": "stream",
          "name": "stdout",
          "text": [
            "10556 2708 2\n",
            "10556 2708 2\n"
          ]
        },
        {
          "output_type": "stream",
          "name": "stderr",
          "text": [
            " 90%|█████████ | 377/417 [00:58<00:08,  4.58it/s]"
          ]
        },
        {
          "output_type": "stream",
          "name": "stdout",
          "text": [
            "10556 2708 2\n",
            "10556 2708 2\n"
          ]
        },
        {
          "output_type": "stream",
          "name": "stderr",
          "text": [
            " 91%|█████████ | 379/417 [00:59<00:08,  4.53it/s]"
          ]
        },
        {
          "output_type": "stream",
          "name": "stdout",
          "text": [
            "10556 2708 2\n",
            "10556 2708 2\n"
          ]
        },
        {
          "output_type": "stream",
          "name": "stderr",
          "text": [
            "\r 91%|█████████ | 380/417 [00:59<00:08,  4.30it/s]"
          ]
        },
        {
          "output_type": "stream",
          "name": "stdout",
          "text": [
            "10556 2708 2\n",
            "10556 2708 2\n"
          ]
        },
        {
          "output_type": "stream",
          "name": "stderr",
          "text": [
            " 92%|█████████▏| 382/417 [01:00<00:07,  4.99it/s]"
          ]
        },
        {
          "output_type": "stream",
          "name": "stdout",
          "text": [
            "10556 2708 2\n",
            "10556 2708 2\n"
          ]
        },
        {
          "output_type": "stream",
          "name": "stderr",
          "text": [
            " 92%|█████████▏| 384/417 [01:00<00:06,  5.38it/s]"
          ]
        },
        {
          "output_type": "stream",
          "name": "stdout",
          "text": [
            "10556 2708 2\n",
            "10556 2708 2\n"
          ]
        },
        {
          "output_type": "stream",
          "name": "stderr",
          "text": [
            " 93%|█████████▎| 386/417 [01:00<00:05,  5.70it/s]"
          ]
        },
        {
          "output_type": "stream",
          "name": "stdout",
          "text": [
            "10556 2708 2\n",
            "10556 2708 2\n"
          ]
        },
        {
          "output_type": "stream",
          "name": "stderr",
          "text": [
            " 93%|█████████▎| 388/417 [01:01<00:05,  5.71it/s]"
          ]
        },
        {
          "output_type": "stream",
          "name": "stdout",
          "text": [
            "10556 2708 2\n",
            "10556 2708 2\n"
          ]
        },
        {
          "output_type": "stream",
          "name": "stderr",
          "text": [
            " 94%|█████████▎| 390/417 [01:01<00:04,  5.77it/s]"
          ]
        },
        {
          "output_type": "stream",
          "name": "stdout",
          "text": [
            "10556 2708 2\n",
            "10556 2708 2\n"
          ]
        },
        {
          "output_type": "stream",
          "name": "stderr",
          "text": [
            "\r 94%|█████████▍| 391/417 [01:01<00:04,  5.74it/s]"
          ]
        },
        {
          "output_type": "stream",
          "name": "stdout",
          "text": [
            "10556 2708 2\n",
            "10556 2708 2\n"
          ]
        },
        {
          "output_type": "stream",
          "name": "stderr",
          "text": [
            "\r 94%|█████████▍| 393/417 [01:01<00:04,  5.37it/s]"
          ]
        },
        {
          "output_type": "stream",
          "name": "stdout",
          "text": [
            "10556 2708 2\n",
            "10556 2708 2\n"
          ]
        },
        {
          "output_type": "stream",
          "name": "stderr",
          "text": [
            "\r 94%|█████████▍| 394/417 [01:02<00:04,  5.73it/s]"
          ]
        },
        {
          "output_type": "stream",
          "name": "stdout",
          "text": [
            "10556 2708 2\n",
            "10556 2708 2\n"
          ]
        },
        {
          "output_type": "stream",
          "name": "stderr",
          "text": [
            " 95%|█████████▍| 396/417 [01:02<00:04,  5.19it/s]"
          ]
        },
        {
          "output_type": "stream",
          "name": "stdout",
          "text": [
            "10556 2708 2\n",
            "10556 2708 2\n"
          ]
        },
        {
          "output_type": "stream",
          "name": "stderr",
          "text": [
            " 95%|█████████▌| 398/417 [01:02<00:03,  5.39it/s]"
          ]
        },
        {
          "output_type": "stream",
          "name": "stdout",
          "text": [
            "10556 2708 2\n",
            "10556 2708 2\n"
          ]
        },
        {
          "output_type": "stream",
          "name": "stderr",
          "text": [
            " 96%|█████████▌| 400/417 [01:03<00:02,  6.29it/s]"
          ]
        },
        {
          "output_type": "stream",
          "name": "stdout",
          "text": [
            "10556 2708 2\n",
            "10556 2708 2\n",
            "10556 2708 2\n",
            "10556 2708 2\n"
          ]
        },
        {
          "output_type": "stream",
          "name": "stderr",
          "text": [
            " 96%|█████████▋| 402/417 [01:03<00:03,  4.46it/s]"
          ]
        },
        {
          "output_type": "stream",
          "name": "stdout",
          "text": [
            "10556 2708 2\n",
            "10556 2708 2\n"
          ]
        },
        {
          "output_type": "stream",
          "name": "stderr",
          "text": [
            " 97%|█████████▋| 404/417 [01:04<00:02,  5.13it/s]"
          ]
        },
        {
          "output_type": "stream",
          "name": "stdout",
          "text": [
            "10556 2708 2\n",
            "10556 2708 2\n"
          ]
        },
        {
          "output_type": "stream",
          "name": "stderr",
          "text": [
            "\r 97%|█████████▋| 405/417 [01:04<00:02,  4.74it/s]"
          ]
        },
        {
          "output_type": "stream",
          "name": "stdout",
          "text": [
            "10556 2708 2\n",
            "10556 2708 2\n"
          ]
        },
        {
          "output_type": "stream",
          "name": "stderr",
          "text": [
            "\r 97%|█████████▋| 406/417 [01:04<00:02,  4.19it/s]"
          ]
        },
        {
          "output_type": "stream",
          "name": "stdout",
          "text": [
            "10556 2708 2\n",
            "10556 2708 2\n"
          ]
        },
        {
          "output_type": "stream",
          "name": "stderr",
          "text": [
            "\r 98%|█████████▊| 407/417 [01:05<00:02,  3.69it/s]"
          ]
        },
        {
          "output_type": "stream",
          "name": "stdout",
          "text": [
            "10556 2708 2\n",
            "10556 2708 2\n"
          ]
        },
        {
          "output_type": "stream",
          "name": "stderr",
          "text": [
            "\r 98%|█████████▊| 408/417 [01:05<00:02,  3.42it/s]"
          ]
        },
        {
          "output_type": "stream",
          "name": "stdout",
          "text": [
            "10556 2708 2\n",
            "10556 2708 2\n"
          ]
        },
        {
          "output_type": "stream",
          "name": "stderr",
          "text": [
            " 99%|█████████▊| 411/417 [01:05<00:01,  4.97it/s]"
          ]
        },
        {
          "output_type": "stream",
          "name": "stdout",
          "text": [
            "10556 2708 2\n",
            "10556 2708 2\n"
          ]
        },
        {
          "output_type": "stream",
          "name": "stderr",
          "text": [
            " 99%|█████████▉| 413/417 [01:06<00:00,  5.14it/s]"
          ]
        },
        {
          "output_type": "stream",
          "name": "stdout",
          "text": [
            "10556 2708 2\n",
            "10556 2708 2\n"
          ]
        },
        {
          "output_type": "stream",
          "name": "stderr",
          "text": [
            "100%|█████████▉| 415/417 [01:06<00:00,  5.32it/s]"
          ]
        },
        {
          "output_type": "stream",
          "name": "stdout",
          "text": [
            "10556 2708 2\n",
            "10556 2708 2\n"
          ]
        },
        {
          "output_type": "stream",
          "name": "stderr",
          "text": [
            "\r100%|█████████▉| 416/417 [01:06<00:00,  5.08it/s]"
          ]
        },
        {
          "output_type": "stream",
          "name": "stdout",
          "text": [
            "10556 2708 2\n",
            "10556 2708 2\n"
          ]
        },
        {
          "output_type": "stream",
          "name": "stderr",
          "text": [
            "100%|██████████| 417/417 [01:07<00:00,  6.21it/s]"
          ]
        },
        {
          "output_type": "stream",
          "name": "stdout",
          "text": [
            "10556 2708 2\n"
          ]
        },
        {
          "output_type": "stream",
          "name": "stderr",
          "text": [
            "\n"
          ]
        }
      ]
    },
    {
      "cell_type": "code",
      "source": [
        "try:\n",
        "    index +=1\n",
        "except:\n",
        "    index = 1"
      ],
      "metadata": {
        "id": "kJPCP6VrzrpP"
      },
      "execution_count": 740,
      "outputs": []
    },
    {
      "cell_type": "code",
      "source": [
        "log['test'+str(index)] = {}\n",
        "log['test'+str(index)]['each_part_size'] = each_part_size\n",
        "log['test'+str(index)]['flag type 2'] = flag_type_2"
      ],
      "metadata": {
        "id": "md2post9cLek"
      },
      "execution_count": 741,
      "outputs": []
    },
    {
      "cell_type": "code",
      "metadata": {
        "id": "afXwPCA3KNoC",
        "colab": {
          "base_uri": "https://localhost:8080/"
        },
        "outputId": "170eee6e-3fd0-4f6d-d4e1-f111b3fe4c2f"
      },
      "source": [
        "import torch\n",
        "from torch.nn import Linear\n",
        "import torch.nn.functional as F\n",
        "\n",
        "\n",
        "class MLP(torch.nn.Module):\n",
        "    def __init__(self, hidden_channels):\n",
        "        super().__init__()\n",
        "        torch.manual_seed(12345)\n",
        "        self.lin1 = Linear(dataset.num_features, hidden_channels)\n",
        "        self.lin2 = Linear(hidden_channels, dataset.num_classes)\n",
        "\n",
        "    def forward(self, x):\n",
        "        x = self.lin1(x)\n",
        "        x = x.relu()\n",
        "        x = F.dropout(x, p=0.5, training=self.training)\n",
        "        x = self.lin2(x)\n",
        "        return x\n",
        "\n",
        "model = MLP(hidden_channels=16)\n",
        "print(model)"
      ],
      "execution_count": 742,
      "outputs": [
        {
          "output_type": "stream",
          "name": "stdout",
          "text": [
            "MLP(\n",
            "  (lin1): Linear(in_features=1433, out_features=16, bias=True)\n",
            "  (lin2): Linear(in_features=16, out_features=7, bias=True)\n",
            ")\n"
          ]
        }
      ]
    },
    {
      "cell_type": "markdown",
      "metadata": {
        "id": "L_PO9EEHL7J6"
      },
      "source": [
        "Our MLP is defined by two linear layers and enhanced by [ReLU](https://pytorch.org/docs/stable/generated/torch.nn.ReLU.html?highlight=relu#torch.nn.ReLU) non-linearity and [dropout](https://pytorch.org/docs/stable/generated/torch.nn.Dropout.html?highlight=dropout#torch.nn.Dropout).\n",
        "Here, we first reduce the 1433-dimensional feature vector to a low-dimensional embedding (`hidden_channels=16`), while the second linear layer acts as a classifier that should map each low-dimensional node embedding to one of the 7 classes.\n",
        "\n",
        "Let's train our simple MLP by following a similar procedure as described in [the first part of this tutorial](https://colab.research.google.com/drive/1h3-vJGRVloF5zStxL5I0rSy4ZUPNsjy8).\n",
        "We again make use of the **cross entropy loss** and **Adam optimizer**.\n",
        "This time, we also define a **`test` function** to evaluate how well our final model performs on the test node set (which labels have not been observed during training)."
      ]
    },
    {
      "cell_type": "code",
      "metadata": {
        "id": "0YgHcLXMLk4o",
        "colab": {
          "base_uri": "https://localhost:8080/",
          "height": 300
        },
        "outputId": "e0a61b3d-2b3a-4832-fccf-577ca6157523"
      },
      "source": [
        "from IPython.display import Javascript  # Restrict height of output cell.\n",
        "display(Javascript('''google.colab.output.setIframeHeight(0, true, {maxHeight: 300})'''))\n",
        "\n",
        "model = MLP(hidden_channels=16)\n",
        "criterion = torch.nn.CrossEntropyLoss()  # Define loss criterion.\n",
        "optimizer = torch.optim.Adam(model.parameters(), lr=0.01, weight_decay=5e-4)  # Define optimizer.\n",
        "\n",
        "def mlp_train(model,data):\n",
        "      model.train()\n",
        "      optimizer.zero_grad()  # Clear gradients.\n",
        "      out = model(data.x)  # Perform a single forward pass.\n",
        "      loss = criterion(out[data.train_mask], data.y[data.train_mask])  # Compute the loss solely based on the training nodes.\n",
        "      loss.backward()  # Derive gradients.\n",
        "      optimizer.step()  # Update parameters based on gradients.\n",
        "      return loss,model\n",
        "\n",
        "def mlp_test(model,data):\n",
        "      model.eval()\n",
        "      out = model(data.x)\n",
        "      pred = out.argmax(dim=1)  # Use the class with highest probability.\n",
        "      test_correct = pred[data.test_mask] == data.y[data.test_mask]  # Check against ground-truth labels.\n",
        "      test_acc = int(test_correct.sum()) / int(data.test_mask.sum())  # Derive ratio of correct predictions.\n",
        "      return test_acc\n",
        "\n",
        "def mlp_test2(model,data):\n",
        "    model.eval()\n",
        "    out = model(data.x)\n",
        "\n",
        "    #   true1 = 0\n",
        "    true2 = 0\n",
        "    true3 = 0\n",
        "\n",
        "    acc1 = -1\n",
        "    acc2 = -1\n",
        "    acc3 = -1\n",
        "\n",
        "    #acc1: simple format\n",
        "    pred = out.argmax(dim=1)  # Use the class with highest probability.\n",
        "    test_correct = pred[data.test_mask] == data.y[data.test_mask]  # Check against ground-truth labels.\n",
        "    test_acc = int(test_correct.sum()) / int(data.test_mask.sum())  # Derive ratio of correct predictions.\n",
        "    acc1 =  test_acc\n",
        "    print('acc1',acc1)\n",
        "\n",
        "\n",
        "    #acc2: weighted_avg_arg_max:\n",
        "    for clas in redunclass:\n",
        "        a = out[clas[0]]\n",
        "        for clasi in clas[1:]:\n",
        "            a += out[clasi]\n",
        "        pred = a.argmax()\n",
        "        if pred == data.y[clas[0]]:\n",
        "            true2 += 1\n",
        "    acc2 = true2/len(redunclass)\n",
        "    print('acc2',true2/len(redunclass))\n",
        "\n",
        "    #acc3: voting:\n",
        "    for clas in redunclass:\n",
        "        votes = np.zeros(9)\n",
        "        \n",
        "        for clasi in clas:\n",
        "            a = out[clasi]\n",
        "            votes[a.argmax()]+=1\n",
        "        pred = votes.argmax()\n",
        "        if pred == data.y[clas[0]]:\n",
        "            true3 += 1\n",
        "    acc3 = true3/len(redunclass)\n",
        "    print('acc3',true3/len(redunclass))\n",
        "\n",
        "    return acc1,acc2,acc3\n",
        "# mlp_test2(model,data)\n",
        "\n",
        "\n",
        "for epoch in range(1, 101):\n",
        "    loss,model = mlp_train(model,data)\n",
        "    print(f'Epoch: {epoch:03d}, Loss: {loss:.4f}')\n",
        "\n",
        "print('\\n')\n",
        "acc1,acc2,acc3 = mlp_test2(model,data)\n",
        "log['test'+str(index)]['mlp'] = {}\n",
        "log['test'+str(index)]['mlp']['acc1']=f'{acc1:.4f}'\n",
        "log['test'+str(index)]['mlp']['acc2']=f'{acc2:.4f}'\n",
        "log['test'+str(index)]['mlp']['acc3']=f'{acc3:.4f}'"
      ],
      "execution_count": 743,
      "outputs": [
        {
          "output_type": "display_data",
          "data": {
            "text/plain": [
              "<IPython.core.display.Javascript object>"
            ],
            "application/javascript": [
              "google.colab.output.setIframeHeight(0, true, {maxHeight: 300})"
            ]
          },
          "metadata": {}
        },
        {
          "output_type": "stream",
          "name": "stdout",
          "text": [
            "Epoch: 001, Loss: 1.9621\n",
            "Epoch: 002, Loss: 1.9538\n",
            "Epoch: 003, Loss: 1.9460\n",
            "Epoch: 004, Loss: 1.9370\n",
            "Epoch: 005, Loss: 1.9227\n",
            "Epoch: 006, Loss: 1.9148\n",
            "Epoch: 007, Loss: 1.9048\n",
            "Epoch: 008, Loss: 1.8882\n",
            "Epoch: 009, Loss: 1.8831\n",
            "Epoch: 010, Loss: 1.8649\n",
            "Epoch: 011, Loss: 1.8483\n",
            "Epoch: 012, Loss: 1.8284\n",
            "Epoch: 013, Loss: 1.8191\n",
            "Epoch: 014, Loss: 1.8000\n",
            "Epoch: 015, Loss: 1.7871\n",
            "Epoch: 016, Loss: 1.7475\n",
            "Epoch: 017, Loss: 1.7615\n",
            "Epoch: 018, Loss: 1.7267\n",
            "Epoch: 019, Loss: 1.7015\n",
            "Epoch: 020, Loss: 1.6936\n",
            "Epoch: 021, Loss: 1.6695\n",
            "Epoch: 022, Loss: 1.6411\n",
            "Epoch: 023, Loss: 1.6206\n",
            "Epoch: 024, Loss: 1.5925\n",
            "Epoch: 025, Loss: 1.5445\n",
            "Epoch: 026, Loss: 1.5610\n",
            "Epoch: 027, Loss: 1.5181\n",
            "Epoch: 028, Loss: 1.4997\n",
            "Epoch: 029, Loss: 1.4763\n",
            "Epoch: 030, Loss: 1.4034\n",
            "Epoch: 031, Loss: 1.4179\n",
            "Epoch: 032, Loss: 1.3742\n",
            "Epoch: 033, Loss: 1.3797\n",
            "Epoch: 034, Loss: 1.3408\n",
            "Epoch: 035, Loss: 1.3509\n",
            "Epoch: 036, Loss: 1.3425\n",
            "Epoch: 037, Loss: 1.3083\n",
            "Epoch: 038, Loss: 1.2433\n",
            "Epoch: 039, Loss: 1.2149\n",
            "Epoch: 040, Loss: 1.1970\n",
            "Epoch: 041, Loss: 1.1396\n",
            "Epoch: 042, Loss: 1.1602\n",
            "Epoch: 043, Loss: 1.1478\n",
            "Epoch: 044, Loss: 1.1018\n",
            "Epoch: 045, Loss: 1.0218\n",
            "Epoch: 046, Loss: 1.0381\n",
            "Epoch: 047, Loss: 1.0257\n",
            "Epoch: 048, Loss: 0.9962\n",
            "Epoch: 049, Loss: 0.9846\n",
            "Epoch: 050, Loss: 0.9815\n",
            "Epoch: 051, Loss: 0.9720\n",
            "Epoch: 052, Loss: 0.9841\n",
            "Epoch: 053, Loss: 0.8864\n",
            "Epoch: 054, Loss: 0.9303\n",
            "Epoch: 055, Loss: 0.8798\n",
            "Epoch: 056, Loss: 0.8596\n",
            "Epoch: 057, Loss: 0.8695\n",
            "Epoch: 058, Loss: 0.9113\n",
            "Epoch: 059, Loss: 0.8221\n",
            "Epoch: 060, Loss: 0.8411\n",
            "Epoch: 061, Loss: 0.8052\n",
            "Epoch: 062, Loss: 0.7531\n",
            "Epoch: 063, Loss: 0.7507\n",
            "Epoch: 064, Loss: 0.7518\n",
            "Epoch: 065, Loss: 0.7441\n",
            "Epoch: 066, Loss: 0.6936\n",
            "Epoch: 067, Loss: 0.7414\n",
            "Epoch: 068, Loss: 0.6899\n",
            "Epoch: 069, Loss: 0.7170\n",
            "Epoch: 070, Loss: 0.7089\n",
            "Epoch: 071, Loss: 0.6996\n",
            "Epoch: 072, Loss: 0.7141\n",
            "Epoch: 073, Loss: 0.7136\n",
            "Epoch: 074, Loss: 0.6435\n",
            "Epoch: 075, Loss: 0.6718\n",
            "Epoch: 076, Loss: 0.6733\n",
            "Epoch: 077, Loss: 0.6101\n",
            "Epoch: 078, Loss: 0.5946\n",
            "Epoch: 079, Loss: 0.6028\n",
            "Epoch: 080, Loss: 0.6588\n",
            "Epoch: 081, Loss: 0.6648\n",
            "Epoch: 082, Loss: 0.6554\n",
            "Epoch: 083, Loss: 0.5988\n",
            "Epoch: 084, Loss: 0.6320\n",
            "Epoch: 085, Loss: 0.6037\n",
            "Epoch: 086, Loss: 0.5310\n",
            "Epoch: 087, Loss: 0.6370\n",
            "Epoch: 088, Loss: 0.6181\n",
            "Epoch: 089, Loss: 0.5296\n",
            "Epoch: 090, Loss: 0.5788\n",
            "Epoch: 091, Loss: 0.6325\n",
            "Epoch: 092, Loss: 0.5208\n",
            "Epoch: 093, Loss: 0.6006\n",
            "Epoch: 094, Loss: 0.5373\n",
            "Epoch: 095, Loss: 0.5180\n",
            "Epoch: 096, Loss: 0.5463\n",
            "Epoch: 097, Loss: 0.5804\n",
            "Epoch: 098, Loss: 0.5378\n",
            "Epoch: 099, Loss: 0.5407\n",
            "Epoch: 100, Loss: 0.5600\n",
            "\n",
            "\n",
            "acc1 0.5346534653465347\n",
            "acc2 0.5797636632200887\n",
            "acc3 0.5797636632200887\n"
          ]
        }
      ]
    },
    {
      "cell_type": "markdown",
      "metadata": {
        "id": "kG4IKy9YOLGF"
      },
      "source": [
        "After training the model, we can call the `test` function to see how well our model performs on unseen labels.\n",
        "Here, we are interested in the accuracy of the model, *i.e.*, the ratio of correctly classified nodes:"
      ]
    },
    {
      "cell_type": "markdown",
      "metadata": {
        "id": "_jjJOB-VO-cw"
      },
      "source": [
        "As one can see, our MLP performs rather bad with only about 59% test accuracy.\n",
        "But why does the MLP do not perform better?\n",
        "The main reason for that is that this model suffers from heavy overfitting due to only having access to a **small amount of training nodes**, and therefore generalizes poorly to unseen node representations.\n",
        "\n",
        "It also fails to incorporate an important bias into the model: **Cited papers are very likely related to the category of a document**.\n",
        "That is exactly where Graph Neural Networks come into play and can help to boost the performance of our model.\n",
        "\n"
      ]
    },
    {
      "cell_type": "markdown",
      "metadata": {
        "id": "_OWGw54wRd98"
      },
      "source": [
        "## Training a Graph Neural Network (GNN)\n",
        "\n",
        "We can easily convert our MLP to a GNN by swapping the `torch.nn.Linear` layers with PyG's GNN operators.\n",
        "\n",
        "Following-up on [the first part of this tutorial](https://colab.research.google.com/drive/1h3-vJGRVloF5zStxL5I0rSy4ZUPNsjy8), we replace the linear layers by the [`GCNConv`](https://pytorch-geometric.readthedocs.io/en/latest/modules/nn.html#torch_geometric.nn.conv.GCNConv) module.\n",
        "To recap, the **GCN layer** ([Kipf et al. (2017)](https://arxiv.org/abs/1609.02907)) is defined as\n",
        "\n",
        "$$\n",
        "\\mathbf{x}_v^{(\\ell + 1)} = \\mathbf{W}^{(\\ell + 1)} \\sum_{w \\in \\mathcal{N}(v) \\, \\cup \\, \\{ v \\}} \\frac{1}{c_{w,v}} \\cdot \\mathbf{x}_w^{(\\ell)}\n",
        "$$\n",
        "\n",
        "where $\\mathbf{W}^{(\\ell + 1)}$ denotes a trainable weight matrix of shape `[num_output_features, num_input_features]` and $c_{w,v}$ refers to a fixed normalization coefficient for each edge.\n",
        "In contrast, a single `Linear` layer is defined as\n",
        "\n",
        "$$\n",
        "\\mathbf{x}_v^{(\\ell + 1)} = \\mathbf{W}^{(\\ell + 1)} \\mathbf{x}_v^{(\\ell)}\n",
        "$$\n",
        "\n",
        "which does not make use of neighboring node information."
      ]
    },
    {
      "cell_type": "code",
      "metadata": {
        "id": "fmXWs1dKIzD8",
        "colab": {
          "base_uri": "https://localhost:8080/"
        },
        "outputId": "f96c4ec1-624d-4825-d54f-33afac4aba13"
      },
      "source": [
        "from torch_geometric.nn import GCNConv\n",
        "\n",
        "\n",
        "class GCN(torch.nn.Module):\n",
        "    def __init__(self, hidden_channels):\n",
        "        super().__init__()\n",
        "        torch.manual_seed(1234567)\n",
        "        self.conv1 = GCNConv(dataset.num_features, hidden_channels)\n",
        "        self.conv2 = GCNConv(hidden_channels, dataset.num_classes)\n",
        "\n",
        "    def forward(self, x, edge_index):\n",
        "        x = self.conv1(x, edge_index)\n",
        "        x = x.relu()\n",
        "        x = F.dropout(x, p=0.5, training=self.training)\n",
        "        x = self.conv2(x, edge_index)\n",
        "        return x\n",
        "\n",
        "model = GCN(hidden_channels=16)\n",
        "print(model)"
      ],
      "execution_count": 744,
      "outputs": [
        {
          "output_type": "stream",
          "name": "stdout",
          "text": [
            "GCN(\n",
            "  (conv1): GCNConv(1433, 16)\n",
            "  (conv2): GCNConv(16, 7)\n",
            ")\n"
          ]
        }
      ]
    },
    {
      "cell_type": "markdown",
      "metadata": {
        "id": "XhO8QDgYf_Q8"
      },
      "source": [
        "Let's visualize the node embeddings of our **untrained** GCN network.\n",
        "For visualization, we make use of [**TSNE**](https://scikit-learn.org/stable/modules/generated/sklearn.manifold.TSNE.html) to embed our 7-dimensional node embeddings onto a 2D plane."
      ]
    },
    {
      "cell_type": "code",
      "metadata": {
        "id": "ntt9qVFXlk6A"
      },
      "source": [
        "# model = GCN(hidden_channels=16)\n",
        "# model.eval()\n",
        "\n",
        "# out = model(data.x, data.edge_index)\n",
        "# visualize(out, color=data.y)"
      ],
      "execution_count": 745,
      "outputs": []
    },
    {
      "cell_type": "markdown",
      "metadata": {
        "id": "Fpdscco5g6kG"
      },
      "source": [
        "We certainly can do better by training our model.\n",
        "The training and testing procedure is once again the same, but this time we make use of the node features `x` **and** the graph connectivity `edge_index` as input to our GCN model."
      ]
    },
    {
      "cell_type": "code",
      "metadata": {
        "id": "p3TAi69zI1bO",
        "colab": {
          "base_uri": "https://localhost:8080/",
          "height": 0
        },
        "outputId": "ab904585-1b45-4ef2-a4c2-5c577b4233d4"
      },
      "source": [
        "from IPython.display import Javascript  # Restrict height of output cell.\n",
        "display(Javascript('''google.colab.output.setIframeHeight(0, true, {maxHeight: 300})'''))\n",
        "\n",
        "model = GCN(hidden_channels=16)\n",
        "optimizer = torch.optim.Adam(model.parameters(), lr=0.01, weight_decay=5e-4)\n",
        "criterion = torch.nn.CrossEntropyLoss()\n",
        "\n",
        "def gnn_train(model,data):\n",
        "      model.train()\n",
        "      optimizer.zero_grad()  # Clear gradients.\n",
        "      out = model(data.x, data.edge_index)  # Perform a single forward pass.\n",
        "      loss = criterion(out[data.train_mask], data.y[data.train_mask])  # Compute the loss solely based on the training nodes.\n",
        "      loss.backward()  # Derive gradients.\n",
        "      optimizer.step()  # Update parameters based on gradients.\n",
        "      return loss,model\n",
        "\n",
        "def gnn_test(model,data):\n",
        "      model.eval()\n",
        "      out = model(data.x, data.edge_index)\n",
        "      pred = out.argmax(dim=1)  # Use the class with highest probability.\n",
        "      test_correct = pred[data.test_mask] == data.y[data.test_mask]  # Check against ground-truth labels.\n",
        "      test_acc = int(test_correct.sum()) / int(data.test_mask.sum())  # Derive ratio of correct predictions.\n",
        "      return test_acc\n",
        "\n",
        "def gnn_test2(model,data):\n",
        "    model.eval()\n",
        "    out = model(data.x, data.edge_index)\n",
        "\n",
        "    #   true1 = 0\n",
        "    true2 = 0\n",
        "    true3 = 0\n",
        "\n",
        "    acc1 = -1\n",
        "    acc2 = -1\n",
        "    acc3 = -1\n",
        "\n",
        "    #acc1: simple format\n",
        "    pred = out.argmax(dim=1)  # Use the class with highest probability.\n",
        "    test_correct = pred[data.test_mask] == data.y[data.test_mask]  # Check against ground-truth labels.\n",
        "    test_acc = int(test_correct.sum()) / int(data.test_mask.sum())  # Derive ratio of correct predictions.\n",
        "    acc1 =  test_acc\n",
        "    print('acc1',acc1)\n",
        "\n",
        "\n",
        "    #acc2: weighted_avg_arg_max:\n",
        "    for clas in redunclass:\n",
        "        a = out[clas[0]]\n",
        "        for clasi in clas[1:]:\n",
        "            a += out[clasi]\n",
        "        pred = a.argmax()\n",
        "        if pred == data.y[clas[0]]:\n",
        "            true2 += 1\n",
        "    acc2 = true2/len(redunclass)\n",
        "    print('acc2',true2/len(redunclass))\n",
        "\n",
        "    #acc3: voting:\n",
        "    for clas in redunclass:\n",
        "        votes = np.zeros(9)\n",
        "        \n",
        "        for clasi in clas:\n",
        "            a = out[clasi]\n",
        "            votes[a.argmax()]+=1\n",
        "        pred = votes.argmax()\n",
        "        if pred == data.y[clas[0]]:\n",
        "            true3 += 1\n",
        "    acc3 = true3/len(redunclass)\n",
        "    print('acc3',true3/len(redunclass))\n",
        "    return acc1,acc2,acc3\n",
        "\n",
        "for epoch in range(1, 101):\n",
        "    loss,model = gnn_train(model,data)\n",
        "    print(f'Epoch: {epoch:03d}, Loss: {loss:.4f}')\n",
        "\n",
        "print(\"\\n\")\n",
        "acc1,acc2,acc3 = gnn_test2(model,data)\n",
        "\n",
        "log['test'+str(index)]['gnn1'] = {}\n",
        "log['test'+str(index)]['gnn1']['acc1']=f'{acc1:.4f}'\n",
        "log['test'+str(index)]['gnn1']['acc2']=f'{acc2:.4f}'\n",
        "log['test'+str(index)]['gnn1']['acc3']=f'{acc3:.4f}'"
      ],
      "execution_count": 746,
      "outputs": [
        {
          "output_type": "display_data",
          "data": {
            "text/plain": [
              "<IPython.core.display.Javascript object>"
            ],
            "application/javascript": [
              "google.colab.output.setIframeHeight(0, true, {maxHeight: 300})"
            ]
          },
          "metadata": {}
        },
        {
          "output_type": "stream",
          "name": "stdout",
          "text": [
            "Epoch: 001, Loss: 1.9458\n",
            "Epoch: 002, Loss: 1.9367\n",
            "Epoch: 003, Loss: 1.9244\n",
            "Epoch: 004, Loss: 1.9147\n",
            "Epoch: 005, Loss: 1.8994\n",
            "Epoch: 006, Loss: 1.8867\n",
            "Epoch: 007, Loss: 1.8733\n",
            "Epoch: 008, Loss: 1.8631\n",
            "Epoch: 009, Loss: 1.8529\n",
            "Epoch: 010, Loss: 1.8429\n",
            "Epoch: 011, Loss: 1.8247\n",
            "Epoch: 012, Loss: 1.8146\n",
            "Epoch: 013, Loss: 1.7844\n",
            "Epoch: 014, Loss: 1.7791\n",
            "Epoch: 015, Loss: 1.7631\n",
            "Epoch: 016, Loss: 1.7538\n",
            "Epoch: 017, Loss: 1.7289\n",
            "Epoch: 018, Loss: 1.7148\n",
            "Epoch: 019, Loss: 1.6930\n",
            "Epoch: 020, Loss: 1.6722\n",
            "Epoch: 021, Loss: 1.6495\n",
            "Epoch: 022, Loss: 1.6486\n",
            "Epoch: 023, Loss: 1.6333\n",
            "Epoch: 024, Loss: 1.6000\n",
            "Epoch: 025, Loss: 1.5954\n",
            "Epoch: 026, Loss: 1.5673\n",
            "Epoch: 027, Loss: 1.5531\n",
            "Epoch: 028, Loss: 1.5226\n",
            "Epoch: 029, Loss: 1.4916\n",
            "Epoch: 030, Loss: 1.4637\n",
            "Epoch: 031, Loss: 1.4721\n",
            "Epoch: 032, Loss: 1.4317\n",
            "Epoch: 033, Loss: 1.4256\n",
            "Epoch: 034, Loss: 1.4055\n",
            "Epoch: 035, Loss: 1.3811\n",
            "Epoch: 036, Loss: 1.3286\n",
            "Epoch: 037, Loss: 1.3294\n",
            "Epoch: 038, Loss: 1.2795\n",
            "Epoch: 039, Loss: 1.2736\n",
            "Epoch: 040, Loss: 1.2451\n",
            "Epoch: 041, Loss: 1.2207\n",
            "Epoch: 042, Loss: 1.1961\n",
            "Epoch: 043, Loss: 1.1661\n",
            "Epoch: 044, Loss: 1.1732\n",
            "Epoch: 045, Loss: 1.1623\n",
            "Epoch: 046, Loss: 1.1194\n",
            "Epoch: 047, Loss: 1.0920\n",
            "Epoch: 048, Loss: 1.0831\n",
            "Epoch: 049, Loss: 1.0603\n",
            "Epoch: 050, Loss: 1.0246\n",
            "Epoch: 051, Loss: 1.0082\n",
            "Epoch: 052, Loss: 1.0193\n",
            "Epoch: 053, Loss: 0.9834\n",
            "Epoch: 054, Loss: 0.9198\n",
            "Epoch: 055, Loss: 0.9568\n",
            "Epoch: 056, Loss: 0.9330\n",
            "Epoch: 057, Loss: 0.9184\n",
            "Epoch: 058, Loss: 0.8902\n",
            "Epoch: 059, Loss: 0.8855\n",
            "Epoch: 060, Loss: 0.8842\n",
            "Epoch: 061, Loss: 0.8732\n",
            "Epoch: 062, Loss: 0.8399\n",
            "Epoch: 063, Loss: 0.8207\n",
            "Epoch: 064, Loss: 0.7706\n",
            "Epoch: 065, Loss: 0.7476\n",
            "Epoch: 066, Loss: 0.7821\n",
            "Epoch: 067, Loss: 0.7635\n",
            "Epoch: 068, Loss: 0.7324\n",
            "Epoch: 069, Loss: 0.7495\n",
            "Epoch: 070, Loss: 0.7218\n",
            "Epoch: 071, Loss: 0.7226\n",
            "Epoch: 072, Loss: 0.6374\n",
            "Epoch: 073, Loss: 0.6705\n",
            "Epoch: 074, Loss: 0.7252\n",
            "Epoch: 075, Loss: 0.6811\n",
            "Epoch: 076, Loss: 0.6136\n",
            "Epoch: 077, Loss: 0.6375\n",
            "Epoch: 078, Loss: 0.6605\n",
            "Epoch: 079, Loss: 0.6367\n",
            "Epoch: 080, Loss: 0.6165\n",
            "Epoch: 081, Loss: 0.5890\n",
            "Epoch: 082, Loss: 0.6355\n",
            "Epoch: 083, Loss: 0.6386\n",
            "Epoch: 084, Loss: 0.6029\n",
            "Epoch: 085, Loss: 0.5454\n",
            "Epoch: 086, Loss: 0.5650\n",
            "Epoch: 087, Loss: 0.5871\n",
            "Epoch: 088, Loss: 0.5562\n",
            "Epoch: 089, Loss: 0.5664\n",
            "Epoch: 090, Loss: 0.5784\n",
            "Epoch: 091, Loss: 0.5485\n",
            "Epoch: 092, Loss: 0.5554\n",
            "Epoch: 093, Loss: 0.4687\n",
            "Epoch: 094, Loss: 0.5142\n",
            "Epoch: 095, Loss: 0.5127\n",
            "Epoch: 096, Loss: 0.4844\n",
            "Epoch: 097, Loss: 0.5571\n",
            "Epoch: 098, Loss: 0.5231\n",
            "Epoch: 099, Loss: 0.5180\n",
            "Epoch: 100, Loss: 0.4983\n",
            "\n",
            "\n",
            "acc1 0.7854785478547854\n",
            "acc2 0.7880354505169868\n",
            "acc3 0.7872968980797637\n"
          ]
        }
      ]
    },
    {
      "cell_type": "markdown",
      "metadata": {
        "id": "opBBGQHqg5ZO"
      },
      "source": [
        "After training the model, we can check its test accuracy:"
      ]
    },
    {
      "cell_type": "code",
      "metadata": {
        "id": "8zOh6IIeI3Op"
      },
      "source": [
        "# test_acc = gnn_test(model,data)\n",
        "# print(f'Test Accuracy: {test_acc:.4f}')\n",
        "\n",
        "# log['test'+str(index)]['GNN 1'] = {}\n",
        "# log['test'+str(index)]['GNN 1']['last epoch loss']=f'{loss:.4f}'\n",
        "# log['test'+str(index)]['GNN 1']['test accuracy']=f'{test_acc:.4f}'"
      ],
      "execution_count": 747,
      "outputs": []
    },
    {
      "cell_type": "markdown",
      "metadata": {
        "id": "yhofzjaqhfY2"
      },
      "source": [
        "**There it is!**\n",
        "By simply swapping the linear layers with GNN layers, we can reach **81.5% of test accuracy**!\n",
        "This is in stark contrast to the 59% of test accuracy obtained by our MLP, indicating that relational information plays a crucial role in obtaining better performance.\n",
        "\n",
        "We can also verify that once again by looking at the output embeddings of our **trained** model, which now produces a far better clustering of nodes of the same category."
      ]
    },
    {
      "cell_type": "code",
      "metadata": {
        "id": "9r_VmGMukf5R",
        "colab": {
          "base_uri": "https://localhost:8080/",
          "height": 0
        },
        "outputId": "b9f956ea-d719-44ec-c97a-fbe33ee9741a"
      },
      "source": [
        "model.eval()\n",
        "\n",
        "out = model(data.x, data.edge_index)\n",
        "visualize(out, color=data.y)"
      ],
      "execution_count": 748,
      "outputs": [
        {
          "output_type": "display_data",
          "data": {
            "text/plain": [
              "<Figure size 720x720 with 1 Axes>"
            ],
            "image/png": "[encoded data removed]"
          },
          "metadata": {}
        }
      ]
    },
    {
      "cell_type": "markdown",
      "metadata": {
        "id": "paMH3_7ejSg4"
      },
      "source": [
        "## more complex GNN\n",
        "\n",
        "In this chapter, you have seen how to apply GNNs to real-world problems, and, in particular, how they can effectively be used for boosting a model's performance.\n",
        "In the next section, we will look into how GNNs can be used for the task of graph classification.\n",
        "\n",
        "[Next: Graph Classification with Graph Neural Networks](https://colab.research.google.com/drive/1I8a0DfQ3fI7Njc62__mVXUlcAleUclnb)"
      ]
    },
    {
      "cell_type": "markdown",
      "metadata": {
        "id": "S-q6Do4INLET"
      },
      "source": [
        "## (Optional) Exercises\n",
        "\n",
        "1. To achieve better model performance and to avoid overfitting, it is usually a good idea to select the best model based on an additional validation set.\n",
        "The `Cora` dataset provides a validation node set as `data.val_mask`, but we haven't used it yet.\n",
        "Can you modify the code to select and test the model with the highest validation performance?\n",
        "This should bring test performance to **82% accuracy**.\n",
        "\n",
        "2. How does `GCN` behave when increasing the hidden feature dimensionality or the number of layers?\n",
        "Does increasing the number of layers help at all?\n",
        "\n",
        "3. You can try to use different GNN layers to see how model performance changes. What happens if you swap out all `GCNConv` instances with [`GATConv`](https://pytorch-geometric.readthedocs.io/en/latest/modules/nn.html#torch_geometric.nn.conv.GATConv) layers that make use of attention? Try to write a 2-layer `GAT` model that makes use of 8 attention heads in the first layer and 1 attention head in the second layer, uses a `dropout` ratio of `0.6` inside and outside each `GATConv` call, and uses a `hidden_channels` dimensions of `8` per head."
      ]
    },
    {
      "cell_type": "code",
      "metadata": {
        "id": "pcr9joFQ6Mri",
        "colab": {
          "base_uri": "https://localhost:8080/"
        },
        "outputId": "61b79d64-40f0-4361-8d35-7ced580410a0"
      },
      "source": [
        "from torch_geometric.nn import GATConv\n",
        "\n",
        "\n",
        "class GAT(torch.nn.Module):\n",
        "    def __init__(self, hidden_channels, heads):\n",
        "        super().__init__()\n",
        "        torch.manual_seed(1234567)\n",
        "        # self.conv1 = GATConv(...)  # TODO\n",
        "        # self.conv2 = GATConv(...)  # TODO\n",
        "        # down:\n",
        "        self.conv1 = GCNConv(dataset.num_features, hidden_channels)  \n",
        "        self.conv2 = GATConv(hidden_channels, hidden_channels) \n",
        "        self.conv3 = GCNConv(hidden_channels, dataset.num_classes)  \n",
        "\n",
        "    def forward(self, x, edge_index):\n",
        "        x = F.dropout(x, p=0.6, training=self.training)\n",
        "        x = self.conv1(x, edge_index)\n",
        "        x = F.elu(x)\n",
        "        x = F.dropout(x, p=0.6, training=self.training)\n",
        "        x = self.conv2(x, edge_index)\n",
        "        x = F.elu(x)\n",
        "        x = F.dropout(x, p=0.6, training=self.training)\n",
        "        x = self.conv3(x, edge_index)\n",
        "        return x\n",
        "\n",
        "model = GAT(hidden_channels=16, heads=8)\n",
        "print(model)\n",
        "\n",
        "optimizer = torch.optim.Adam(model.parameters(), lr=0.005, weight_decay=5e-4)\n",
        "criterion = torch.nn.CrossEntropyLoss()\n",
        "\n",
        "def gnn2_train(model,data):\n",
        "      model.train()\n",
        "      optimizer.zero_grad()  # Clear gradients.\n",
        "      out = model(data.x, data.edge_index)  # Perform a single forward pass.\n",
        "      loss = criterion(out[data.train_mask], data.y[data.train_mask])  # Compute the loss solely based on the training nodes.\n",
        "      loss.backward()  # Derive gradients.\n",
        "      optimizer.step()  # Update parameters based on gradients.\n",
        "      return loss,model\n",
        "\n",
        "\n",
        "def gnn2_test(model,data):\n",
        "      model.eval()\n",
        "      out = model(data.x, data.edge_index)\n",
        "      pred = out.argmax(dim=1)  # Use the class with highest probability.\n",
        "      test_correct = pred[data.test_mask] == data.y[data.test_mask]  # Check against ground-truth labels.\n",
        "      test_acc = int(test_correct.sum()) / int(data.test_mask.sum())  # Derive ratio of correct predictions.\n",
        "      return test_acc\n",
        "\n",
        "def gnn2_test2(model,data):\n",
        "    model.eval()\n",
        "    out = model(data.x, data.edge_index)\n",
        "\n",
        "    #   true1 = 0\n",
        "    true2 = 0\n",
        "    true3 = 0\n",
        "\n",
        "    acc1 = -1\n",
        "    acc2 = -1\n",
        "    acc3 = -1\n",
        "\n",
        "    #acc1: simple format\n",
        "    pred = out.argmax(dim=1)  # Use the class with highest probability.\n",
        "    test_correct = pred[data.test_mask] == data.y[data.test_mask]  # Check against ground-truth labels.\n",
        "    test_acc = int(test_correct.sum()) / int(data.test_mask.sum())  # Derive ratio of correct predictions.\n",
        "    acc1 =  test_acc\n",
        "    print('acc1',acc1)\n",
        "\n",
        "\n",
        "    #acc2: weighted_avg_arg_max:\n",
        "    for clas in redunclass:\n",
        "        a = out[clas[0]]\n",
        "        for clasi in clas[1:]:\n",
        "            a += out[clasi]\n",
        "        pred = a.argmax()\n",
        "        if pred == data.y[clas[0]]:\n",
        "            true2 += 1\n",
        "    acc2 = true2/len(redunclass)\n",
        "    print('acc2',true2/len(redunclass))\n",
        "\n",
        "    #acc3: voting:\n",
        "    for clas in redunclass:\n",
        "        votes = np.zeros(9)\n",
        "        \n",
        "        for clasi in clas:\n",
        "            a = out[clasi]\n",
        "            votes[a.argmax()]+=1\n",
        "        pred = votes.argmax()\n",
        "        if pred == data.y[clas[0]]:\n",
        "            true3 += 1\n",
        "    acc2 = true3/len(redunclass)\n",
        "    print('acc3',true3/len(redunclass))\n",
        "    return acc1,acc2,acc3\n",
        "\n",
        "for epoch in range(1, 101):\n",
        "    loss,model = gnn2_train(model,data)\n",
        "    # val_acc = gnn2_test(data.val_mask)\n",
        "    test_acc = gnn2_test(model,data)\n",
        "    if epoch%20==0:\n",
        "        print(f'Epoch: {epoch:03d}, Loss: {loss:.4f}, Test: {test_acc:.4f}')\n",
        "\n",
        "print('\\n')\n",
        "acc1,acc2,acc3 = gnn_test2(model,data)\n",
        "\n",
        "log['test'+str(index)]['gnn2'] = {}\n",
        "log['test'+str(index)]['gnn2']['acc1']=f'{acc1:.4f}'\n",
        "log['test'+str(index)]['gnn2']['acc2']=f'{acc2:.4f}'\n",
        "log['test'+str(index)]['gnn2']['acc3']=f'{acc3:.4f}'\n"
      ],
      "execution_count": 749,
      "outputs": [
        {
          "output_type": "stream",
          "name": "stdout",
          "text": [
            "GAT(\n",
            "  (conv1): GCNConv(1433, 16)\n",
            "  (conv2): GATConv(16, 16, heads=1)\n",
            "  (conv3): GCNConv(16, 7)\n",
            ")\n",
            "Epoch: 020, Loss: 1.7799, Test: 0.2393\n",
            "Epoch: 040, Loss: 1.3300, Test: 0.5305\n",
            "Epoch: 060, Loss: 0.8710, Test: 0.7475\n",
            "Epoch: 080, Loss: 0.6226, Test: 0.7814\n",
            "Epoch: 100, Loss: 0.4509, Test: 0.7954\n",
            "\n",
            "\n",
            "acc1 0.7953795379537953\n",
            "acc2 0.7943131462333826\n",
            "acc3 0.7939438700147711\n"
          ]
        }
      ]
    },
    {
      "cell_type": "code",
      "source": [
        "from torch_geometric.nn import GCNConv\n",
        "\n",
        "\n",
        "class GCN_semi_light(torch.nn.Module):\n",
        "    def __init__(self, hidden_channels):\n",
        "        super().__init__()\n",
        "        torch.manual_seed(1234567)\n",
        "        self.conv1 = GCNConv(dataset.num_features, hidden_channels)\n",
        "        self.conv2 = GCNConv(hidden_channels, dataset.num_classes)\n",
        "\n",
        "    def forward(self, x, edge_index):\n",
        "        x = self.conv1(x, edge_index)\n",
        "        x = self.conv2(x, edge_index)\n",
        "        return x\n",
        "\n",
        "model = GCN_semi_light(hidden_channels=16)\n",
        "print(model)"
      ],
      "metadata": {
        "colab": {
          "base_uri": "https://localhost:8080/"
        },
        "id": "ippROhriZMmP",
        "outputId": "f2bbed19-fe8c-404f-f95c-75dde194f5cd"
      },
      "execution_count": 750,
      "outputs": [
        {
          "output_type": "stream",
          "name": "stdout",
          "text": [
            "GCN_semi_light(\n",
            "  (conv1): GCNConv(1433, 16)\n",
            "  (conv2): GCNConv(16, 7)\n",
            ")\n"
          ]
        }
      ]
    },
    {
      "cell_type": "code",
      "source": [
        "from IPython.display import Javascript  # Restrict height of output cell.\n",
        "display(Javascript('''google.colab.output.setIframeHeight(0, true, {maxHeight: 300})'''))\n",
        "\n",
        "model = GCN_semi_light(hidden_channels=16)\n",
        "optimizer = torch.optim.Adam(model.parameters(), lr=0.01, weight_decay=5e-4)\n",
        "criterion = torch.nn.CrossEntropyLoss()\n",
        "\n",
        "def gnn_train(model,data):\n",
        "      model.train()\n",
        "      optimizer.zero_grad()  # Clear gradients.\n",
        "      out = model(data.x, data.edge_index)  # Perform a single forward pass.\n",
        "      loss = criterion(out[data.train_mask], data.y[data.train_mask])  # Compute the loss solely based on the training nodes.\n",
        "      loss.backward()  # Derive gradients.\n",
        "      optimizer.step()  # Update parameters based on gradients.\n",
        "      return loss,model\n",
        "\n",
        "def gnn_test(model,data):\n",
        "      model.eval()\n",
        "      out = model(data.x, data.edge_index)\n",
        "      \n",
        "      pred = out.argmax(dim=1)  # Use the class with highest probability.\n",
        "      test_correct = pred[data.test_mask] == data.y[data.test_mask]  # Check against ground-truth labels.\n",
        "      test_acc = int(test_correct.sum()) / int(data.test_mask.sum())  # Derive ratio of correct predictions.\n",
        "      return test_acc\n",
        "\n",
        "def semi_gnn_test2(model,data):\n",
        "    model.eval()\n",
        "    out = model(data.x, data.edge_index)\n",
        "\n",
        "    #   true1 = 0\n",
        "    true2 = 0\n",
        "    true3 = 0\n",
        "\n",
        "    acc1 = -1\n",
        "    acc2 = -1\n",
        "    acc3 = -1\n",
        "\n",
        "    #acc1: simple format\n",
        "    pred = out.argmax(dim=1)  # Use the class with highest probability.\n",
        "    test_correct = pred[data.test_mask] == data.y[data.test_mask]  # Check against ground-truth labels.\n",
        "    test_acc = int(test_correct.sum()) / int(data.test_mask.sum())  # Derive ratio of correct predictions.\n",
        "    acc1 =  test_acc\n",
        "    print('acc1',acc1)\n",
        "\n",
        "\n",
        "    #acc2: weighted_avg_arg_max:\n",
        "    for clas in redunclass:\n",
        "        a = out[clas[0]]\n",
        "        for clasi in clas[1:]:\n",
        "            a += out[clasi]\n",
        "        pred = a.argmax()\n",
        "        if pred == data.y[clas[0]]:\n",
        "            true2 += 1\n",
        "    acc2 = true2/len(redunclass)\n",
        "    print('acc2',true2/len(redunclass))\n",
        "\n",
        "    #acc3: voting:\n",
        "    for clas in redunclass:\n",
        "        votes = np.zeros(9)\n",
        "        \n",
        "        for clasi in clas:\n",
        "            a = out[clasi]\n",
        "            votes[a.argmax()]+=1\n",
        "        pred = votes.argmax()\n",
        "        if pred == data.y[clas[0]]:\n",
        "            true3 += 1\n",
        "    acc3 = true3/len(redunclass)\n",
        "    print('acc3',true3/len(redunclass))\n",
        "    return acc1,acc2,acc3\n",
        "\n",
        "# mlp_test2(model,data)\n",
        "\n",
        "for epoch in range(1, 101):\n",
        "    loss,model = gnn_train(model,data)\n",
        "    print(f'Epoch: {epoch:03d}, Loss: {loss:.4f}')\n"
      ],
      "metadata": {
        "colab": {
          "base_uri": "https://localhost:8080/",
          "height": 0
        },
        "id": "t4ePAC6-aPQp",
        "outputId": "2c6d0bbc-e61c-401a-9122-934c1d8cec5b"
      },
      "execution_count": 751,
      "outputs": [
        {
          "output_type": "display_data",
          "data": {
            "text/plain": [
              "<IPython.core.display.Javascript object>"
            ],
            "application/javascript": [
              "google.colab.output.setIframeHeight(0, true, {maxHeight: 300})"
            ]
          },
          "metadata": {}
        },
        {
          "output_type": "stream",
          "name": "stdout",
          "text": [
            "Epoch: 001, Loss: 1.9459\n",
            "Epoch: 002, Loss: 1.9246\n",
            "Epoch: 003, Loss: 1.9044\n",
            "Epoch: 004, Loss: 1.8851\n",
            "Epoch: 005, Loss: 1.8664\n",
            "Epoch: 006, Loss: 1.8481\n",
            "Epoch: 007, Loss: 1.8300\n",
            "Epoch: 008, Loss: 1.8114\n",
            "Epoch: 009, Loss: 1.7921\n",
            "Epoch: 010, Loss: 1.7717\n",
            "Epoch: 011, Loss: 1.7502\n",
            "Epoch: 012, Loss: 1.7277\n",
            "Epoch: 013, Loss: 1.7044\n",
            "Epoch: 014, Loss: 1.6803\n",
            "Epoch: 015, Loss: 1.6557\n",
            "Epoch: 016, Loss: 1.6305\n",
            "Epoch: 017, Loss: 1.6048\n",
            "Epoch: 018, Loss: 1.5786\n",
            "Epoch: 019, Loss: 1.5517\n",
            "Epoch: 020, Loss: 1.5241\n",
            "Epoch: 021, Loss: 1.4959\n",
            "Epoch: 022, Loss: 1.4671\n",
            "Epoch: 023, Loss: 1.4379\n",
            "Epoch: 024, Loss: 1.4082\n",
            "Epoch: 025, Loss: 1.3783\n",
            "Epoch: 026, Loss: 1.3480\n",
            "Epoch: 027, Loss: 1.3175\n",
            "Epoch: 028, Loss: 1.2867\n",
            "Epoch: 029, Loss: 1.2557\n",
            "Epoch: 030, Loss: 1.2247\n",
            "Epoch: 031, Loss: 1.1937\n",
            "Epoch: 032, Loss: 1.1628\n",
            "Epoch: 033, Loss: 1.1322\n",
            "Epoch: 034, Loss: 1.1019\n",
            "Epoch: 035, Loss: 1.0719\n",
            "Epoch: 036, Loss: 1.0424\n",
            "Epoch: 037, Loss: 1.0133\n",
            "Epoch: 038, Loss: 0.9848\n",
            "Epoch: 039, Loss: 0.9568\n",
            "Epoch: 040, Loss: 0.9294\n",
            "Epoch: 041, Loss: 0.9027\n",
            "Epoch: 042, Loss: 0.8767\n",
            "Epoch: 043, Loss: 0.8515\n",
            "Epoch: 044, Loss: 0.8270\n",
            "Epoch: 045, Loss: 0.8033\n",
            "Epoch: 046, Loss: 0.7804\n",
            "Epoch: 047, Loss: 0.7583\n",
            "Epoch: 048, Loss: 0.7370\n",
            "Epoch: 049, Loss: 0.7164\n",
            "Epoch: 050, Loss: 0.6967\n",
            "Epoch: 051, Loss: 0.6778\n",
            "Epoch: 052, Loss: 0.6596\n",
            "Epoch: 053, Loss: 0.6422\n",
            "Epoch: 054, Loss: 0.6254\n",
            "Epoch: 055, Loss: 0.6094\n",
            "Epoch: 056, Loss: 0.5941\n",
            "Epoch: 057, Loss: 0.5795\n",
            "Epoch: 058, Loss: 0.5655\n",
            "Epoch: 059, Loss: 0.5521\n",
            "Epoch: 060, Loss: 0.5393\n",
            "Epoch: 061, Loss: 0.5270\n",
            "Epoch: 062, Loss: 0.5153\n",
            "Epoch: 063, Loss: 0.5041\n",
            "Epoch: 064, Loss: 0.4934\n",
            "Epoch: 065, Loss: 0.4832\n",
            "Epoch: 066, Loss: 0.4734\n",
            "Epoch: 067, Loss: 0.4640\n",
            "Epoch: 068, Loss: 0.4550\n",
            "Epoch: 069, Loss: 0.4465\n",
            "Epoch: 070, Loss: 0.4382\n",
            "Epoch: 071, Loss: 0.4303\n",
            "Epoch: 072, Loss: 0.4227\n",
            "Epoch: 073, Loss: 0.4154\n",
            "Epoch: 074, Loss: 0.4084\n",
            "Epoch: 075, Loss: 0.4017\n",
            "Epoch: 076, Loss: 0.3952\n",
            "Epoch: 077, Loss: 0.3890\n",
            "Epoch: 078, Loss: 0.3830\n",
            "Epoch: 079, Loss: 0.3772\n",
            "Epoch: 080, Loss: 0.3716\n",
            "Epoch: 081, Loss: 0.3663\n",
            "Epoch: 082, Loss: 0.3611\n",
            "Epoch: 083, Loss: 0.3561\n",
            "Epoch: 084, Loss: 0.3512\n",
            "Epoch: 085, Loss: 0.3465\n",
            "Epoch: 086, Loss: 0.3420\n",
            "Epoch: 087, Loss: 0.3376\n",
            "Epoch: 088, Loss: 0.3333\n",
            "Epoch: 089, Loss: 0.3292\n",
            "Epoch: 090, Loss: 0.3251\n",
            "Epoch: 091, Loss: 0.3212\n",
            "Epoch: 092, Loss: 0.3175\n",
            "Epoch: 093, Loss: 0.3138\n",
            "Epoch: 094, Loss: 0.3102\n",
            "Epoch: 095, Loss: 0.3068\n",
            "Epoch: 096, Loss: 0.3034\n",
            "Epoch: 097, Loss: 0.3001\n",
            "Epoch: 098, Loss: 0.2969\n",
            "Epoch: 099, Loss: 0.2938\n",
            "Epoch: 100, Loss: 0.2908\n"
          ]
        }
      ]
    },
    {
      "cell_type": "code",
      "source": [
        "acc1,acc2,acc3 = semi_gnn_test2(model,data)\n",
        "\n",
        "log['test'+str(index)]['semi gnn'] = {}\n",
        "log['test'+str(index)]['semi gnn']['acc1']=f'{acc1:.4f}'\n",
        "log['test'+str(index)]['semi gnn']['acc2']=f'{acc2:.4f}'\n",
        "log['test'+str(index)]['semi gnn']['acc3']=f'{acc3:.4f}'"
      ],
      "metadata": {
        "id": "_M3T-hRc4I5O",
        "colab": {
          "base_uri": "https://localhost:8080/"
        },
        "outputId": "94901e10-b039-449a-9ed3-6c06396b0025"
      },
      "execution_count": 752,
      "outputs": [
        {
          "output_type": "stream",
          "name": "stdout",
          "text": [
            "acc1 0.8003300330033003\n",
            "acc2 0.7987444608567208\n",
            "acc3 0.7976366322008862\n"
          ]
        }
      ]
    },
    {
      "cell_type": "markdown",
      "source": [
        "#output untill now"
      ],
      "metadata": {
        "id": "s-t6Hvls4dUB"
      }
    },
    {
      "cell_type": "code",
      "source": [
        "log"
      ],
      "metadata": {
        "id": "sBbbI3HVlegD",
        "colab": {
          "base_uri": "https://localhost:8080/"
        },
        "outputId": "41baa06e-1851-4e21-e3a3-546279418a94"
      },
      "execution_count": 755,
      "outputs": [
        {
          "output_type": "execute_result",
          "data": {
            "text/plain": [
              "{'dataset': Cora(),\n",
              " 'raw data': 'Data(x=[2708, 1433], edge_index=[2, 10556], y=[2708], train_mask=[2708], val_mask=[2708], test_mask=[2708])',\n",
              " 'info': {'#of(edge_index,x,ei,train_mask': [10556, 2708, 2, 2708]},\n",
              " 'test4': {'each_part_size': 10,\n",
              "  'flag type 2': False,\n",
              "  'mlp': {'acc1': '0.5347', 'acc2': '0.5798', 'acc3': '0.5798'},\n",
              "  'gnn1': {'acc1': '0.7822', 'acc2': '0.7840', 'acc3': '0.7843'},\n",
              "  'gnn2': {'acc1': '0.7797', 'acc2': '0.7795', 'acc3': '0.7781'},\n",
              "  'semi gnn': {'acc1': '0.7797', 'acc2': '0.7866', 'acc3': '0.7858'}},\n",
              " 'test5': {'each_part_size': 20,\n",
              "  'flag type 2': False,\n",
              "  'mlp': {'acc1': '0.5494', 'acc2': '0.5886', 'acc3': '0.5886'},\n",
              "  'gnn1': {'acc1': '0.7872', 'acc2': '0.7925', 'acc3': '0.7925'},\n",
              "  'gnn2': {'acc1': '0.7689', 'acc2': '0.7832', 'acc3': '0.7829'},\n",
              "  'semi gnn': {'acc1': '0.8015', 'acc2': '0.8072', 'acc3': '0.8065'}},\n",
              " 'test6': {'each_part_size': 50,\n",
              "  'flag type 2': False,\n",
              "  'mlp': {'acc1': '0.5666', 'acc2': '0.6004', 'acc3': '0.6004'},\n",
              "  'gnn1': {'acc1': '0.8052', 'acc2': '0.8128', 'acc3': '0.8124'},\n",
              "  'gnn2': {'acc1': '0.7952', 'acc2': '0.8021', 'acc3': '0.8021'},\n",
              "  'semi gnn': {'acc1': '0.8121', 'acc2': '0.8198', 'acc3': '0.8198'}},\n",
              " 'test7': {'each_part_size': 100,\n",
              "  'flag type 2': False,\n",
              "  'mlp': {'acc1': '0.5674', 'acc2': '0.6016', 'acc3': '0.6016'},\n",
              "  'gnn1': {'acc1': '0.8142', 'acc2': '0.8179', 'acc3': '0.8179'},\n",
              "  'gnn2': {'acc1': '0.7992', 'acc2': '0.8109', 'acc3': '0.8109'},\n",
              "  'semi gnn': {'acc1': '0.8182', 'acc2': '0.8231', 'acc3': '0.8231'}},\n",
              " 'test8': {'each_part_size': 1000,\n",
              "  'flag type 2': False,\n",
              "  'mlp': {'acc1': '0.5670', 'acc2': '0.6016', 'acc3': '0.6016'},\n",
              "  'gnn1': {'acc1': '0.8150', 'acc2': '0.8168', 'acc3': '0.8168'},\n",
              "  'gnn2': {'acc1': '0.7780', 'acc2': '0.7921', 'acc3': '0.7921'},\n",
              "  'semi gnn': {'acc1': '0.8180', 'acc2': '0.8220', 'acc3': '0.8220'}},\n",
              " 'test9': {'each_part_size': 1000,\n",
              "  'flag type 2': True,\n",
              "  'mlp': {'acc1': '0.5670', 'acc2': '0.6016', 'acc3': '0.6016'},\n",
              "  'gnn1': {'acc1': '0.8150', 'acc2': '0.8168', 'acc3': '0.8168'},\n",
              "  'gnn2': {'acc1': '0.7780', 'acc2': '0.7921', 'acc3': '0.7921'},\n",
              "  'semi gnn': {'acc1': '0.8180', 'acc2': '0.8220', 'acc3': '0.8220'}},\n",
              " 'test10': {'each_part_size': 100,\n",
              "  'flag type 2': True,\n",
              "  'mlp': {'acc1': '0.5674', 'acc2': '0.6016', 'acc3': '0.6016'},\n",
              "  'gnn1': {'acc1': '0.8142', 'acc2': '0.8183', 'acc3': '0.8183'},\n",
              "  'gnn2': {'acc1': '0.8012', 'acc2': '0.8117', 'acc3': '0.8117'},\n",
              "  'semi gnn': {'acc1': '0.8162', 'acc2': '0.8239', 'acc3': '0.8239'}},\n",
              " 'test11': {'each_part_size': 50,\n",
              "  'flag type 2': True,\n",
              "  'mlp': {'acc1': '0.5666', 'acc2': '0.6004', 'acc3': '0.6004'},\n",
              "  'gnn1': {'acc1': '0.8052', 'acc2': '0.8146', 'acc3': '0.8143'},\n",
              "  'gnn2': {'acc1': '0.8022', 'acc2': '0.8072', 'acc3': '0.8072'},\n",
              "  'semi gnn': {'acc1': '0.8201', 'acc2': '0.8239', 'acc3': '0.8239'}},\n",
              " 'test12': {'each_part_size': 20,\n",
              "  'flag type 2': True,\n",
              "  'mlp': {'acc1': '0.5494', 'acc2': '0.5886', 'acc3': '0.5886'},\n",
              "  'gnn1': {'acc1': '0.7948', 'acc2': '0.7954', 'acc3': '0.7947'},\n",
              "  'gnn2': {'acc1': '0.7814', 'acc2': '0.7928', 'acc3': '0.7925'},\n",
              "  'semi gnn': {'acc1': '0.8054', 'acc2': '0.8050', 'acc3': '0.8047'}},\n",
              " 'test13': {'each_part_size': 10,\n",
              "  'flag type 2': True,\n",
              "  'mlp': {'acc1': '0.5347', 'acc2': '0.5798', 'acc3': '0.5798'},\n",
              "  'gnn1': {'acc1': '0.7855', 'acc2': '0.7880', 'acc3': '0.7873'},\n",
              "  'gnn2': {'acc1': '0.7954', 'acc2': '0.7943', 'acc3': '0.7939'},\n",
              "  'semi gnn': {'acc1': '0.8003', 'acc2': '0.7987', 'acc3': '0.7976'}}}"
            ]
          },
          "metadata": {},
          "execution_count": 755
        }
      ]
    },
    {
      "cell_type": "code",
      "source": [],
      "metadata": {
        "id": "MtSj7Z422MRO"
      },
      "execution_count": null,
      "outputs": []
    }
  ]
}