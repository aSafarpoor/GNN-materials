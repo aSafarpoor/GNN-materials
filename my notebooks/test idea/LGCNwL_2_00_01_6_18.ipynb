{
  "cells": [
    {
      "cell_type": "markdown",
      "metadata": {
        "id": "kH6usRadDciG"
      },
      "source": [
        "This notebook is mainly not mine but, I will add some parts to make it like a tutorial for myself, and then |I will change it to test my idea."
      ]
    },
    {
      "cell_type": "markdown",
      "metadata": {
        "id": "EK9jTVUpQz7W"
      },
      "source": [
        "Based on: https://towardsdatascience.com/program-a-simple-graph-net-in-pytorch-e00b500a642d\n",
        "\n",
        "Source: https://github.com/praxidike97/GraphNeuralNet/blob/72c330bb6e64dd7dd6784b6e69a821149dc5d028/main.py#L114"
      ]
    },
    {
      "cell_type": "code",
      "execution_count": 3,
      "metadata": {
        "colab": {
          "base_uri": "https://localhost:8080/"
        },
        "id": "reGnJdezSfWV",
        "outputId": "8ae34154-4f75-4ac3-9fd8-d567770a50e5"
      },
      "outputs": [
        {
          "output_type": "stream",
          "name": "stdout",
          "text": [
            "Looking in indexes: https://pypi.org/simple, https://us-python.pkg.dev/colab-wheels/public/simple/\n",
            "Looking in links: https://pytorch-geometric.com/whl/torch-1.12.1+cu113.html\n",
            "Collecting torch-scatter\n",
            "  Downloading https://data.pyg.org/whl/torch-1.12.0%2Bcu113/torch_scatter-2.0.9-cp37-cp37m-linux_x86_64.whl (7.9 MB)\n",
            "\u001b[K     |████████████████████████████████| 7.9 MB 26.1 MB/s \n",
            "\u001b[?25hInstalling collected packages: torch-scatter\n",
            "Successfully installed torch-scatter-2.0.9\n",
            "Looking in indexes: https://pypi.org/simple, https://us-python.pkg.dev/colab-wheels/public/simple/\n",
            "Looking in links: https://pytorch-geometric.com/whl/torch-1.12.1+cu113.html\n",
            "Collecting torch-sparse\n",
            "  Downloading https://data.pyg.org/whl/torch-1.12.0%2Bcu113/torch_sparse-0.6.15-cp37-cp37m-linux_x86_64.whl (3.5 MB)\n",
            "\u001b[K     |████████████████████████████████| 3.5 MB 27.8 MB/s \n",
            "\u001b[?25hRequirement already satisfied: scipy in /usr/local/lib/python3.7/dist-packages (from torch-sparse) (1.7.3)\n",
            "Requirement already satisfied: numpy<1.23.0,>=1.16.5 in /usr/local/lib/python3.7/dist-packages (from scipy->torch-sparse) (1.21.6)\n",
            "Installing collected packages: torch-sparse\n",
            "Successfully installed torch-sparse-0.6.15\n",
            "Looking in indexes: https://pypi.org/simple, https://us-python.pkg.dev/colab-wheels/public/simple/\n",
            "Looking in links: https://pytorch-geometric.com/whl/torch-1.12.1+cu113.html\n",
            "Collecting torch-cluster\n",
            "  Downloading https://data.pyg.org/whl/torch-1.12.0%2Bcu113/torch_cluster-1.6.0-cp37-cp37m-linux_x86_64.whl (2.4 MB)\n",
            "\u001b[K     |████████████████████████████████| 2.4 MB 25.0 MB/s \n",
            "\u001b[?25hInstalling collected packages: torch-cluster\n",
            "Successfully installed torch-cluster-1.6.0\n",
            "Looking in indexes: https://pypi.org/simple, https://us-python.pkg.dev/colab-wheels/public/simple/\n",
            "Looking in links: https://pytorch-geometric.com/whl/torch-1.12.1+cu113.html\n",
            "Collecting torch-spline-conv\n",
            "  Downloading https://data.pyg.org/whl/torch-1.12.0%2Bcu113/torch_spline_conv-1.2.1-cp37-cp37m-linux_x86_64.whl (709 kB)\n",
            "\u001b[K     |████████████████████████████████| 709 kB 25.1 MB/s \n",
            "\u001b[?25hInstalling collected packages: torch-spline-conv\n",
            "Successfully installed torch-spline-conv-1.2.1\n",
            "Looking in indexes: https://pypi.org/simple, https://us-python.pkg.dev/colab-wheels/public/simple/\n",
            "Collecting torch-geometric\n",
            "  Downloading torch_geometric-2.1.0.post1.tar.gz (467 kB)\n",
            "\u001b[K     |████████████████████████████████| 467 kB 28.2 MB/s \n",
            "\u001b[?25hRequirement already satisfied: tqdm in /usr/local/lib/python3.7/dist-packages (from torch-geometric) (4.64.0)\n",
            "Requirement already satisfied: numpy in /usr/local/lib/python3.7/dist-packages (from torch-geometric) (1.21.6)\n",
            "Requirement already satisfied: scipy in /usr/local/lib/python3.7/dist-packages (from torch-geometric) (1.7.3)\n",
            "Requirement already satisfied: jinja2 in /usr/local/lib/python3.7/dist-packages (from torch-geometric) (2.11.3)\n",
            "Requirement already satisfied: requests in /usr/local/lib/python3.7/dist-packages (from torch-geometric) (2.23.0)\n",
            "Requirement already satisfied: pyparsing in /usr/local/lib/python3.7/dist-packages (from torch-geometric) (3.0.9)\n",
            "Requirement already satisfied: scikit-learn in /usr/local/lib/python3.7/dist-packages (from torch-geometric) (1.0.2)\n",
            "Requirement already satisfied: MarkupSafe>=0.23 in /usr/local/lib/python3.7/dist-packages (from jinja2->torch-geometric) (2.0.1)\n",
            "Requirement already satisfied: urllib3!=1.25.0,!=1.25.1,<1.26,>=1.21.1 in /usr/local/lib/python3.7/dist-packages (from requests->torch-geometric) (1.24.3)\n",
            "Requirement already satisfied: certifi>=2017.4.17 in /usr/local/lib/python3.7/dist-packages (from requests->torch-geometric) (2022.6.15)\n",
            "Requirement already satisfied: chardet<4,>=3.0.2 in /usr/local/lib/python3.7/dist-packages (from requests->torch-geometric) (3.0.4)\n",
            "Requirement already satisfied: idna<3,>=2.5 in /usr/local/lib/python3.7/dist-packages (from requests->torch-geometric) (2.10)\n",
            "Requirement already satisfied: joblib>=0.11 in /usr/local/lib/python3.7/dist-packages (from scikit-learn->torch-geometric) (1.1.0)\n",
            "Requirement already satisfied: threadpoolctl>=2.0.0 in /usr/local/lib/python3.7/dist-packages (from scikit-learn->torch-geometric) (3.1.0)\n",
            "Building wheels for collected packages: torch-geometric\n",
            "  Building wheel for torch-geometric (setup.py) ... \u001b[?25l\u001b[?25hdone\n",
            "  Created wheel for torch-geometric: filename=torch_geometric-2.1.0.post1-py3-none-any.whl size=689859 sha256=379bb85535cbfa57cc64cd7550c2039cfa617201fe99f2f1898a4124d5e2a58c\n",
            "  Stored in directory: /root/.cache/pip/wheels/d1/cb/43/f7f2e472de4d7cff31bceddadc36d634e1e545fbc17961c282\n",
            "Successfully built torch-geometric\n",
            "Installing collected packages: torch-geometric\n",
            "Successfully installed torch-geometric-2.1.0.post1\n"
          ]
        }
      ],
      "source": [
        "# Add this in a Google Colab cell to install the correct version of Pytorch Geometric.\n",
        "import torch\n",
        "\n",
        "def format_pytorch_version(version):\n",
        "  return version.split('+')[0]\n",
        "\n",
        "TORCH_version = torch.__version__\n",
        "TORCH = format_pytorch_version(TORCH_version)\n",
        "\n",
        "def format_cuda_version(version):\n",
        "  return 'cu' + version.replace('.', '')\n",
        "\n",
        "CUDA_version = torch.version.cuda\n",
        "CUDA = format_cuda_version(CUDA_version)\n",
        "\n",
        "!pip install torch-scatter     -f https://pytorch-geometric.com/whl/torch-{TORCH}+{CUDA}.html\n",
        "!pip install torch-sparse      -f https://pytorch-geometric.com/whl/torch-{TORCH}+{CUDA}.html\n",
        "!pip install torch-cluster     -f https://pytorch-geometric.com/whl/torch-{TORCH}+{CUDA}.html\n",
        "!pip install torch-spline-conv -f https://pytorch-geometric.com/whl/torch-{TORCH}+{CUDA}.html\n",
        "!pip install torch-geometric "
      ]
    },
    {
      "cell_type": "code",
      "execution_count": 4,
      "metadata": {
        "id": "PJqdawcjQ7mO"
      },
      "outputs": [],
      "source": [
        "from torch_geometric.datasets import Planetoid\n",
        "import torch\n",
        "import torch.nn.functional as F\n",
        "from torch_geometric.nn import MessagePassing\n",
        "from torch_geometric.utils import add_self_loops, degree\n",
        "import networkx as nx\n",
        "import numpy as np\n",
        "import matplotlib.pyplot as plt\n",
        "from tqdm import tqdm"
      ]
    },
    {
      "cell_type": "code",
      "execution_count": 5,
      "metadata": {
        "id": "HlFhPCgyaD2C"
      },
      "outputs": [],
      "source": [
        "import random\n",
        "random.seed(10)"
      ]
    },
    {
      "cell_type": "markdown",
      "metadata": {
        "id": "ZGOM4TuPfYot"
      },
      "source": [
        "# what we need"
      ]
    },
    {
      "cell_type": "markdown",
      "metadata": {
        "id": "dCIwUB25DGl9"
      },
      "source": [
        "## Graph Class"
      ]
    },
    {
      "cell_type": "code",
      "execution_count": 6,
      "metadata": {
        "colab": {
          "base_uri": "https://localhost:8080/"
        },
        "id": "78AOR09EIejU",
        "outputId": "0feffd6f-353f-407a-b920-1f73c8327863"
      },
      "outputs": [
        {
          "output_type": "stream",
          "name": "stdout",
          "text": [
            "18\n",
            "[[0, 0, 1, 1, 1, 2, 2, 3, 3, 4, 4, 5, 5, 5, 6, 6, 6, 7, 7, 8, 8, 8, 8, 9, 9, 9], [0, 1, 0, 1, 2, 1, 2, 3, 4, 3, 4, 9, 5, 6, 8, 5, 6, 8, 7, 8, 9, 6, 7, 8, 9, 5]]\n"
          ]
        },
        {
          "output_type": "execute_result",
          "data": {
            "text/plain": [
              "[[1, 1, 0, 0, 0, 0, 0, 0, 0, 0],\n",
              " [1, 1, 1, 0, 0, 0, 0, 0, 0, 0],\n",
              " [0, 1, 1, 0, 0, 0, 0, 0, 0, 0],\n",
              " [0, 0, 0, 1, 1, 0, 0, 0, 0, 0],\n",
              " [0, 0, 0, 1, 1, 0, 0, 0, 0, 0],\n",
              " [0, 0, 0, 0, 0, 1, 1, 0, 0, 1],\n",
              " [0, 0, 0, 0, 0, 1, 1, 0, 1, 0],\n",
              " [0, 0, 0, 0, 0, 0, 0, 1, 1, 0],\n",
              " [0, 0, 0, 0, 0, 0, 1, 1, 1, 1],\n",
              " [0, 0, 0, 0, 0, 1, 0, 0, 1, 1]]"
            ]
          },
          "metadata": {},
          "execution_count": 6
        }
      ],
      "source": [
        "from itertools import filterfalse\n",
        "class Graph:\n",
        "    def __init__(self,nV):\n",
        "        self.nV = nV\n",
        "        self.V = list(range(nV))\n",
        "        self.lenE = 0\n",
        "        self.VnV = [[] for i in range(nV)]\n",
        "        self.emV = []\n",
        "        self.cc = []\n",
        "\n",
        "    def add_edge(self,v1,v2,directed=False):\n",
        "        self.VnV[v1].append(v2)\n",
        "        if not directed:\n",
        "            self.VnV[v2].append(v1)\n",
        "        \n",
        "        self.lenE += 1\n",
        "\n",
        "    def add_self_loop(self):\n",
        "        for i in range(self.nV):\n",
        "            self.VnV[i].append(i)\n",
        "        self.lenE += self.nV\n",
        "\n",
        "    def create_embedding(self):\n",
        "        self.emV = []\n",
        "        for i in range(self.nV):\n",
        "            temp = [0 for i in range(self.nV)]\n",
        "            for j in self.VnV[i]:\n",
        "                temp[j] = 1\n",
        "            self.emV.append(temp[:])\n",
        "        return self.emV\n",
        "    \n",
        "    def create_embedding_based_on_input(self,edges):\n",
        "        self.emboi = np.zeros((self.nV,self.nV))\n",
        "        for i in range(len(edges[0])):\n",
        "            self.emboi[edges[0][i]][edges[1][i]] = 1\n",
        "        return self.emboi\n",
        "\n",
        "    def create_random_edges(self,index_list,num,avoid_self_loop=False,directed=False):\n",
        "        for i in range(num):\n",
        "            e1 = random.choice(index_list)\n",
        "            e2 = random.choice(index_list)\n",
        "            if avoid_self_loop:\n",
        "                while(e2 == e1):\n",
        "                     e2 = random.choice(index_list)\n",
        "            self.add_edge(e1,e2,directed=directed)\n",
        "    \n",
        "    def clear_redundant_edges(self):\n",
        "        self.lenE = 0\n",
        "        for i in range(len(self.VnV)):\n",
        "            self.VnV[i] = list(set(self.VnV[i]))\n",
        "            self.lenE += len(self.VnV[i])\n",
        "            self.lenE += i in self.VnV[i]\n",
        "        self.lenE/=2\n",
        "\n",
        "    def ask_nE(self,ifprint=False):\n",
        "        if ifprint:\n",
        "            print(int(self.lenE))\n",
        "        return int(self.lenE)\n",
        "    \n",
        "    def edge_index(self):\n",
        "        E1 = []\n",
        "        E2 = []\n",
        "        for i in range(self.nV):\n",
        "            for j in self.VnV[i]:\n",
        "                E1.append(i)\n",
        "                E2.append(j)\n",
        "        return [E1,E2]\n",
        "\n",
        "    @staticmethod\n",
        "    def is_commonelems(x,y):\n",
        "        for value in x:\n",
        "            if value in y:\n",
        "                return True\n",
        "        return False\n",
        "\n",
        "    def update_cc(self,index_list):\n",
        "        self.cc.append(index_list)\n",
        "\n",
        "    def create_connected_component(self,index_list,nE):\n",
        "        self.update_cc(index_list)\n",
        "\n",
        "        n = max(nE-len(index_list)+1,0)\n",
        "        fill = [index_list[0],index_list[1]]\n",
        "        self.add_edge(index_list[0],index_list[1])\n",
        "        for i in range(3,len(index_list)):\n",
        "            fill.append(index_list[i])\n",
        "            self.add_edge(index_list[i],random.choice(fill))\n",
        "        for i in range(n):\n",
        "            self.add_edge(random.choice(fill),random.choice(fill))\n",
        "\n",
        "g = Graph(10)\n",
        "g.add_edge(1,2)\n",
        "g.add_edge(0,1)\n",
        "g.add_edge(3,4)\n",
        "g.create_random_edges(list(range(5,10)),7)\n",
        "g.add_self_loop()\n",
        "g.clear_redundant_edges()\n",
        "g.ask_nE(True)\n",
        "print(g.edge_index())\n",
        "g.create_embedding()\n"
      ]
    },
    {
      "cell_type": "markdown",
      "metadata": {
        "id": "a_62YJN5fb9N"
      },
      "source": [
        "# create dataset"
      ]
    },
    {
      "cell_type": "code",
      "execution_count": 7,
      "metadata": {
        "id": "fHDZ7uT3ct2_"
      },
      "outputs": [],
      "source": [
        "class Data:\n",
        "    def __init__(self,g):\n",
        "        self.x = np.array(g.create_embedding())\n",
        "        self.num_node_features = g.nV\n",
        "        self.edge_index = np.array(g.edge_index())\n",
        "\n",
        "    def create_mask(self,train_ratio=0.7):\n",
        "        self.test_mask = []\n",
        "        self.train_mask = []\n",
        "        for i in range(len(self.edge_index[0])):\n",
        "            if random.random()>train_ratio:\n",
        "                self.test_mask.append(True)\n",
        "                self.train_mask.append(False)\n",
        "\n",
        "            else:\n",
        "                self.train_mask.append(True)\n",
        "                self.test_mask.append(False)\n",
        "\n",
        "\n",
        "    def safe_create_mask(self,train_ratio=0.7):\n",
        "        self.test_mask = []\n",
        "        self.train_mask = []\n",
        "        last_train = -1\n",
        "        for i in range(len(self.edge_index[0])):\n",
        "            if last_train != self.edge_index[0][i]:\n",
        "                last_train = self.edge_index[0][i]\n",
        "                self.train_mask.append(True)\n",
        "                self.test_mask.append(False)\n",
        "\n",
        "            elif random.random()>train_ratio:\n",
        "                self.test_mask.append(True)\n",
        "                self.train_mask.append(False)\n",
        "            else:\n",
        "                self.train_mask.append(True)\n",
        "                self.test_mask.append(False)\n",
        "\n"
      ]
    },
    {
      "cell_type": "code",
      "execution_count": 8,
      "metadata": {
        "id": "IqNUfqFafmmu"
      },
      "outputs": [],
      "source": [
        "data = Data(g)#g is Graph obj"
      ]
    },
    {
      "cell_type": "code",
      "execution_count": 9,
      "metadata": {
        "colab": {
          "base_uri": "https://localhost:8080/"
        },
        "id": "QUp-W0_2cuPg",
        "outputId": "ad21877b-8fa2-4290-f06e-e17a6a2cc7d7"
      },
      "outputs": [
        {
          "output_type": "stream",
          "name": "stdout",
          "text": [
            "10\n",
            "(10, 10) (2, 26)\n",
            "18\n",
            "8\n",
            "23\n",
            "3\n"
          ]
        }
      ],
      "source": [
        "print(data.num_node_features)\n",
        "x, edge_index = data.x, data.edge_index\n",
        "print(x.shape,edge_index.shape)\n",
        "\n",
        "data.create_mask()\n",
        "print(sum(data.train_mask))\n",
        "print(sum(data.test_mask))\n",
        "\n",
        "data.safe_create_mask()\n",
        "print(sum(data.train_mask))\n",
        "print(sum(data.test_mask))"
      ]
    },
    {
      "cell_type": "markdown",
      "metadata": {
        "id": "yqX3MC0Glpwl"
      },
      "source": [
        "# test above parts"
      ]
    },
    {
      "cell_type": "markdown",
      "metadata": {
        "id": "rPl6iu5VeCy9"
      },
      "source": [
        "## not now"
      ]
    },
    {
      "cell_type": "markdown",
      "metadata": {
        "id": "8awkHCybepGt"
      },
      "source": [
        "### but now:"
      ]
    },
    {
      "cell_type": "code",
      "execution_count": 10,
      "metadata": {
        "id": "sVTWRrhguAJx"
      },
      "outputs": [],
      "source": [
        "epoch = 100"
      ]
    },
    {
      "cell_type": "code",
      "execution_count": 52,
      "metadata": {
        "colab": {
          "base_uri": "https://localhost:8080/"
        },
        "id": "60v_IoUycubz",
        "outputId": "6f5ef49a-e04f-4fa5-b983-d9f23d271378"
      },
      "outputs": [
        {
          "output_type": "stream",
          "name": "stdout",
          "text": [
            "10881\n"
          ]
        },
        {
          "output_type": "execute_result",
          "data": {
            "text/plain": [
              "10881"
            ]
          },
          "metadata": {},
          "execution_count": 52
        }
      ],
      "source": [
        "g = Graph(10000)\n",
        "for i in range(100):\n",
        "    g.create_connected_component(list(range(i*100,i*100+100)),110)\n",
        "\n",
        "# g.add_self_loop()\n",
        "g.clear_redundant_edges()\n",
        "g.ask_nE(True)\n",
        "# g.create_embedding()"
      ]
    },
    {
      "cell_type": "code",
      "execution_count": 53,
      "metadata": {
        "colab": {
          "base_uri": "https://localhost:8080/"
        },
        "id": "0uxnGOuM6pdh",
        "outputId": "85615702-9f9a-495f-a69d-62ccb79944f6"
      },
      "outputs": [
        {
          "output_type": "execute_result",
          "data": {
            "text/plain": [
              "100"
            ]
          },
          "metadata": {},
          "execution_count": 53
        }
      ],
      "source": [
        "len(g.cc)"
      ]
    },
    {
      "cell_type": "code",
      "execution_count": 54,
      "metadata": {
        "id": "1nXH_RbkHN01"
      },
      "outputs": [],
      "source": [
        "# g.VnV[:100]"
      ]
    },
    {
      "cell_type": "code",
      "execution_count": 55,
      "metadata": {
        "id": "zolR0PGecuen"
      },
      "outputs": [],
      "source": [
        "em = g.create_embedding()"
      ]
    },
    {
      "cell_type": "code",
      "execution_count": 56,
      "metadata": {
        "colab": {
          "base_uri": "https://localhost:8080/"
        },
        "id": "1JuTUiykcuhn",
        "outputId": "d6c47b38-e040-4bff-9928-d03ee47c62a7"
      },
      "outputs": [
        {
          "output_type": "stream",
          "name": "stdout",
          "text": [
            "10000\n",
            "(10000, 10000) (2, 21364)\n",
            "17085\n",
            "4279\n"
          ]
        }
      ],
      "source": [
        "data = Data(g)#g is Graph obj\n",
        "\n",
        "print(data.num_node_features)\n",
        "x, edge_index = data.x, data.edge_index\n",
        "print(x.shape,edge_index.shape)\n",
        "\n",
        "data.create_mask(0.8)\n",
        "print(sum(data.train_mask))\n",
        "print(sum(data.test_mask))\n",
        "\n",
        "# data.safe_create_mask()\n",
        "# print(sum(data.train_mask))\n",
        "# print(sum(data.test_mask))"
      ]
    },
    {
      "cell_type": "code",
      "execution_count": 57,
      "metadata": {
        "id": "dxBWP77NoW_E"
      },
      "outputs": [],
      "source": [
        "train = np.array([data.edge_index[0][data.train_mask],data.edge_index[1][data.train_mask]])\n",
        "test = np.array([data.edge_index[0][data.test_mask],data.edge_index[1][data.test_mask]])"
      ]
    },
    {
      "cell_type": "code",
      "execution_count": 58,
      "metadata": {
        "colab": {
          "base_uri": "https://localhost:8080/"
        },
        "id": "SoOMuzycqRJz",
        "outputId": "22572639-961d-487f-f5fb-e51520c871dc"
      },
      "outputs": [
        {
          "output_type": "execute_result",
          "data": {
            "text/plain": [
              "(array([[   0,    0,    0, ..., 9996, 9997, 9998],\n",
              "        [   1,    9,   29, ..., 9992, 9942, 9973]]),\n",
              " array([[   0,    1,    3, ..., 9993, 9997, 9999],\n",
              "        [  28,    0,   18, ..., 9907, 9991, 9913]]))"
            ]
          },
          "metadata": {},
          "execution_count": 58
        }
      ],
      "source": [
        "train,test"
      ]
    },
    {
      "cell_type": "markdown",
      "metadata": {
        "id": "SkvQoYqbdBrV"
      },
      "source": [
        "*********************************/////////////////==================================================///////////////////********************************"
      ]
    },
    {
      "cell_type": "markdown",
      "metadata": {
        "id": "eJK09ggdcsLo"
      },
      "source": [
        "## find train components again"
      ]
    },
    {
      "cell_type": "code",
      "execution_count": 59,
      "metadata": {
        "id": "PvVMdQmHctZg"
      },
      "outputs": [],
      "source": [
        "g2 = Graph(g.nV)\n",
        "for i in range(len(train[0])):\n",
        "    g2.add_edge(train[0][i],train[1][i])\n",
        "g2.clear_redundant_edges()"
      ]
    },
    {
      "cell_type": "code",
      "execution_count": 60,
      "metadata": {
        "id": "J-NLdNHIjK81"
      },
      "outputs": [],
      "source": [
        "em = g2.create_embedding()"
      ]
    },
    {
      "cell_type": "code",
      "execution_count": 61,
      "metadata": {
        "colab": {
          "base_uri": "https://localhost:8080/"
        },
        "id": "qZ1-oa2EfEev",
        "outputId": "34b41244-1224-4c14-ab89-71db071dfb3b"
      },
      "outputs": [
        {
          "output_type": "stream",
          "name": "stdout",
          "text": [
            "10000 10000 10399.0\n"
          ]
        }
      ],
      "source": [
        "print(g2.nV,g.nV,g2.lenE)"
      ]
    },
    {
      "cell_type": "code",
      "execution_count": 62,
      "metadata": {
        "colab": {
          "base_uri": "https://localhost:8080/"
        },
        "id": "zClalozGdc8p",
        "outputId": "a1795d73-d989-4ad6-f05e-dc2253f7c4c3"
      },
      "outputs": [
        {
          "output_type": "execute_result",
          "data": {
            "text/plain": [
              "[[1, 9, 29, 28, 93],\n",
              " [0, 34, 68, 5, 41, 10, 17, 90],\n",
              " [],\n",
              " [3, 67, 7, 72, 39, 18],\n",
              " [4, 36, 44, 79, 20],\n",
              " [1, 99, 37, 6, 15, 59],\n",
              " [5, 30],\n",
              " [3, 70],\n",
              " [8, 84],\n",
              " [0, 89, 12, 21],\n",
              " [1, 13, 14],\n",
              " [19],\n",
              " [9, 85, 22, 87],\n",
              " [24, 33, 10, 56],\n",
              " [16, 10, 83],\n",
              " [32, 5],\n",
              " [32, 85, 14, 23],\n",
              " [80, 1, 61, 46],\n",
              " [3],\n",
              " [42, 11],\n",
              " [65, 4, 45, 55],\n",
              " [9],\n",
              " [26, 27, 12],\n",
              " [16, 62, 31],\n",
              " [13],\n",
              " [25, 98, 60],\n",
              " [22, 95],\n",
              " [80, 22, 47],\n",
              " [0, 43],\n",
              " [0, 48],\n",
              " [35, 6],\n",
              " [58, 23],\n",
              " [40, 73, 15, 16, 82, 53, 54, 63],\n",
              " [13, 38],\n",
              " [1, 66, 76],\n",
              " [30],\n",
              " [4],\n",
              " [91, 5, 86],\n",
              " [33],\n",
              " [3],\n",
              " [32, 60],\n",
              " [1, 90],\n",
              " [19],\n",
              " [28, 94],\n",
              " [50, 4],\n",
              " [51, 20],\n",
              " [17, 97, 71],\n",
              " [27],\n",
              " [68, 29],\n",
              " [49],\n",
              " [44],\n",
              " [61, 45],\n",
              " [],\n",
              " [32],\n",
              " [32],\n",
              " [57, 20],\n",
              " [13],\n",
              " [61, 55],\n",
              " [31],\n",
              " [75, 5, 62],\n",
              " [40, 25],\n",
              " [17, 51, 57],\n",
              " [59, 69, 23],\n",
              " [32],\n",
              " [],\n",
              " [20],\n",
              " [34],\n",
              " [3],\n",
              " [48, 1],\n",
              " [62],\n",
              " [92, 7],\n",
              " [78, 46, 95],\n",
              " [81, 3],\n",
              " [32],\n",
              " [74],\n",
              " [96, 59],\n",
              " [34],\n",
              " [],\n",
              " [88, 71],\n",
              " [4, 84],\n",
              " [17, 27],\n",
              " [72],\n",
              " [32],\n",
              " [14],\n",
              " [8, 79],\n",
              " [16, 12],\n",
              " [37],\n",
              " [12],\n",
              " [78],\n",
              " [9],\n",
              " [1, 41],\n",
              " [37],\n",
              " [70],\n",
              " [0],\n",
              " [43],\n",
              " [26, 71],\n",
              " [75],\n",
              " [46],\n",
              " [25],\n",
              " [5]]"
            ]
          },
          "metadata": {},
          "execution_count": 62
        }
      ],
      "source": [
        "g2.VnV[:100]"
      ]
    },
    {
      "cell_type": "markdown",
      "metadata": {
        "id": "M8c0Tcs0gXi0"
      },
      "source": [
        "## find components of train data (g2)"
      ]
    },
    {
      "cell_type": "code",
      "execution_count": 63,
      "metadata": {
        "id": "Sr4FPDDGddE0"
      },
      "outputs": [],
      "source": [
        "class CGraph:\n",
        "\n",
        "\t# init function to declare class variables\n",
        "\tdef __init__(self, V):\n",
        "\t\tself.V = V\n",
        "\t\tself.adj = [[] for i in range(V)]\n",
        "\n",
        "\tdef DFSUtil(self, temp, v, visited):\n",
        "\n",
        "\t\t# Mark the current vertex as visited\n",
        "\t\tvisited[v] = True\n",
        "\n",
        "\t\t# Store the vertex to list\n",
        "\t\ttemp.append(v)\n",
        "\n",
        "\t\t# Repeat for all vertices adjacent\n",
        "\t\t# to this vertex v\n",
        "\t\tfor i in self.adj[v]:\n",
        "\t\t\tif visited[i] == False:\n",
        "\n",
        "\t\t\t\t# Update the list\n",
        "\t\t\t\ttemp = self.DFSUtil(temp, i, visited)\n",
        "\t\treturn temp\n",
        "\n",
        "\t# method to add an undirected edge\n",
        "\tdef addEdge(self, v, w):\n",
        "\t\tself.adj[v].append(w)\n",
        "\t\tself.adj[w].append(v)\n",
        "\n",
        "\t# Method to retrieve connected components\n",
        "\t# in an undirected graph\n",
        "\tdef connectedComponents(self):\n",
        "\t\tvisited = []\n",
        "\t\tcc = []\n",
        "\t\tfor i in range(self.V):\n",
        "\t\t\tvisited.append(False)\n",
        "\t\tfor v in range(self.V):\n",
        "\t\t\tif visited[v] == False:\n",
        "\t\t\t\ttemp = []\n",
        "\t\t\t\tcc.append(self.DFSUtil(temp, v, visited))\n",
        "\t\treturn cc"
      ]
    },
    {
      "cell_type": "code",
      "execution_count": 64,
      "metadata": {
        "colab": {
          "base_uri": "https://localhost:8080/"
        },
        "id": "GettNZ_ygW0O",
        "outputId": "37e89403-a254-4f54-c042-e3a474fb749c"
      },
      "outputs": [
        {
          "output_type": "stream",
          "name": "stderr",
          "text": [
            "100%|██████████| 17085/17085 [00:02<00:00, 7996.81it/s]\n"
          ]
        }
      ],
      "source": [
        "# Driver Code\n",
        "cg = CGraph(g2.nV)\n",
        "\n",
        "for i in tqdm(range(len(train[0]))):\n",
        "    cg.addEdge(train[0][i],train[1][i])\n",
        "\n",
        "cc = cg.connectedComponents()\n"
      ]
    },
    {
      "cell_type": "code",
      "execution_count": 65,
      "metadata": {
        "colab": {
          "base_uri": "https://localhost:8080/"
        },
        "id": "FBlDwr9TgW52",
        "outputId": "ae24b8c8-49ab-40b6-a443-5878cfb9772a"
      },
      "outputs": [
        {
          "output_type": "stream",
          "name": "stdout",
          "text": [
            "# of components:  629\n"
          ]
        }
      ],
      "source": [
        "print(\"# of components: \",len(cc))\n",
        "\n",
        "temp = []\n",
        "\n",
        "for i in range(len(cc)):\n",
        "    # print(i,\"--> \",len(cc[i]))\n",
        "    temp.append(len(cc[i]))\n"
      ]
    },
    {
      "cell_type": "code",
      "execution_count": 66,
      "metadata": {
        "id": "U1MGYke0gW8m"
      },
      "outputs": [],
      "source": [
        "import matplotlib.pyplot as plt"
      ]
    },
    {
      "cell_type": "code",
      "execution_count": 67,
      "metadata": {
        "colab": {
          "base_uri": "https://localhost:8080/",
          "height": 0
        },
        "id": "c0yr0W4egW_K",
        "outputId": "247459ab-2fab-4b52-d9d2-bc3a517434aa"
      },
      "outputs": [
        {
          "output_type": "display_data",
          "data": {
            "text/plain": [
              "<Figure size 432x288 with 1 Axes>"
            ],
            "image/png": "[encoded data removed]"
          },
          "metadata": {
            "needs_background": "light"
          }
        },
        {
          "output_type": "display_data",
          "data": {
            "text/plain": [
              "<Figure size 432x288 with 1 Axes>"
            ],
            "image/png": "[encoded data removed]"
          },
          "metadata": {
            "needs_background": "light"
          }
        }
      ],
      "source": [
        "h = np.zeros(100)\n",
        "for i in temp:\n",
        "    try:\n",
        "        h[i]+=1\n",
        "    except:\n",
        "        pass\n",
        "        \n",
        "ii = 0 \n",
        "for i in h:\n",
        "    ii += 1\n",
        "    plt.bar(ii,i)\n",
        "plt.show()\n",
        "\n",
        "ii = 2 \n",
        "for i in h[2:]:\n",
        "    ii += 1\n",
        "    plt.bar(ii,i)\n",
        "plt.show()"
      ]
    },
    {
      "cell_type": "code",
      "execution_count": 68,
      "metadata": {
        "id": "OA425_EnddHe"
      },
      "outputs": [],
      "source": [
        "g2.cc = cc"
      ]
    },
    {
      "cell_type": "markdown",
      "metadata": {
        "id": "7uCNI7yycsDu"
      },
      "source": [
        "*********************************/////////////////==================================================///////////////////********************************"
      ]
    },
    {
      "cell_type": "code",
      "execution_count": 69,
      "metadata": {
        "id": "mH0G23IDouok"
      },
      "outputs": [],
      "source": [
        "etrain = g.create_embedding_based_on_input(train)\n",
        "# etest = g.create_embedding_based_on_input(test)"
      ]
    },
    {
      "cell_type": "markdown",
      "metadata": {
        "id": "vyiOlYznr5j9"
      },
      "source": [
        "now we have:\n",
        "\n",
        "* train: edges\n",
        "* test: edges\n",
        "* etrain: matrix"
      ]
    },
    {
      "cell_type": "markdown",
      "metadata": {
        "id": "znLYeT1zsRW1"
      },
      "source": [
        "# function for cf and etc."
      ]
    },
    {
      "cell_type": "code",
      "execution_count": 70,
      "metadata": {
        "id": "rvbUgbgtsZkq"
      },
      "outputs": [],
      "source": [
        "def edge_convertor(edges):\n",
        "    temp = []\n",
        "    for i in range(len(edges[0])):\n",
        "        temp.append([edges[0][i],edges[1][i]])\n",
        "    return temp"
      ]
    },
    {
      "cell_type": "code",
      "execution_count": 71,
      "metadata": {
        "id": "6lHfY9vusVF8"
      },
      "outputs": [],
      "source": [
        "def negative_sampler(n1,edges,nodes):\n",
        "    \n",
        "    n2 = random.choice(nodes)\n",
        "    while [n1,n2] in edges:\n",
        "           \n",
        "        n2 = random.choice(nodes)\n",
        "    return [n1,n2]"
      ]
    },
    {
      "cell_type": "code",
      "execution_count": 113,
      "metadata": {
        "id": "CZoI0yOStPQc"
      },
      "outputs": [],
      "source": [
        "def euclidean_distance(x,y):\n",
        "    if sum(abs(x))==0 or sum(abs(y))==0:\n",
        "        return 10\n",
        "    return sum((x-y)**2)**0.5/(sum(abs(x))*sum(abs(y)))"
      ]
    },
    {
      "cell_type": "code",
      "execution_count": 73,
      "metadata": {
        "id": "LhsP1aNLvnCM"
      },
      "outputs": [],
      "source": [
        "def distance_ranker(item,l):\n",
        "    s = 1\n",
        "    for i in l:\n",
        "        if item>i:\n",
        "            s+=1 \n",
        "    return s"
      ]
    },
    {
      "cell_type": "code",
      "execution_count": 74,
      "metadata": {
        "id": "aBvAVM-lwAap"
      },
      "outputs": [],
      "source": [
        "raw_train,raw_test = train[:],test[:]  "
      ]
    },
    {
      "cell_type": "markdown",
      "metadata": {
        "id": "VeIv7wtcsNiT"
      },
      "source": [
        "#model 1: simple Cf"
      ]
    },
    {
      "cell_type": "markdown",
      "metadata": {
        "id": "1r-SVrk_xtY5"
      },
      "source": [
        "next phases\n",
        "* test light_GCN\n",
        "* test light_GCN with leakage\n",
        "* test GCN\n",
        "* test GCN with leakage"
      ]
    },
    {
      "cell_type": "markdown",
      "metadata": {
        "id": "PufJ-Bia1LOe"
      },
      "source": [
        "# *light_GCN*"
      ]
    },
    {
      "cell_type": "code",
      "execution_count": 75,
      "metadata": {
        "colab": {
          "base_uri": "https://localhost:8080/"
        },
        "id": "wo4a1R3M3P_n",
        "outputId": "9d91cb1f-65c9-453b-ce5c-77a7d26ad2c2"
      },
      "outputs": [
        {
          "output_type": "execute_result",
          "data": {
            "text/plain": [
              "(10000, 10000)"
            ]
          },
          "metadata": {},
          "execution_count": 75
        }
      ],
      "source": [
        "etrain.shape"
      ]
    },
    {
      "cell_type": "code",
      "execution_count": 76,
      "metadata": {
        "id": "g2UJ-Ors1KxP"
      },
      "outputs": [],
      "source": [
        "class LGCN:\n",
        "    def __init__(self):\n",
        "        pass\n",
        "\n",
        "    @staticmethod\n",
        "    def do(inmatrix,VE):\n",
        "        outmatrix = np.zeros((inmatrix.shape))\n",
        "        for i, v in enumerate(VE):\n",
        "            siz = len(v)\n",
        "            for j in v:\n",
        "                outmatrix[i]+=inmatrix[j]\n",
        "            outmatrix[i]/=siz\n",
        "        return outmatrix"
      ]
    },
    {
      "cell_type": "code",
      "execution_count": 77,
      "metadata": {
        "colab": {
          "base_uri": "https://localhost:8080/"
        },
        "id": "q69wVnDIvK3q",
        "outputId": "3cd412af-229c-41a4-cc8c-ed710d384059"
      },
      "outputs": [
        {
          "output_type": "stream",
          "name": "stderr",
          "text": [
            "\r  0%|          | 0/100 [00:00<?, ?it/s]/usr/local/lib/python3.7/dist-packages/ipykernel_launcher.py:12: RuntimeWarning: invalid value encountered in true_divide\n",
            "  if sys.path[0] == '':\n",
            "100%|██████████| 100/100 [00:52<00:00,  1.92it/s]\n"
          ]
        }
      ],
      "source": [
        "etrain_lgcn = np.copy(etrain)\n",
        "for i in tqdm(range(epoch)):\n",
        "    etrain_lgcn = LGCN.do(etrain_lgcn,g.VnV)"
      ]
    },
    {
      "cell_type": "markdown",
      "metadata": {
        "id": "h9nZoekQ48O-"
      },
      "source": [
        "# light_GCN with leakage"
      ]
    },
    {
      "cell_type": "code",
      "execution_count": 78,
      "metadata": {
        "id": "HO3h8pMtvWt5"
      },
      "outputs": [],
      "source": [
        "class LGCNwL:\n",
        "    def __init__(self):\n",
        "        pass\n",
        "    @staticmethod\n",
        "    def new_neg_vic(inmatrix,VE,leakageratio,lambdaa,cc):\n",
        "        for c1 in cc:\n",
        "             if leakageratio>random.random():\n",
        "                c2 = random.choice(cc)\n",
        "                while c2 != c1:\n",
        "                    c2 = random.choice(cc)\n",
        "                    \n",
        "                v1 = random.choice(c1)\n",
        "                v2 = random.choice(c2)\n",
        "                temp = inmatrix[v1][:]\n",
        "                inmatrix[v1] -= lambdaa*inmatrix[v2]\n",
        "                inmatrix[v2] -= lambdaa*temp\n",
        "        \n",
        "        return inmatrix\n",
        "\n",
        "    @staticmethod\n",
        "    def do(inmatrix,VE,cc,leakageratio=0.3,lambdaa=0.1):\n",
        "        outmatrix = np.zeros((inmatrix.shape))\n",
        "        inmatrix2 = LGCNwL.new_neg_vic(np.copy(inmatrix),VE,leakageratio,lambdaa,cc)\n",
        "      \n",
        "        for i, v in enumerate(VE):\n",
        "            siz = len(v)\n",
        "            for j in v:\n",
        "                outmatrix[i]+=inmatrix2[j]\n",
        "            outmatrix[i]/=siz\n",
        "        return outmatrix"
      ]
    },
    {
      "cell_type": "code",
      "execution_count": 79,
      "metadata": {
        "colab": {
          "base_uri": "https://localhost:8080/"
        },
        "id": "_p-rt5OuvXqi",
        "outputId": "69156a40-5ef9-4494-890e-ff15914456aa"
      },
      "outputs": [
        {
          "output_type": "stream",
          "name": "stderr",
          "text": [
            "  0%|          | 0/100 [00:00<?, ?it/s]/usr/local/lib/python3.7/dist-packages/ipykernel_launcher.py:29: RuntimeWarning: invalid value encountered in true_divide\n",
            "100%|██████████| 100/100 [01:22<00:00,  1.21it/s]\n"
          ]
        }
      ],
      "source": [
        "etrain_lgcnwl = np.copy(etrain)\n",
        "for i in tqdm(range(epoch)):\n",
        "    etrain_lgcnwl = LGCNwL.do(etrain_lgcnwl,g2.VnV,g2.cc,leakageratio=0.3,lambdaa=0.1)"
      ]
    },
    {
      "cell_type": "markdown",
      "metadata": {
        "id": "PQvmKp8rAbyH"
      },
      "source": [
        "LGCNwL type 2"
      ]
    },
    {
      "cell_type": "code",
      "execution_count": 80,
      "metadata": {
        "id": "VxHahMjJ-Mb1"
      },
      "outputs": [],
      "source": [
        "class LGCNwL2:\n",
        "    def __init__(self):\n",
        "        pass\n",
        "    @staticmethod\n",
        "    def new_neg_vic(inmatrix,VE,leakageratio,lambdaa,cc):\n",
        "        for c1 in range(len(cc)):\n",
        "             if leakageratio>random.random():\n",
        "                c2 = random.randint(len(cc))\n",
        "                while c2 != c1:\n",
        "                    c2 = random.randint(len(cc))\n",
        "                    \n",
        "                v1 = cc(c1)\n",
        "                v2 = cc(c2)\n",
        "                vv1 = random.choice(v1)\n",
        "                vv2 = random.choice(v2)\n",
        "                temp = inmatrix[vv1]\n",
        "                temp2 = lambdaa*inmatrix[vv2]\n",
        "                for v in v1:\n",
        "                    inmatrix[v] -= lambdaa*temp2\n",
        "                for v in v2:\n",
        "                    inmatrix[v] -= lambdaa*temp\n",
        "        \n",
        "        return inmatrix\n",
        "\n",
        "    @staticmethod\n",
        "    def do(inmatrix,VE,cc,leakageratio=0.3,lambdaa=0.1):\n",
        "        outmatrix = np.zeros((inmatrix.shape))\n",
        "        inmatrix2 = LGCNwL.new_neg_vic(np.copy(inmatrix),VE,leakageratio,lambdaa,cc)\n",
        "      \n",
        "        for i, v in enumerate(VE):\n",
        "            siz = len(v)\n",
        "            for j in v:\n",
        "                outmatrix[i]+=inmatrix2[j]\n",
        "            outmatrix[i]/=siz\n",
        "        return outmatrix"
      ]
    },
    {
      "cell_type": "code",
      "execution_count": 81,
      "metadata": {
        "colab": {
          "base_uri": "https://localhost:8080/"
        },
        "id": "tGZY1NpZBgJm",
        "outputId": "b43e5c0a-9288-43c6-cbed-2f4bb7ffb85d"
      },
      "outputs": [
        {
          "output_type": "stream",
          "name": "stderr",
          "text": [
            "  0%|          | 0/100 [00:00<?, ?it/s]/usr/local/lib/python3.7/dist-packages/ipykernel_launcher.py:34: RuntimeWarning: invalid value encountered in true_divide\n",
            "100%|██████████| 100/100 [01:17<00:00,  1.29it/s]\n"
          ]
        }
      ],
      "source": [
        "etrain_lgcnwL2 = np.copy(etrain)\n",
        "for i in tqdm(range(epoch)):\n",
        "    etrain_lgcnwL2 = LGCNwL2.do(etrain_lgcnwL2,g2.VnV,g2.cc,leakageratio=0.3,lambdaa=0.1)"
      ]
    },
    {
      "cell_type": "markdown",
      "source": [
        "#test phase"
      ],
      "metadata": {
        "id": "zKR2Fyxtmesf"
      }
    },
    {
      "cell_type": "markdown",
      "source": [
        "##test1"
      ],
      "metadata": {
        "id": "hKA1wdsdw8ac"
      }
    },
    {
      "cell_type": "code",
      "source": [
        "def negative_sampler(n1,edges,nodes):\n",
        "    n2 = random.choice(nodes)\n",
        "    while [n1,n2] in edges:  \n",
        "        n2 = random.choice(nodes)\n",
        "    return [n1,n2]"
      ],
      "metadata": {
        "id": "dsQGSX6VyYn8"
      },
      "execution_count": 82,
      "outputs": []
    },
    {
      "cell_type": "code",
      "source": [
        "def distance_ranker(item,l):\n",
        "    s = 1\n",
        "    for i in l:\n",
        "        if item>=i:\n",
        "            s+=1 \n",
        "    return s"
      ],
      "metadata": {
        "id": "5RIoViBGjjwG"
      },
      "execution_count": 83,
      "outputs": []
    },
    {
      "cell_type": "code",
      "execution_count": 120,
      "metadata": {
        "id": "TIYo4aVprz0U"
      },
      "outputs": [],
      "source": [
        "def acc_test(raw_train,raw_test,g,g2,etrain):\n",
        "    print(\"top1,top3,avg\")\n",
        "    test = edge_convertor(raw_test)\n",
        "    train = edge_convertor(raw_train)\n",
        "    tt = test+train\n",
        "    nodes = g.V\n",
        "    top1 = 0\n",
        "    top3 = 0\n",
        "    avg = 0\n",
        "    counter_=0\n",
        "    for sample in tqdm(train[::100]):\n",
        "        pos = sample\n",
        "        negs = []\n",
        "        for i in range(100):\n",
        "            neg = negative_sampler(pos[0],tt,nodes)\n",
        "            negs.append(neg)\n",
        "        dp = euclidean_distance(etrain[pos[0]],etrain[pos[1]])\n",
        "        dn = [euclidean_distance(etrain[neg[0]],etrain[neg[1]]) for neg in negs]\n",
        "\n",
        "        r = distance_ranker(dp,dn)\n",
        "        if r<2:\n",
        "            top1+=1\n",
        "        if r<4:\n",
        "            top3+=1\n",
        "        avg+=r\n",
        "        counter_+=1\n",
        "\n",
        "    print('\\ntrain:\\n',int(100*top1/len(train[::100])),int(100*top3/len(train[::100])),round(avg/counter_,3))\n",
        "\n",
        "    top1 = 0\n",
        "    top3 = 0\n",
        "    avg = 0\n",
        "    counter_=0\n",
        "    for sample in tqdm(test[::5]):\n",
        "        pos = sample\n",
        "        negs = []\n",
        "        for i in range(100):\n",
        "            neg = negative_sampler(pos[0],tt,nodes)\n",
        "            negs.append(neg)\n",
        "        dp = euclidean_distance(etrain[pos[0]],etrain[pos[1]])\n",
        "        dn = [euclidean_distance(etrain[neg[0]],etrain[neg[1]]) for neg in negs]\n",
        "\n",
        "        r = distance_ranker(dp,dn)\n",
        "        if r<2:\n",
        "            top1+=1\n",
        "        if r<4:\n",
        "            top3+=1\n",
        "        avg+=r\n",
        "        counter_+=1\n",
        "\n",
        "    print('\\ntest:\\n',int(100*top1/len(test[::5])),int(100*top3/len(test[::5])),round(avg/counter_,3))"
      ]
    },
    {
      "cell_type": "code",
      "execution_count": 121,
      "metadata": {
        "colab": {
          "base_uri": "https://localhost:8080/"
        },
        "id": "upSYd4gWB0yd",
        "outputId": "c55ea66d-904c-4fba-fd31-b990f0b2f74d"
      },
      "outputs": [
        {
          "output_type": "execute_result",
          "data": {
            "text/plain": [
              "(10000, 21364, 2.1364)"
            ]
          },
          "metadata": {},
          "execution_count": 121
        }
      ],
      "source": [
        "len(g.V),len(g.edge_index()[0]),len(g.edge_index()[0])/len(g.V)"
      ]
    },
    {
      "cell_type": "code",
      "execution_count": 122,
      "metadata": {
        "colab": {
          "base_uri": "https://localhost:8080/"
        },
        "id": "xi5zG7_IPfCI",
        "outputId": "85a85b52-ff3b-4a69-a686-0491394f0620"
      },
      "outputs": [
        {
          "output_type": "execute_result",
          "data": {
            "text/plain": [
              "(2, 1, 2)"
            ]
          },
          "metadata": {},
          "execution_count": 122
        }
      ],
      "source": [
        "len(train),len(train[::10]),len(test)"
      ]
    },
    {
      "cell_type": "code",
      "source": [
        "test"
      ],
      "metadata": {
        "colab": {
          "base_uri": "https://localhost:8080/"
        },
        "id": "RPsamnzAkRt1",
        "outputId": "22f73a2c-8944-4010-f9b0-e40de3ff6f7b"
      },
      "execution_count": 123,
      "outputs": [
        {
          "output_type": "execute_result",
          "data": {
            "text/plain": [
              "array([[   0,    1,    3, ..., 9993, 9997, 9999],\n",
              "       [  28,    0,   18, ..., 9907, 9991, 9913]])"
            ]
          },
          "metadata": {},
          "execution_count": 123
        }
      ]
    },
    {
      "cell_type": "code",
      "execution_count": 125,
      "metadata": {
        "colab": {
          "base_uri": "https://localhost:8080/"
        },
        "id": "kDVZDaaMPnqJ",
        "outputId": "4d81b704-ef8f-4e4b-944f-7167091b9939"
      },
      "outputs": [
        {
          "output_type": "stream",
          "name": "stdout",
          "text": [
            "cf:\n",
            "top1,top3,avg\n"
          ]
        },
        {
          "output_type": "stream",
          "name": "stderr",
          "text": [
            "100%|██████████| 171/171 [01:15<00:00,  2.26it/s]\n"
          ]
        },
        {
          "output_type": "stream",
          "name": "stdout",
          "text": [
            "\n",
            "train:\n",
            " 4 9 43.69\n"
          ]
        },
        {
          "output_type": "stream",
          "name": "stderr",
          "text": [
            "100%|██████████| 856/856 [05:15<00:00,  2.71it/s]\n"
          ]
        },
        {
          "output_type": "stream",
          "name": "stdout",
          "text": [
            "\n",
            "test:\n",
            " 3 5 63.447\n",
            "LGCN:\n",
            "top1,top3,avg\n"
          ]
        },
        {
          "output_type": "stream",
          "name": "stderr",
          "text": [
            "100%|██████████| 171/171 [01:19<00:00,  2.15it/s]\n"
          ]
        },
        {
          "output_type": "stream",
          "name": "stdout",
          "text": [
            "\n",
            "train:\n",
            " 66 97 2.129\n"
          ]
        },
        {
          "output_type": "stream",
          "name": "stderr",
          "text": [
            "100%|██████████| 856/856 [06:43<00:00,  2.12it/s]"
          ]
        },
        {
          "output_type": "stream",
          "name": "stdout",
          "text": [
            "\n",
            "test:\n",
            " 68 97 2.214\n"
          ]
        },
        {
          "output_type": "stream",
          "name": "stderr",
          "text": [
            "\n"
          ]
        }
      ],
      "source": [
        "print(\"cf:\")\n",
        "acc_test(raw_train,raw_test,g,g2,etrain)\n",
        "print(\"LGCN:\")\n",
        "acc_test(raw_train,raw_test,g,g2,etrain_lgcn)"
      ]
    },
    {
      "cell_type": "code",
      "source": [
        "print(\"LGCNwL:\")\n",
        "acc_test(raw_train,raw_test,g,g2,etrain_lgcnwl)\n",
        "print(\"LGCNwL2:\")\n",
        "acc_test(raw_train,raw_test,g,g2,etrain_lgcnwL2)"
      ],
      "metadata": {
        "colab": {
          "base_uri": "https://localhost:8080/"
        },
        "id": "timR9zz1m62e",
        "outputId": "f4fe3c7c-a1c3-4d68-f8ad-16d8c4fbf0f5"
      },
      "execution_count": 126,
      "outputs": [
        {
          "output_type": "stream",
          "name": "stdout",
          "text": [
            "LGCNwL:\n",
            "top1,top3,avg\n"
          ]
        },
        {
          "output_type": "stream",
          "name": "stderr",
          "text": [
            "100%|██████████| 171/171 [01:21<00:00,  2.11it/s]\n"
          ]
        },
        {
          "output_type": "stream",
          "name": "stdout",
          "text": [
            "\n",
            "train:\n",
            " 61 91 5.906\n"
          ]
        },
        {
          "output_type": "stream",
          "name": "stderr",
          "text": [
            "100%|██████████| 856/856 [06:49<00:00,  2.09it/s]\n"
          ]
        },
        {
          "output_type": "stream",
          "name": "stdout",
          "text": [
            "\n",
            "test:\n",
            " 62 88 8.444\n",
            "LGCNwL2:\n",
            "top1,top3,avg\n"
          ]
        },
        {
          "output_type": "stream",
          "name": "stderr",
          "text": [
            "100%|██████████| 171/171 [01:22<00:00,  2.07it/s]\n"
          ]
        },
        {
          "output_type": "stream",
          "name": "stdout",
          "text": [
            "\n",
            "train:\n",
            " 67 90 6.029\n"
          ]
        },
        {
          "output_type": "stream",
          "name": "stderr",
          "text": [
            "100%|██████████| 856/856 [06:46<00:00,  2.11it/s]"
          ]
        },
        {
          "output_type": "stream",
          "name": "stdout",
          "text": [
            "\n",
            "test:\n",
            " 63 88 8.564\n"
          ]
        },
        {
          "output_type": "stream",
          "name": "stderr",
          "text": [
            "\n"
          ]
        }
      ]
    },
    {
      "cell_type": "code",
      "source": [
        "len(g.cc),len(g2.cc)"
      ],
      "metadata": {
        "colab": {
          "base_uri": "https://localhost:8080/"
        },
        "id": "nYPMiRjSxiN1",
        "outputId": "10066938-ae44-48e5-bbc6-277381ecaef7"
      },
      "execution_count": 127,
      "outputs": [
        {
          "output_type": "execute_result",
          "data": {
            "text/plain": [
              "(100, 629)"
            ]
          },
          "metadata": {},
          "execution_count": 127
        }
      ]
    },
    {
      "cell_type": "markdown",
      "source": [
        "avg degree: 3.098\n",
        "\n",
        "train/test: 80%, 20%\n",
        "\n",
        "\\# nodes: 10000\n",
        "\n",
        "\\# components: 100\n",
        "\n",
        "\\# train components: 599\n",
        "\n",
        "\\# negative samples: 10\n",
        "\n",
        "with self loop\n",
        "\n",
        "---\n",
        "\n",
        "\n",
        "\n",
        "\n",
        "*top1,top3,avg*\n",
        "\n",
        "**cf:**\n",
        "* train:\n",
        " 69 83 2.125\n",
        "* test::\n",
        " 57 74 2.961\n",
        "\n",
        "**LGCN:**\n",
        "* train:\n",
        " 99 100 1.002\n",
        "* test::\n",
        " 99 100 1.001\n",
        "\n",
        "**LGCNwL:**\n",
        "* train:\n",
        " 99 100 1.002\n",
        "* test:\n",
        " 92 93 1.818\n",
        "\n",
        "**LGCNwL2:**\n",
        "* train:\n",
        " 99 100 1.001\n",
        "* test:\n",
        " 92 93 1.819\n",
        "\n",
        " ---\n",
        " ---"
      ],
      "metadata": {
        "id": "cMb6OOWiwBDt"
      }
    },
    {
      "cell_type": "markdown",
      "source": [
        "avg degree: 3.098\n",
        "\n",
        "train/test: 80%, 20%\n",
        "\n",
        "\\# nodes: 10000\n",
        "\n",
        "\\# connected components: 100\n",
        "\n",
        "\\# train connected components: 599\n",
        "\n",
        "\\# negative samples: 100\n",
        "\n",
        "with self loop\n",
        "\n",
        "---\n",
        "\n",
        "\n",
        "\n",
        "\n",
        "*top1,top3,avg*\n",
        "\n",
        "**cf:**\n",
        "* train:\n",
        "  51 60 11.923\n",
        "* test::\n",
        " 89 92 6.703\n",
        "\n",
        "**LGCN:**\n",
        "* train:\n",
        " 98 100 1.012\n",
        "* test::\n",
        " 99 100 1.01\n",
        "\n",
        "**LGCNwL:**\n",
        "* train:\n",
        " 98 100 1.016\n",
        "* test:\n",
        " 89 92 6.703\n",
        " \n",
        "**LGCNwL2:**\n",
        "* train:\n",
        " 99 100 1.008\n",
        "* test:\n",
        " 88 92 6.729\n",
        "\n",
        " ---\n",
        " ---"
      ],
      "metadata": {
        "id": "BDQPvTYwy9su"
      }
    },
    {
      "cell_type": "markdown",
      "source": [
        "avg degree: 3.098\n",
        "\n",
        "train/test: 80%, 20%\n",
        "\n",
        "\\# nodes: 10000\n",
        "\n",
        "\\# connected components: 100\n",
        "\n",
        "\\# train connected components: 599\n",
        "\n",
        "\\# negative samples: 100\n",
        "\n",
        "without self loop\n",
        "\n",
        "---\n",
        "*top1,top3,avg*\n",
        "\n",
        "**cf:**\n",
        "* train:\n",
        "   4 10 43.573\n",
        "* test::\n",
        " 4 6 59.416\n",
        "\n",
        "**LGCN:**\n",
        "* train:\n",
        " 71 97 2.14\n",
        "* test::\n",
        " 71 97 1.71\n",
        "\n",
        "**LGCNwL:**\n",
        "* train:\n",
        " 61 92 5.936\n",
        "* test:\n",
        " 65 88 8.355\n",
        " \n",
        "**LGCNwL2:**\n",
        "* train:\n",
        " 67 91 5.959\n",
        "* test:\n",
        " 62 88 8.526\n",
        "\n",
        " ---\n",
        " ---"
      ],
      "metadata": {
        "id": "zHt0lpwEorsk"
      }
    },
    {
      "cell_type": "markdown",
      "source": [
        "##test2"
      ],
      "metadata": {
        "id": "Zdfoj4Wjw5Id"
      }
    },
    {
      "cell_type": "code",
      "source": [
        "def sim_test(raw_train,raw_test,g,g2,etrain):\n",
        "    print(\"p_s_avg,n_s_avg\")\n",
        "    test = edge_convertor(raw_test)\n",
        "    train = edge_convertor(raw_train)\n",
        "    tt = test+train\n",
        "    nodes = g.V\n",
        "    \n",
        "    psim = 0\n",
        "    nsim = 0\n",
        "    pc = len(train[::100])\n",
        "    nc = len(train[::100])\n",
        "    \n",
        "    for sample in tqdm(train[::100]):\n",
        "        pos = sample\n",
        "        negs = []\n",
        "        for i in range(100):\n",
        "            neg = negative_sampler(pos[0],tt,nodes)\n",
        "            negs.append(neg)\n",
        "        dp = euclidean_distance(etrain[pos[0]],etrain[pos[1]])\n",
        "        dn = [euclidean_distance(etrain[neg[0]],etrain[neg[1]]) for neg in negs]\n",
        "        \n",
        "        psim += dp\n",
        "        temp  = 0\n",
        "        for ddnn in dn:\n",
        "            temp+=min(10,ddnn)\n",
        "\n",
        "        nsim += round(temp/len(dn),2)\n",
        "\n",
        "    print('\\ntrain p, n:\\n',round(psim/nc,2),round(nsim/nc,2))\n",
        "    \n",
        "   \n",
        "    psim = 0\n",
        "    nsim = 0\n",
        "    pc = len(test[::5])\n",
        "    nc = len(test[::5])\n",
        "    \n",
        "    for sample in tqdm(test[::5]):\n",
        "        pos = sample\n",
        "        negs = []\n",
        "        for i in range(100):\n",
        "            neg = negative_sampler(pos[0],tt,nodes)\n",
        "            negs.append(neg)\n",
        "        dp = euclidean_distance(etrain[pos[0]],etrain[pos[1]])\n",
        "        dn = [euclidean_distance(etrain[neg[0]],etrain[neg[1]]) for neg in negs]\n",
        "       \n",
        "        psim += dp\n",
        "        temp  = 0\n",
        "        for ddnn in dn:\n",
        "            temp+=min(10,ddnn)\n",
        "        nsim += temp/(len(dn))    \n",
        "    \n",
        "\n",
        "    print('\\ntest:\\n',round(psim/nc,2),round(nsim/nc,2))\n",
        "  "
      ],
      "metadata": {
        "id": "VeYPf47Zsl4G"
      },
      "execution_count": 128,
      "outputs": []
    },
    {
      "cell_type": "code",
      "source": [
        "print(\"cf:\")\n",
        "sim_test(raw_train,raw_test,g,g2,etrain)\n",
        "print(\"LGCN:\")\n",
        "sim_test(raw_train,raw_test,g,g2,etrain_lgcn)\n",
        "\n",
        "print(\"LGCNwL:\")\n",
        "sim_test(raw_train,raw_test,g,g2,etrain_lgcnwl)\n",
        "print(\"LGCNwL2:\")\n",
        "sim_test(raw_train,raw_test,g,g2,etrain_lgcnwL2)\n"
      ],
      "metadata": {
        "colab": {
          "base_uri": "https://localhost:8080/"
        },
        "id": "xKPTOBxF-QUy",
        "outputId": "e4335cdf-3df6-4c42-e09b-c2249fa1db3c"
      },
      "execution_count": 129,
      "outputs": [
        {
          "output_type": "stream",
          "name": "stdout",
          "text": [
            "cf:\n",
            "p_s_avg,n_s_avg\n"
          ]
        },
        {
          "output_type": "stream",
          "name": "stderr",
          "text": [
            "100%|██████████| 171/171 [01:17<00:00,  2.21it/s]\n"
          ]
        },
        {
          "output_type": "stream",
          "name": "stdout",
          "text": [
            "\n",
            "train p, n:\n",
            " 1.11 1.63\n"
          ]
        },
        {
          "output_type": "stream",
          "name": "stderr",
          "text": [
            "100%|██████████| 856/856 [05:20<00:00,  2.67it/s]\n"
          ]
        },
        {
          "output_type": "stream",
          "name": "stdout",
          "text": [
            "\n",
            "test:\n",
            " 3.37 3.76\n",
            "LGCN:\n",
            "p_s_avg,n_s_avg\n"
          ]
        },
        {
          "output_type": "stream",
          "name": "stderr",
          "text": [
            "100%|██████████| 171/171 [01:20<00:00,  2.11it/s]\n"
          ]
        },
        {
          "output_type": "stream",
          "name": "stdout",
          "text": [
            "\n",
            "train p, n:\n",
            " 0.02 0.21\n"
          ]
        },
        {
          "output_type": "stream",
          "name": "stderr",
          "text": [
            "100%|██████████| 856/856 [06:40<00:00,  2.14it/s]\n"
          ]
        },
        {
          "output_type": "stream",
          "name": "stdout",
          "text": [
            "\n",
            "test:\n",
            " 0.07 0.26\n",
            "LGCNwL:\n",
            "p_s_avg,n_s_avg\n"
          ]
        },
        {
          "output_type": "stream",
          "name": "stderr",
          "text": [
            "100%|██████████| 171/171 [01:19<00:00,  2.15it/s]\n"
          ]
        },
        {
          "output_type": "stream",
          "name": "stdout",
          "text": [
            "\n",
            "train p, n:\n",
            " 0.05 0.47\n"
          ]
        },
        {
          "output_type": "stream",
          "name": "stderr",
          "text": [
            "100%|██████████| 856/856 [06:43<00:00,  2.12it/s]\n"
          ]
        },
        {
          "output_type": "stream",
          "name": "stdout",
          "text": [
            "\n",
            "test:\n",
            " nan 0.94\n",
            "LGCNwL2:\n",
            "p_s_avg,n_s_avg\n"
          ]
        },
        {
          "output_type": "stream",
          "name": "stderr",
          "text": [
            "100%|██████████| 171/171 [01:20<00:00,  2.13it/s]\n"
          ]
        },
        {
          "output_type": "stream",
          "name": "stdout",
          "text": [
            "\n",
            "train p, n:\n",
            " 0.04 0.48\n"
          ]
        },
        {
          "output_type": "stream",
          "name": "stderr",
          "text": [
            "100%|██████████| 856/856 [06:42<00:00,  2.13it/s]"
          ]
        },
        {
          "output_type": "stream",
          "name": "stdout",
          "text": [
            "\n",
            "test:\n",
            " nan 0.94\n"
          ]
        },
        {
          "output_type": "stream",
          "name": "stderr",
          "text": [
            "\n"
          ]
        }
      ]
    },
    {
      "cell_type": "code",
      "source": [],
      "metadata": {
        "id": "tZ3NvM7o-W2J"
      },
      "execution_count": 129,
      "outputs": []
    }
  ],
  "metadata": {
    "accelerator": "GPU",
    "colab": {
      "collapsed_sections": [
        "eJK09ggdcsLo",
        "M8c0Tcs0gXi0"
      ],
      "provenance": []
    },
    "gpuClass": "standard",
    "kernelspec": {
      "display_name": "Python 3",
      "name": "python3"
    },
    "language_info": {
      "name": "python"
    }
  },
  "nbformat": 4,
  "nbformat_minor": 0
}
