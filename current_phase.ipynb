{
  "nbformat": 4,
  "nbformat_minor": 0,
  "metadata": {
    "colab": {
      "provenance": [],
      "collapsed_sections": [],
      "include_colab_link": true
    },
    "kernelspec": {
      "name": "python3",
      "display_name": "Python 3"
    },
    "language_info": {
      "name": "python"
    },
    "accelerator": "GPU",
    "gpuClass": "standard"
  },
  "cells": [
    {
      "cell_type": "markdown",
      "metadata": {
        "id": "view-in-github",
        "colab_type": "text"
      },
      "source": [
        "<a href=\"https://colab.research.google.com/github/aSafarpoor/GNN-materials/blob/main/current_phase.ipynb\" target=\"_parent\"><img src=\"https://colab.research.google.com/assets/colab-badge.svg\" alt=\"Open In Colab\"/></a>"
      ]
    },
    {
      "cell_type": "markdown",
      "source": [
        "This notebook is mainly not mine but, I will add some parts to make it like a tutorial for myself, and then |I will change it to test my idea."
      ],
      "metadata": {
        "id": "kH6usRadDciG"
      }
    },
    {
      "cell_type": "markdown",
      "source": [
        "Based on: https://towardsdatascience.com/program-a-simple-graph-net-in-pytorch-e00b500a642d\n",
        "\n",
        "Source: https://github.com/praxidike97/GraphNeuralNet/blob/72c330bb6e64dd7dd6784b6e69a821149dc5d028/main.py#L114"
      ],
      "metadata": {
        "id": "EK9jTVUpQz7W"
      }
    },
    {
      "cell_type": "code",
      "source": [
        "# Add this in a Google Colab cell to install the correct version of Pytorch Geometric.\n",
        "import torch\n",
        "\n",
        "def format_pytorch_version(version):\n",
        "  return version.split('+')[0]\n",
        "\n",
        "TORCH_version = torch.__version__\n",
        "TORCH = format_pytorch_version(TORCH_version)\n",
        "\n",
        "def format_cuda_version(version):\n",
        "  return 'cu' + version.replace('.', '')\n",
        "\n",
        "CUDA_version = torch.version.cuda\n",
        "CUDA = format_cuda_version(CUDA_version)\n",
        "\n",
        "!pip install torch-scatter     -f https://pytorch-geometric.com/whl/torch-{TORCH}+{CUDA}.html\n",
        "!pip install torch-sparse      -f https://pytorch-geometric.com/whl/torch-{TORCH}+{CUDA}.html\n",
        "!pip install torch-cluster     -f https://pytorch-geometric.com/whl/torch-{TORCH}+{CUDA}.html\n",
        "!pip install torch-spline-conv -f https://pytorch-geometric.com/whl/torch-{TORCH}+{CUDA}.html\n",
        "!pip install torch-geometric "
      ],
      "metadata": {
        "colab": {
          "base_uri": "https://localhost:8080/"
        },
        "id": "reGnJdezSfWV",
        "outputId": "6fa84e5f-bee8-4f25-ecda-85ffb0a60df2"
      },
      "execution_count": 1,
      "outputs": [
        {
          "output_type": "stream",
          "name": "stdout",
          "text": [
            "Looking in indexes: https://pypi.org/simple, https://us-python.pkg.dev/colab-wheels/public/simple/\n",
            "Looking in links: https://pytorch-geometric.com/whl/torch-1.12.1+cu113.html\n",
            "Collecting torch-scatter\n",
            "  Downloading https://data.pyg.org/whl/torch-1.12.0%2Bcu113/torch_scatter-2.0.9-cp37-cp37m-linux_x86_64.whl (7.9 MB)\n",
            "\u001b[K     |████████████████████████████████| 7.9 MB 27.9 MB/s \n",
            "\u001b[?25hInstalling collected packages: torch-scatter\n",
            "Successfully installed torch-scatter-2.0.9\n",
            "Looking in indexes: https://pypi.org/simple, https://us-python.pkg.dev/colab-wheels/public/simple/\n",
            "Looking in links: https://pytorch-geometric.com/whl/torch-1.12.1+cu113.html\n",
            "Collecting torch-sparse\n",
            "  Downloading https://data.pyg.org/whl/torch-1.12.0%2Bcu113/torch_sparse-0.6.15-cp37-cp37m-linux_x86_64.whl (3.5 MB)\n",
            "\u001b[K     |████████████████████████████████| 3.5 MB 25.6 MB/s \n",
            "\u001b[?25hRequirement already satisfied: scipy in /usr/local/lib/python3.7/dist-packages (from torch-sparse) (1.7.3)\n",
            "Requirement already satisfied: numpy<1.23.0,>=1.16.5 in /usr/local/lib/python3.7/dist-packages (from scipy->torch-sparse) (1.21.6)\n",
            "Installing collected packages: torch-sparse\n",
            "Successfully installed torch-sparse-0.6.15\n",
            "Looking in indexes: https://pypi.org/simple, https://us-python.pkg.dev/colab-wheels/public/simple/\n",
            "Looking in links: https://pytorch-geometric.com/whl/torch-1.12.1+cu113.html\n",
            "Collecting torch-cluster\n",
            "  Downloading https://data.pyg.org/whl/torch-1.12.0%2Bcu113/torch_cluster-1.6.0-cp37-cp37m-linux_x86_64.whl (2.4 MB)\n",
            "\u001b[K     |████████████████████████████████| 2.4 MB 23.3 MB/s \n",
            "\u001b[?25hInstalling collected packages: torch-cluster\n",
            "Successfully installed torch-cluster-1.6.0\n",
            "Looking in indexes: https://pypi.org/simple, https://us-python.pkg.dev/colab-wheels/public/simple/\n",
            "Looking in links: https://pytorch-geometric.com/whl/torch-1.12.1+cu113.html\n",
            "Collecting torch-spline-conv\n",
            "  Downloading https://data.pyg.org/whl/torch-1.12.0%2Bcu113/torch_spline_conv-1.2.1-cp37-cp37m-linux_x86_64.whl (709 kB)\n",
            "\u001b[K     |████████████████████████████████| 709 kB 24.2 MB/s \n",
            "\u001b[?25hInstalling collected packages: torch-spline-conv\n",
            "Successfully installed torch-spline-conv-1.2.1\n",
            "Looking in indexes: https://pypi.org/simple, https://us-python.pkg.dev/colab-wheels/public/simple/\n",
            "Collecting torch-geometric\n",
            "  Downloading torch_geometric-2.1.0.post1.tar.gz (467 kB)\n",
            "\u001b[K     |████████████████████████████████| 467 kB 17.0 MB/s \n",
            "\u001b[?25hRequirement already satisfied: tqdm in /usr/local/lib/python3.7/dist-packages (from torch-geometric) (4.64.0)\n",
            "Requirement already satisfied: numpy in /usr/local/lib/python3.7/dist-packages (from torch-geometric) (1.21.6)\n",
            "Requirement already satisfied: scipy in /usr/local/lib/python3.7/dist-packages (from torch-geometric) (1.7.3)\n",
            "Requirement already satisfied: jinja2 in /usr/local/lib/python3.7/dist-packages (from torch-geometric) (2.11.3)\n",
            "Requirement already satisfied: requests in /usr/local/lib/python3.7/dist-packages (from torch-geometric) (2.23.0)\n",
            "Requirement already satisfied: pyparsing in /usr/local/lib/python3.7/dist-packages (from torch-geometric) (3.0.9)\n",
            "Requirement already satisfied: scikit-learn in /usr/local/lib/python3.7/dist-packages (from torch-geometric) (1.0.2)\n",
            "Requirement already satisfied: MarkupSafe>=0.23 in /usr/local/lib/python3.7/dist-packages (from jinja2->torch-geometric) (2.0.1)\n",
            "Requirement already satisfied: chardet<4,>=3.0.2 in /usr/local/lib/python3.7/dist-packages (from requests->torch-geometric) (3.0.4)\n",
            "Requirement already satisfied: certifi>=2017.4.17 in /usr/local/lib/python3.7/dist-packages (from requests->torch-geometric) (2022.6.15)\n",
            "Requirement already satisfied: idna<3,>=2.5 in /usr/local/lib/python3.7/dist-packages (from requests->torch-geometric) (2.10)\n",
            "Requirement already satisfied: urllib3!=1.25.0,!=1.25.1,<1.26,>=1.21.1 in /usr/local/lib/python3.7/dist-packages (from requests->torch-geometric) (1.24.3)\n",
            "Requirement already satisfied: threadpoolctl>=2.0.0 in /usr/local/lib/python3.7/dist-packages (from scikit-learn->torch-geometric) (3.1.0)\n",
            "Requirement already satisfied: joblib>=0.11 in /usr/local/lib/python3.7/dist-packages (from scikit-learn->torch-geometric) (1.1.0)\n",
            "Building wheels for collected packages: torch-geometric\n",
            "  Building wheel for torch-geometric (setup.py) ... \u001b[?25l\u001b[?25hdone\n",
            "  Created wheel for torch-geometric: filename=torch_geometric-2.1.0.post1-py3-none-any.whl size=689859 sha256=1f4480a8b7ad75c5225a29bf0ef1b5afd7007569bac7348e8caa9c837d3bcbd6\n",
            "  Stored in directory: /root/.cache/pip/wheels/d1/cb/43/f7f2e472de4d7cff31bceddadc36d634e1e545fbc17961c282\n",
            "Successfully built torch-geometric\n",
            "Installing collected packages: torch-geometric\n",
            "Successfully installed torch-geometric-2.1.0.post1\n"
          ]
        }
      ]
    },
    {
      "cell_type": "code",
      "source": [
        "from torch_geometric.datasets import Planetoid\n",
        "import torch\n",
        "import torch.nn.functional as F\n",
        "from torch_geometric.nn import MessagePassing\n",
        "from torch_geometric.utils import add_self_loops, degree\n",
        "import networkx as nx\n",
        "import numpy as np\n",
        "import matplotlib.pyplot as plt\n",
        "from tqdm import tqdm"
      ],
      "metadata": {
        "id": "PJqdawcjQ7mO"
      },
      "execution_count": 2,
      "outputs": []
    },
    {
      "cell_type": "code",
      "source": [
        "import random\n",
        "random.seed(10)"
      ],
      "metadata": {
        "id": "HlFhPCgyaD2C"
      },
      "execution_count": 12,
      "outputs": []
    },
    {
      "cell_type": "markdown",
      "source": [
        "# what we need"
      ],
      "metadata": {
        "id": "ZGOM4TuPfYot"
      }
    },
    {
      "cell_type": "code",
      "source": [
        "print(dataset.num_node_features,dataset.num_classes)\n",
        "data = dataset[0]\n",
        "x, edge_index = data.x, data.edge_index\n",
        "print(x.shape,edge_index.shape)\n",
        "print(data.train_mask,sum(data.train_mask))\n",
        "print(data.test_mask,sum(data.test_mask))\n",
        "print(data.y)"
      ],
      "metadata": {
        "id": "UoAZzg3OTVMq",
        "colab": {
          "base_uri": "https://localhost:8080/"
        },
        "outputId": "e0c993a8-6950-4dda-f030-e63d34ecbf0b"
      },
      "execution_count": 35,
      "outputs": [
        {
          "output_type": "stream",
          "name": "stdout",
          "text": [
            "1433 7\n",
            "torch.Size([2708, 1433]) torch.Size([2, 10556])\n",
            "tensor([ True,  True,  True,  ..., False, False, False]) tensor(140)\n",
            "tensor([False, False, False,  ...,  True,  True,  True]) tensor(1000)\n",
            "tensor([3, 4, 4,  ..., 3, 3, 3])\n"
          ]
        }
      ]
    },
    {
      "cell_type": "markdown",
      "source": [
        "## Graph Class"
      ],
      "metadata": {
        "id": "dCIwUB25DGl9"
      }
    },
    {
      "cell_type": "code",
      "source": [
        "class Graph:\n",
        "    def __init__(self,nV):\n",
        "        self.nV = nV\n",
        "        self.V = list(range(nV))\n",
        "        self.lenE = 0\n",
        "        self.VnV = [[] for i in range(nV)]\n",
        "        self.emV = []\n",
        "    \n",
        "    def add_edge(self,v1,v2,directed=False):\n",
        "        self.VnV[v1].append(v2)\n",
        "        if not directed:\n",
        "            self.VnV[v2].append(v1)\n",
        "        \n",
        "        self.lenE += 1\n",
        "\n",
        "    def add_self_loop(self):\n",
        "        for i in range(self.nV):\n",
        "            self.VnV[i].append(i)\n",
        "        self.lenE += self.nV\n",
        "\n",
        "    def create_embedding(self):\n",
        "        self.emV = []\n",
        "        for i in range(self.nV):\n",
        "            temp = [0 for i in range(self.nV)]\n",
        "            for j in self.VnV[i]:\n",
        "                temp[j] = 1\n",
        "            self.emV.append(temp[:])\n",
        "        return self.emV\n",
        "    \n",
        "    def create_embedding_based_on_input(self,edges):\n",
        "        self.emboi = np.zeros((self.nV,self.nV))\n",
        "        for i in range(len(edges[0])):\n",
        "            self.emboi[edges[0][i]][edges[1][i]] = 1\n",
        "        return self.emboi\n",
        "\n",
        "    def create_random_edges(self,index_list,num,avoid_self_loop=False,directed=False):\n",
        "        for i in range(num):\n",
        "            e1 = random.choice(index_list)\n",
        "            e2 = random.choice(index_list)\n",
        "            if avoid_self_loop:\n",
        "                while(e2 == e1):\n",
        "                     e2 = random.choice(index_list)\n",
        "            self.add_edge(e1,e2,directed=directed)\n",
        "    \n",
        "    def clear_redundant_edges(self):\n",
        "        self.lenE = 0\n",
        "        for i in range(len(self.VnV)):\n",
        "            self.VnV[i] = list(set(self.VnV[i]))\n",
        "            self.lenE += len(self.VnV[i])\n",
        "            self.lenE += i in self.VnV[i]\n",
        "        self.lenE/=2\n",
        "\n",
        "    def ask_nE(self,ifprint=False):\n",
        "        if ifprint:\n",
        "            print(int(self.lenE))\n",
        "        return int(self.lenE)\n",
        "    \n",
        "    def edge_index(self):\n",
        "        E1 = []\n",
        "        E2 = []\n",
        "        for i in range(self.nV):\n",
        "            for j in self.VnV[i]:\n",
        "                E1.append(i)\n",
        "                E2.append(j)\n",
        "        return [E1,E2]\n",
        "\n",
        "    def create_connected_component(self,index_list,nE):\n",
        "        n = max(nE-len(index_list),0)\n",
        "        fill = [index_list[0],index_list[1]]\n",
        "        self.add_edge(index_list[0],index_list[1])\n",
        "        for i in range(3,len(index_list)):\n",
        "            fill.append(index_list[i])\n",
        "            self.add_edge(index_list[i],random.choice(fill))\n",
        "        \n",
        "        for i in range(n):\n",
        "            self.add_edge(random.choice(fill),random.choice(fill))\n",
        "\n",
        "g = Graph(10)\n",
        "g.add_edge(1,2)\n",
        "g.add_edge(0,1)\n",
        "g.add_edge(3,4)\n",
        "g.create_random_edges(list(range(5,10)),7)\n",
        "g.add_self_loop()\n",
        "g.clear_redundant_edges()\n",
        "g.ask_nE(True)\n",
        "print(g.edge_index())\n",
        "g.create_embedding()\n"
      ],
      "metadata": {
        "id": "78AOR09EIejU",
        "outputId": "b5ba6225-d0d3-4ca8-9377-406edc82f573",
        "colab": {
          "base_uri": "https://localhost:8080/"
        }
      },
      "execution_count": 185,
      "outputs": [
        {
          "output_type": "stream",
          "name": "stdout",
          "text": [
            "18\n",
            "[[0, 0, 1, 1, 1, 2, 2, 3, 3, 4, 4, 5, 5, 5, 5, 6, 6, 6, 7, 7, 7, 8, 8, 8, 9, 9], [0, 1, 0, 1, 2, 1, 2, 3, 4, 3, 4, 8, 9, 5, 7, 8, 6, 7, 5, 6, 7, 8, 5, 6, 9, 5]]\n"
          ]
        },
        {
          "output_type": "execute_result",
          "data": {
            "text/plain": [
              "[[1, 1, 0, 0, 0, 0, 0, 0, 0, 0],\n",
              " [1, 1, 1, 0, 0, 0, 0, 0, 0, 0],\n",
              " [0, 1, 1, 0, 0, 0, 0, 0, 0, 0],\n",
              " [0, 0, 0, 1, 1, 0, 0, 0, 0, 0],\n",
              " [0, 0, 0, 1, 1, 0, 0, 0, 0, 0],\n",
              " [0, 0, 0, 0, 0, 1, 0, 1, 1, 1],\n",
              " [0, 0, 0, 0, 0, 0, 1, 1, 1, 0],\n",
              " [0, 0, 0, 0, 0, 1, 1, 1, 0, 0],\n",
              " [0, 0, 0, 0, 0, 1, 1, 0, 1, 0],\n",
              " [0, 0, 0, 0, 0, 1, 0, 0, 0, 1]]"
            ]
          },
          "metadata": {},
          "execution_count": 185
        }
      ]
    },
    {
      "cell_type": "markdown",
      "source": [
        "# create dataset"
      ],
      "metadata": {
        "id": "a_62YJN5fb9N"
      }
    },
    {
      "cell_type": "code",
      "source": [
        "class Data:\n",
        "    def __init__(self,g):\n",
        "        self.x = np.array(g.create_embedding())\n",
        "        self.num_node_features = g.nV\n",
        "        self.edge_index = np.array(g.edge_index())\n",
        "\n",
        "    def create_mask(self,train_ratio=0.7):\n",
        "        self.test_mask = []\n",
        "        self.train_mask = []\n",
        "        for i in range(len(self.edge_index[0])):\n",
        "            if random.random()>train_ratio:\n",
        "                self.test_mask.append(True)\n",
        "                self.train_mask.append(False)\n",
        "\n",
        "            else:\n",
        "                self.train_mask.append(True)\n",
        "                self.test_mask.append(False)\n",
        "\n",
        "\n",
        "    def safe_create_mask(self,train_ratio=0.7):\n",
        "        self.test_mask = []\n",
        "        self.train_mask = []\n",
        "        last_train = -1\n",
        "        for i in range(len(self.edge_index[0])):\n",
        "            if last_train != self.edge_index[0][i]:\n",
        "                last_train = self.edge_index[0][i]\n",
        "                self.train_mask.append(True)\n",
        "                self.test_mask.append(False)\n",
        "\n",
        "            elif random.random()>train_ratio:\n",
        "                self.test_mask.append(True)\n",
        "                self.train_mask.append(False)\n",
        "            else:\n",
        "                self.train_mask.append(True)\n",
        "                self.test_mask.append(False)\n",
        "\n"
      ],
      "metadata": {
        "id": "fHDZ7uT3ct2_"
      },
      "execution_count": 186,
      "outputs": []
    },
    {
      "cell_type": "code",
      "source": [
        "data = Data(g)#g is Graph obj"
      ],
      "metadata": {
        "id": "IqNUfqFafmmu"
      },
      "execution_count": 187,
      "outputs": []
    },
    {
      "cell_type": "code",
      "source": [
        "print(data.num_node_features)\n",
        "x, edge_index = data.x, data.edge_index\n",
        "print(x.shape,edge_index.shape)\n",
        "\n",
        "data.create_mask()\n",
        "print(sum(data.train_mask))\n",
        "print(sum(data.test_mask))\n",
        "\n",
        "data.safe_create_mask()\n",
        "print(sum(data.train_mask))\n",
        "print(sum(data.test_mask))"
      ],
      "metadata": {
        "colab": {
          "base_uri": "https://localhost:8080/"
        },
        "id": "QUp-W0_2cuPg",
        "outputId": "0ce144a8-7271-4766-f182-062c2d776ff4"
      },
      "execution_count": 188,
      "outputs": [
        {
          "output_type": "stream",
          "name": "stdout",
          "text": [
            "10\n",
            "(10, 10) (2, 26)\n",
            "16\n",
            "10\n",
            "22\n",
            "4\n"
          ]
        }
      ]
    },
    {
      "cell_type": "markdown",
      "source": [
        "# test above parts"
      ],
      "metadata": {
        "id": "yqX3MC0Glpwl"
      }
    },
    {
      "cell_type": "code",
      "source": [
        "g = Graph(30)\n",
        "g.create_random_edges(list(range(10)),7)\n",
        "g.create_random_edges(list(range(10,20)),27)\n",
        "g.create_random_edges(list(range(20,30)),17)\n",
        "\n",
        "g.add_self_loop()\n",
        "g.clear_redundant_edges()\n",
        "g.ask_nE(True)\n",
        "# g.create_embedding()"
      ],
      "metadata": {
        "colab": {
          "base_uri": "https://localhost:8080/"
        },
        "id": "6BI5_SRMcuSZ",
        "outputId": "06308eaa-c4e9-4f7e-99f6-1d64665ad207"
      },
      "execution_count": 189,
      "outputs": [
        {
          "output_type": "stream",
          "name": "stdout",
          "text": [
            "65\n"
          ]
        },
        {
          "output_type": "execute_result",
          "data": {
            "text/plain": [
              "65"
            ]
          },
          "metadata": {},
          "execution_count": 189
        }
      ]
    },
    {
      "cell_type": "code",
      "source": [
        "data = Data(g)#g is Graph obj\n",
        "\n",
        "print(data.num_node_features)\n",
        "x, edge_index = data.x, data.edge_index\n",
        "print(x.shape,edge_index.shape)\n",
        "\n",
        "data.create_mask()\n",
        "print(sum(data.train_mask))\n",
        "print(sum(data.test_mask))\n",
        "\n",
        "data.safe_create_mask()\n",
        "print(sum(data.train_mask))\n",
        "print(sum(data.test_mask))"
      ],
      "metadata": {
        "colab": {
          "base_uri": "https://localhost:8080/"
        },
        "id": "jl44lHhNcuVB",
        "outputId": "e7cedc9c-ae32-43f4-9461-9d823c02a2ad"
      },
      "execution_count": 190,
      "outputs": [
        {
          "output_type": "stream",
          "name": "stdout",
          "text": [
            "30\n",
            "(30, 30) (2, 100)\n",
            "72\n",
            "28\n",
            "80\n",
            "20\n"
          ]
        }
      ]
    },
    {
      "cell_type": "code",
      "source": [
        "from matplotlib import pyplot as plt\n",
        "em = g.create_embedding()\n",
        "plt.imshow(em);plt.show()"
      ],
      "metadata": {
        "colab": {
          "base_uri": "https://localhost:8080/",
          "height": 266
        },
        "id": "pd4ipGgGcuYP",
        "outputId": "e1a4c63e-96af-40fe-9be9-f0681d7b9a2a"
      },
      "execution_count": 191,
      "outputs": [
        {
          "output_type": "display_data",
          "data": {
            "text/plain": [
              "<Figure size 432x288 with 1 Axes>"
            ],
            "image/png": "[encoded data removed]"
          },
          "metadata": {
            "needs_background": "light"
          }
        }
      ]
    },
    {
      "cell_type": "code",
      "source": [
        "g = Graph(50)\n",
        "g.create_connected_component(list(range(10)),17)\n",
        "g.create_connected_component(list(range(10,25)),47)\n",
        "g.create_connected_component(list(range(25,50)),67)\n",
        "\n",
        "g.add_self_loop()\n",
        "g.clear_redundant_edges()\n",
        "g.ask_nE(True)\n",
        "# g.create_embedding()"
      ],
      "metadata": {
        "colab": {
          "base_uri": "https://localhost:8080/"
        },
        "id": "60v_IoUycubz",
        "outputId": "95ec6f74-b2c7-484d-c56f-f49a8b5a991e"
      },
      "execution_count": 192,
      "outputs": [
        {
          "output_type": "stream",
          "name": "stdout",
          "text": [
            "145\n"
          ]
        },
        {
          "output_type": "execute_result",
          "data": {
            "text/plain": [
              "145"
            ]
          },
          "metadata": {},
          "execution_count": 192
        }
      ]
    },
    {
      "cell_type": "code",
      "source": [
        "em = g.create_embedding()\n",
        "plt.imshow(em);plt.show()"
      ],
      "metadata": {
        "colab": {
          "base_uri": "https://localhost:8080/",
          "height": 267
        },
        "id": "zolR0PGecuen",
        "outputId": "35dbb2ae-22cb-4d68-e3c4-46963963282c"
      },
      "execution_count": 193,
      "outputs": [
        {
          "output_type": "display_data",
          "data": {
            "text/plain": [
              "<Figure size 432x288 with 1 Axes>"
            ],
            "image/png": "[encoded data removed]"
          },
          "metadata": {
            "needs_background": "light"
          }
        }
      ]
    },
    {
      "cell_type": "code",
      "source": [
        "data = Data(g)#g is Graph obj\n",
        "\n",
        "print(data.num_node_features)\n",
        "x, edge_index = data.x, data.edge_index\n",
        "print(x.shape,edge_index.shape)\n",
        "\n",
        "data.create_mask()\n",
        "print(sum(data.train_mask))\n",
        "print(sum(data.test_mask))\n",
        "\n",
        "data.safe_create_mask()\n",
        "print(sum(data.train_mask))\n",
        "print(sum(data.test_mask))"
      ],
      "metadata": {
        "colab": {
          "base_uri": "https://localhost:8080/"
        },
        "id": "1JuTUiykcuhn",
        "outputId": "76315de4-9e1c-485c-ea40-12db16f9dda5"
      },
      "execution_count": 194,
      "outputs": [
        {
          "output_type": "stream",
          "name": "stdout",
          "text": [
            "50\n",
            "(50, 50) (2, 240)\n",
            "167\n",
            "73\n",
            "190\n",
            "50\n"
          ]
        }
      ]
    },
    {
      "cell_type": "code",
      "source": [
        "train = np.array([data.edge_index[0][data.train_mask],data.edge_index[1][data.train_mask]])\n",
        "test = np.array([data.edge_index[0][data.test_mask],data.edge_index[1][data.test_mask]])"
      ],
      "metadata": {
        "id": "dxBWP77NoW_E"
      },
      "execution_count": 258,
      "outputs": []
    },
    {
      "cell_type": "code",
      "source": [
        "train,test"
      ],
      "metadata": {
        "colab": {
          "base_uri": "https://localhost:8080/"
        },
        "id": "SoOMuzycqRJz",
        "outputId": "9d3b86aa-d57b-4f12-a6d5-5a14c78ca416"
      },
      "execution_count": 259,
      "outputs": [
        {
          "output_type": "execute_result",
          "data": {
            "text/plain": [
              "(array([[ 0,  0,  0,  1,  1,  1,  1,  2,  3,  3,  3,  4,  4,  4,  5,  5,\n",
              "          6,  6,  6,  7,  7,  8,  8,  8,  9,  9, 10, 10, 10, 10, 11, 11,\n",
              "         11, 11, 11, 12, 13, 13, 13, 14, 14, 14, 15, 15, 16, 16, 16, 17,\n",
              "         17, 17, 17, 17, 17, 18, 18, 18, 18, 18, 19, 19, 20, 20, 20, 20,\n",
              "         20, 20, 21, 21, 21, 21, 21, 22, 22, 22, 22, 23, 23, 23, 24, 24,\n",
              "         24, 25, 25, 25, 26, 26, 26, 26, 26, 26, 27, 28, 28, 28, 28, 28,\n",
              "         29, 29, 29, 29, 29, 29, 30, 30, 30, 31, 31, 31, 31, 31, 32, 32,\n",
              "         32, 32, 32, 32, 33, 33, 33, 33, 33, 33, 34, 34, 34, 35, 35, 35,\n",
              "         36, 36, 36, 36, 36, 36, 37, 37, 37, 37, 37, 37, 38, 38, 38, 38,\n",
              "         38, 38, 39, 39, 39, 39, 39, 39, 40, 40, 40, 40, 41, 41, 41, 42,\n",
              "         42, 42, 42, 42, 42, 43, 43, 43, 43, 43, 43, 44, 44, 44, 44, 44,\n",
              "         44, 44, 45, 45, 46, 46, 46, 47, 48, 48, 48, 49, 49, 49],\n",
              "        [ 0,  1,  3,  0,  1,  3,  6,  2,  0,  3,  7,  8,  4,  9,  8,  5,\n",
              "          8,  1,  6,  3,  7,  8,  5,  6,  9,  4, 10, 13, 17, 21, 10, 14,\n",
              "         15, 16, 17, 12, 10, 14, 19, 11, 14, 22, 10, 13, 16, 11, 20, 10,\n",
              "         11, 17, 18, 23, 24, 17, 18, 20, 21, 22, 21, 19, 10, 13, 16, 18,\n",
              "         20, 23, 10, 14, 19, 21, 23, 11, 14, 18, 22, 17, 20, 23, 24, 17,\n",
              "         22, 41, 25, 29, 32, 39, 46, 48, 28, 31, 27, 40, 44, 26, 28, 29,\n",
              "         32, 33, 43, 25, 28, 29, 43, 26, 35, 32, 36, 42, 26, 31, 32, 36,\n",
              "         41, 26, 29, 31, 32, 33, 38, 44, 29, 31, 34, 40, 42, 38, 49, 30,\n",
              "         32, 36, 42, 44, 45, 31, 34, 37, 39, 40, 41, 26, 33, 35, 39, 44,\n",
              "         46, 48, 34, 37, 38, 39, 44, 26, 40, 34, 28, 37, 32, 41, 44, 34,\n",
              "         36, 39, 42, 43, 31, 42, 43, 25, 28, 29, 30, 33, 36, 38, 39, 41,\n",
              "         44, 28, 36, 45, 46, 33, 26, 39, 48, 49, 26, 48, 49, 35]]),\n",
              " array([[ 1,  3,  3,  4,  6,  8, 10, 10, 10, 10, 11, 11, 11, 13, 13, 13,\n",
              "         13, 14, 14, 15, 15, 19, 21, 22, 23, 24, 25, 25, 26, 26, 26, 26,\n",
              "         28, 29, 30, 31, 32, 33, 34, 34, 34, 35, 38, 39, 39, 41, 41, 46,\n",
              "         47, 48],\n",
              "        [ 4,  1,  6,  1,  3,  4, 11, 15, 20, 24, 11, 13, 22, 11, 13, 15,\n",
              "         20, 13, 21, 11, 15, 13, 18, 24, 21, 10, 43, 26, 37, 25, 26, 30,\n",
              "         43, 34, 30, 33, 33, 46, 37, 39, 29, 35, 38, 42, 47, 37, 25, 38,\n",
              "         47, 38]]))"
            ]
          },
          "metadata": {},
          "execution_count": 259
        }
      ]
    },
    {
      "cell_type": "code",
      "source": [
        "etrain = g.create_embedding_based_on_input(train)\n",
        "etest = g.create_embedding_based_on_input(test)"
      ],
      "metadata": {
        "id": "mH0G23IDouok"
      },
      "execution_count": 260,
      "outputs": []
    },
    {
      "cell_type": "code",
      "source": [
        "etrain[0]"
      ],
      "metadata": {
        "colab": {
          "base_uri": "https://localhost:8080/"
        },
        "id": "xxQRk9uUqLH7",
        "outputId": "c527a9b4-25b1-418b-d7fa-148fc5b5a0cc"
      },
      "execution_count": 261,
      "outputs": [
        {
          "output_type": "execute_result",
          "data": {
            "text/plain": [
              "array([1., 1., 0., 1., 0., 0., 0., 0., 0., 0., 0., 0., 0., 0., 0., 0., 0.,\n",
              "       0., 0., 0., 0., 0., 0., 0., 0., 0., 0., 0., 0., 0., 0., 0., 0., 0.,\n",
              "       0., 0., 0., 0., 0., 0., 0., 0., 0., 0., 0., 0., 0., 0., 0., 0.])"
            ]
          },
          "metadata": {},
          "execution_count": 261
        }
      ]
    },
    {
      "cell_type": "code",
      "source": [
        "plt.imshow(etrain);plt.show();\n",
        "plt.imshow(etest);plt.show();\n",
        "plt.imshow(etest+etrain);plt.show();"
      ],
      "metadata": {
        "colab": {
          "base_uri": "https://localhost:8080/",
          "height": 767
        },
        "id": "WtyEnSdGo0UD",
        "outputId": "12fda7bf-b8cc-4ce7-ccff-b8d2c1c24d04"
      },
      "execution_count": 262,
      "outputs": [
        {
          "output_type": "display_data",
          "data": {
            "text/plain": [
              "<Figure size 432x288 with 1 Axes>"
            ],
            "image/png": "[encoded data removed]"
          },
          "metadata": {
            "needs_background": "light"
          }
        },
        {
          "output_type": "display_data",
          "data": {
            "text/plain": [
              "<Figure size 432x288 with 1 Axes>"
            ],
            "image/png": "[encoded data removed]"
          },
          "metadata": {
            "needs_background": "light"
          }
        },
        {
          "output_type": "display_data",
          "data": {
            "text/plain": [
              "<Figure size 432x288 with 1 Axes>"
            ],
            "image/png": "[encoded data removed]"
          },
          "metadata": {
            "needs_background": "light"
          }
        }
      ]
    },
    {
      "cell_type": "markdown",
      "source": [
        "now we have:\n",
        "\n",
        "* train: edges\n",
        "* test: edges\n",
        "* etrain: matrix"
      ],
      "metadata": {
        "id": "vyiOlYznr5j9"
      }
    },
    {
      "cell_type": "code",
      "source": [
        "print(train)\n",
        "print(test)\n",
        "print(etrain[:10,:10])"
      ],
      "metadata": {
        "colab": {
          "base_uri": "https://localhost:8080/"
        },
        "id": "XLViYo4FqInj",
        "outputId": "29247a6a-21cc-4e80-cedc-4f652eab2c56"
      },
      "execution_count": 263,
      "outputs": [
        {
          "output_type": "stream",
          "name": "stdout",
          "text": [
            "[[ 0  0  0  1  1  1  1  2  3  3  3  4  4  4  5  5  6  6  6  7  7  8  8  8\n",
            "   9  9 10 10 10 10 11 11 11 11 11 12 13 13 13 14 14 14 15 15 16 16 16 17\n",
            "  17 17 17 17 17 18 18 18 18 18 19 19 20 20 20 20 20 20 21 21 21 21 21 22\n",
            "  22 22 22 23 23 23 24 24 24 25 25 25 26 26 26 26 26 26 27 28 28 28 28 28\n",
            "  29 29 29 29 29 29 30 30 30 31 31 31 31 31 32 32 32 32 32 32 33 33 33 33\n",
            "  33 33 34 34 34 35 35 35 36 36 36 36 36 36 37 37 37 37 37 37 38 38 38 38\n",
            "  38 38 39 39 39 39 39 39 40 40 40 40 41 41 41 42 42 42 42 42 42 43 43 43\n",
            "  43 43 43 44 44 44 44 44 44 44 45 45 46 46 46 47 48 48 48 49 49 49]\n",
            " [ 0  1  3  0  1  3  6  2  0  3  7  8  4  9  8  5  8  1  6  3  7  8  5  6\n",
            "   9  4 10 13 17 21 10 14 15 16 17 12 10 14 19 11 14 22 10 13 16 11 20 10\n",
            "  11 17 18 23 24 17 18 20 21 22 21 19 10 13 16 18 20 23 10 14 19 21 23 11\n",
            "  14 18 22 17 20 23 24 17 22 41 25 29 32 39 46 48 28 31 27 40 44 26 28 29\n",
            "  32 33 43 25 28 29 43 26 35 32 36 42 26 31 32 36 41 26 29 31 32 33 38 44\n",
            "  29 31 34 40 42 38 49 30 32 36 42 44 45 31 34 37 39 40 41 26 33 35 39 44\n",
            "  46 48 34 37 38 39 44 26 40 34 28 37 32 41 44 34 36 39 42 43 31 42 43 25\n",
            "  28 29 30 33 36 38 39 41 44 28 36 45 46 33 26 39 48 49 26 48 49 35]]\n",
            "[[ 1  3  3  4  6  8 10 10 10 10 11 11 11 13 13 13 13 14 14 15 15 19 21 22\n",
            "  23 24 25 25 26 26 26 26 28 29 30 31 32 33 34 34 34 35 38 39 39 41 41 46\n",
            "  47 48]\n",
            " [ 4  1  6  1  3  4 11 15 20 24 11 13 22 11 13 15 20 13 21 11 15 13 18 24\n",
            "  21 10 43 26 37 25 26 30 43 34 30 33 33 46 37 39 29 35 38 42 47 37 25 38\n",
            "  47 38]]\n",
            "[[1. 1. 0. 1. 0. 0. 0. 0. 0. 0.]\n",
            " [1. 1. 0. 1. 0. 0. 1. 0. 0. 0.]\n",
            " [0. 0. 1. 0. 0. 0. 0. 0. 0. 0.]\n",
            " [1. 0. 0. 1. 0. 0. 0. 1. 0. 0.]\n",
            " [0. 0. 0. 0. 1. 0. 0. 0. 1. 1.]\n",
            " [0. 0. 0. 0. 0. 1. 0. 0. 1. 0.]\n",
            " [0. 1. 0. 0. 0. 0. 1. 0. 1. 0.]\n",
            " [0. 0. 0. 1. 0. 0. 0. 1. 0. 0.]\n",
            " [0. 0. 0. 0. 0. 1. 1. 0. 1. 0.]\n",
            " [0. 0. 0. 0. 1. 0. 0. 0. 0. 1.]]\n"
          ]
        }
      ]
    },
    {
      "cell_type": "markdown",
      "source": [
        "# function for cf and etc."
      ],
      "metadata": {
        "id": "znLYeT1zsRW1"
      }
    },
    {
      "cell_type": "code",
      "source": [
        "def edge_convertor(edges):\n",
        "    temp = []\n",
        "    for i in range(len(edges[0])):\n",
        "        temp.append([edges[0][i],edges[1][i]])\n",
        "    return temp"
      ],
      "metadata": {
        "id": "rvbUgbgtsZkq"
      },
      "execution_count": 264,
      "outputs": []
    },
    {
      "cell_type": "code",
      "source": [
        "def negative_sampler(n1,edges,nodes):\n",
        "    \n",
        "    n2 = random.choice(nodes)\n",
        "    while [n1,n2] in edges:\n",
        "           \n",
        "        n2 = random.choice(nodes)\n",
        "    return [n1,n2]"
      ],
      "metadata": {
        "id": "6lHfY9vusVF8"
      },
      "execution_count": 265,
      "outputs": []
    },
    {
      "cell_type": "code",
      "source": [
        "def euclidean_distance(x,y):\n",
        "    return sum((x-y)**2)**0.5/(sum(abs(x))*sum(abs(y)))"
      ],
      "metadata": {
        "id": "CZoI0yOStPQc"
      },
      "execution_count": 266,
      "outputs": []
    },
    {
      "cell_type": "code",
      "source": [
        "def distance_ranker(item,l):\n",
        "    s = 1\n",
        "    for i in l:\n",
        "        if item>i:\n",
        "            s+=1 \n",
        "    return s"
      ],
      "metadata": {
        "id": "LhsP1aNLvnCM"
      },
      "execution_count": 267,
      "outputs": []
    },
    {
      "cell_type": "code",
      "source": [
        "raw_train,raw_test = train[:],test[:]  "
      ],
      "metadata": {
        "id": "aBvAVM-lwAap"
      },
      "execution_count": 268,
      "outputs": []
    },
    {
      "cell_type": "markdown",
      "source": [
        "#model 1: simple Cf"
      ],
      "metadata": {
        "id": "VeIv7wtcsNiT"
      }
    },
    {
      "cell_type": "code",
      "source": [
        "test = edge_convertor(raw_test)\n",
        "train = edge_convertor(raw_train)\n",
        "tt = test+train\n",
        "nodes = g.V\n",
        "top1 = 0\n",
        "top3 = 0\n",
        "avg = 0\n",
        "counter_=0\n",
        "for sample in tqdm(train):\n",
        "    pos = sample\n",
        "    negs = []\n",
        "    for i in range(10):\n",
        "        neg = negative_sampler(pos[0],tt,nodes)\n",
        "        negs.append(neg)\n",
        "    dp = euclidean_distance(etrain[pos[0]],etrain[pos[1]])\n",
        "    dn = [euclidean_distance(etrain[neg[0]],etrain[neg[1]]) for neg in negs]\n",
        "\n",
        "    r = distance_ranker(dp,dn)\n",
        "    if r<2:\n",
        "        top1+=1\n",
        "    if r<4:\n",
        "        top3+=1\n",
        "    avg+=r\n",
        "    counter_+=1\n",
        "\n",
        "print('\\ntrain:\\n',top1,top3,avg/counter_)\n",
        "\n",
        "top1 = 0\n",
        "top3 = 0\n",
        "avg = 0\n",
        "counter_=0\n",
        "for sample in tqdm(test):\n",
        "    pos = sample\n",
        "    negs = []\n",
        "    for i in range(10):\n",
        "        neg = negative_sampler(pos[0],tt,nodes)\n",
        "        negs.append(neg)\n",
        "    dp = euclidean_distance(etrain[pos[0]],etrain[pos[1]])\n",
        "    dn = [euclidean_distance(etrain[neg[0]],etrain[neg[1]]) for neg in negs]\n",
        "\n",
        "    r = distance_ranker(dp,dn)\n",
        "    if r<2:\n",
        "        top1+=1\n",
        "    if r<4:\n",
        "        top3+=1\n",
        "    avg+=r\n",
        "    counter_+=1\n",
        "\n",
        "print('\\ntest:\\n',top1,top3,avg/counter_)"
      ],
      "metadata": {
        "colab": {
          "base_uri": "https://localhost:8080/"
        },
        "id": "TIYo4aVprz0U",
        "outputId": "ad4f9f6e-c80c-4c8a-bf20-ec1b5260f005"
      },
      "execution_count": 269,
      "outputs": [
        {
          "output_type": "stream",
          "name": "stderr",
          "text": [
            "100%|██████████| 190/190 [00:00<00:00, 3288.84it/s]\n"
          ]
        },
        {
          "output_type": "stream",
          "name": "stdout",
          "text": [
            "\n",
            "train:\n",
            " 127 150 2.1894736842105265\n"
          ]
        },
        {
          "output_type": "stream",
          "name": "stderr",
          "text": [
            "100%|██████████| 50/50 [00:00<00:00, 2419.89it/s]"
          ]
        },
        {
          "output_type": "stream",
          "name": "stdout",
          "text": [
            "\n",
            "test:\n",
            " 24 30 3.16\n"
          ]
        },
        {
          "output_type": "stream",
          "name": "stderr",
          "text": [
            "\n"
          ]
        }
      ]
    },
    {
      "cell_type": "markdown",
      "source": [
        "# next phases\n",
        "* test light_GCN\n",
        "* test light_GCN with leakage\n",
        "* test GCN\n",
        "* test GCN with leakage"
      ],
      "metadata": {
        "id": "1r-SVrk_xtY5"
      }
    },
    {
      "cell_type": "code",
      "source": [],
      "metadata": {
        "colab": {
          "base_uri": "https://localhost:8080/"
        },
        "id": "q69wVnDIvK3q",
        "outputId": "25eb2a86-0aa5-4431-f4fb-921bea89d1df"
      },
      "execution_count": 270,
      "outputs": [
        {
          "output_type": "execute_result",
          "data": {
            "text/plain": [
              "[48, 38]"
            ]
          },
          "metadata": {},
          "execution_count": 270
        }
      ]
    },
    {
      "cell_type": "code",
      "source": [],
      "metadata": {
        "colab": {
          "base_uri": "https://localhost:8080/"
        },
        "id": "7OOwxP-KvVwx",
        "outputId": "0e1d2119-66a3-4efc-f563-0fa6e195818b"
      },
      "execution_count": 271,
      "outputs": [
        {
          "output_type": "execute_result",
          "data": {
            "text/plain": [
              "48"
            ]
          },
          "metadata": {},
          "execution_count": 271
        }
      ]
    },
    {
      "cell_type": "code",
      "source": [],
      "metadata": {
        "colab": {
          "base_uri": "https://localhost:8080/"
        },
        "id": "HO3h8pMtvWt5",
        "outputId": "ed779d90-41bb-4993-c08f-b35d0511c6e0"
      },
      "execution_count": 272,
      "outputs": [
        {
          "output_type": "execute_result",
          "data": {
            "text/plain": [
              "38"
            ]
          },
          "metadata": {},
          "execution_count": 272
        }
      ]
    },
    {
      "cell_type": "code",
      "source": [],
      "metadata": {
        "id": "_p-rt5OuvXqi"
      },
      "execution_count": 272,
      "outputs": []
    }
  ]
}